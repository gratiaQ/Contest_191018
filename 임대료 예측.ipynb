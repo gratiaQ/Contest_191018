{
 "cells": [
  {
   "cell_type": "code",
   "execution_count": 21,
   "metadata": {},
   "outputs": [],
   "source": [
    "import pandas as pd\n",
    "import numpy as np"
   ]
  },
  {
   "cell_type": "code",
   "execution_count": 22,
   "metadata": {},
   "outputs": [],
   "source": [
    "vacancy_df = pd.read_csv('../Train_2.csv', encoding= 'ansi')"
   ]
  },
  {
   "cell_type": "code",
   "execution_count": 23,
   "metadata": {},
   "outputs": [
    {
     "name": "stdout",
     "output_type": "stream",
     "text": [
      "데이터 세트의 Shape: (6025, 69)\n"
     ]
    }
   ],
   "source": [
    "print('데이터 세트의 Shape:', vacancy_df.shape)"
   ]
  },
  {
   "cell_type": "code",
   "execution_count": 24,
   "metadata": {},
   "outputs": [
    {
     "data": {
      "text/html": [
       "<div>\n",
       "<style scoped>\n",
       "    .dataframe tbody tr th:only-of-type {\n",
       "        vertical-align: middle;\n",
       "    }\n",
       "\n",
       "    .dataframe tbody tr th {\n",
       "        vertical-align: top;\n",
       "    }\n",
       "\n",
       "    .dataframe thead th {\n",
       "        text-align: right;\n",
       "    }\n",
       "</style>\n",
       "<table border=\"1\" class=\"dataframe\">\n",
       "  <thead>\n",
       "    <tr style=\"text-align: right;\">\n",
       "      <th></th>\n",
       "      <th>X1</th>\n",
       "      <th>X2</th>\n",
       "      <th>X3</th>\n",
       "      <th>X4</th>\n",
       "      <th>X5</th>\n",
       "      <th>X6</th>\n",
       "      <th>X7</th>\n",
       "      <th>X8</th>\n",
       "      <th>X9</th>\n",
       "      <th>X10</th>\n",
       "      <th>...</th>\n",
       "      <th>X60</th>\n",
       "      <th>X61</th>\n",
       "      <th>X62</th>\n",
       "      <th>X63</th>\n",
       "      <th>X64</th>\n",
       "      <th>X65</th>\n",
       "      <th>X66</th>\n",
       "      <th>X67</th>\n",
       "      <th>X68</th>\n",
       "      <th>Y</th>\n",
       "    </tr>\n",
       "  </thead>\n",
       "  <tbody>\n",
       "    <tr>\n",
       "      <th>0</th>\n",
       "      <td>173660</td>\n",
       "      <td>96866</td>\n",
       "      <td>76793</td>\n",
       "      <td>6356</td>\n",
       "      <td>52613</td>\n",
       "      <td>39480</td>\n",
       "      <td>32053</td>\n",
       "      <td>28652</td>\n",
       "      <td>14507</td>\n",
       "      <td>1314</td>\n",
       "      <td>...</td>\n",
       "      <td>2.651221e+09</td>\n",
       "      <td>1.261880e+09</td>\n",
       "      <td>2.020032e+09</td>\n",
       "      <td>1.600597e+09</td>\n",
       "      <td>141199</td>\n",
       "      <td>67904</td>\n",
       "      <td>118723</td>\n",
       "      <td>84751</td>\n",
       "      <td>110</td>\n",
       "      <td>50.2</td>\n",
       "    </tr>\n",
       "    <tr>\n",
       "      <th>1</th>\n",
       "      <td>209238</td>\n",
       "      <td>107003</td>\n",
       "      <td>102237</td>\n",
       "      <td>11228</td>\n",
       "      <td>45589</td>\n",
       "      <td>47885</td>\n",
       "      <td>44694</td>\n",
       "      <td>40624</td>\n",
       "      <td>19212</td>\n",
       "      <td>2514</td>\n",
       "      <td>...</td>\n",
       "      <td>1.396338e+09</td>\n",
       "      <td>6.259459e+08</td>\n",
       "      <td>9.079470e+08</td>\n",
       "      <td>6.824956e+08</td>\n",
       "      <td>60820</td>\n",
       "      <td>29820</td>\n",
       "      <td>50400</td>\n",
       "      <td>31521</td>\n",
       "      <td>63</td>\n",
       "      <td>50.2</td>\n",
       "    </tr>\n",
       "    <tr>\n",
       "      <th>2</th>\n",
       "      <td>478882</td>\n",
       "      <td>243693</td>\n",
       "      <td>235189</td>\n",
       "      <td>24111</td>\n",
       "      <td>83630</td>\n",
       "      <td>112851</td>\n",
       "      <td>109472</td>\n",
       "      <td>97958</td>\n",
       "      <td>50859</td>\n",
       "      <td>3743</td>\n",
       "      <td>...</td>\n",
       "      <td>5.488857e+09</td>\n",
       "      <td>1.855414e+09</td>\n",
       "      <td>3.330348e+09</td>\n",
       "      <td>3.451869e+09</td>\n",
       "      <td>285521</td>\n",
       "      <td>107030</td>\n",
       "      <td>215844</td>\n",
       "      <td>161208</td>\n",
       "      <td>219</td>\n",
       "      <td>50.2</td>\n",
       "    </tr>\n",
       "    <tr>\n",
       "      <th>3</th>\n",
       "      <td>1078154</td>\n",
       "      <td>556415</td>\n",
       "      <td>521736</td>\n",
       "      <td>63220</td>\n",
       "      <td>353808</td>\n",
       "      <td>235924</td>\n",
       "      <td>168800</td>\n",
       "      <td>157170</td>\n",
       "      <td>99228</td>\n",
       "      <td>1577</td>\n",
       "      <td>...</td>\n",
       "      <td>4.821905e+10</td>\n",
       "      <td>2.646531e+10</td>\n",
       "      <td>3.380276e+10</td>\n",
       "      <td>3.800171e+10</td>\n",
       "      <td>2571027</td>\n",
       "      <td>1394990</td>\n",
       "      <td>1784205</td>\n",
       "      <td>2117802</td>\n",
       "      <td>712</td>\n",
       "      <td>50.2</td>\n",
       "    </tr>\n",
       "    <tr>\n",
       "      <th>4</th>\n",
       "      <td>79702</td>\n",
       "      <td>48450</td>\n",
       "      <td>31256</td>\n",
       "      <td>3792</td>\n",
       "      <td>32157</td>\n",
       "      <td>16778</td>\n",
       "      <td>13658</td>\n",
       "      <td>10164</td>\n",
       "      <td>3155</td>\n",
       "      <td>578</td>\n",
       "      <td>...</td>\n",
       "      <td>3.334280e+09</td>\n",
       "      <td>1.056871e+09</td>\n",
       "      <td>2.203635e+09</td>\n",
       "      <td>1.687361e+09</td>\n",
       "      <td>264219</td>\n",
       "      <td>81132</td>\n",
       "      <td>186809</td>\n",
       "      <td>141214</td>\n",
       "      <td>110</td>\n",
       "      <td>50.2</td>\n",
       "    </tr>\n",
       "  </tbody>\n",
       "</table>\n",
       "<p>5 rows × 69 columns</p>\n",
       "</div>"
      ],
      "text/plain": [
       "        X1      X2      X3     X4      X5      X6      X7      X8     X9  \\\n",
       "0   173660   96866   76793   6356   52613   39480   32053   28652  14507   \n",
       "1   209238  107003  102237  11228   45589   47885   44694   40624  19212   \n",
       "2   478882  243693  235189  24111   83630  112851  109472   97958  50859   \n",
       "3  1078154  556415  521736  63220  353808  235924  168800  157170  99228   \n",
       "4    79702   48450   31256   3792   32157   16778   13658   10164   3155   \n",
       "\n",
       "    X10  ...           X60           X61           X62           X63      X64  \\\n",
       "0  1314  ...  2.651221e+09  1.261880e+09  2.020032e+09  1.600597e+09   141199   \n",
       "1  2514  ...  1.396338e+09  6.259459e+08  9.079470e+08  6.824956e+08    60820   \n",
       "2  3743  ...  5.488857e+09  1.855414e+09  3.330348e+09  3.451869e+09   285521   \n",
       "3  1577  ...  4.821905e+10  2.646531e+10  3.380276e+10  3.800171e+10  2571027   \n",
       "4   578  ...  3.334280e+09  1.056871e+09  2.203635e+09  1.687361e+09   264219   \n",
       "\n",
       "       X65      X66      X67  X68     Y  \n",
       "0    67904   118723    84751  110  50.2  \n",
       "1    29820    50400    31521   63  50.2  \n",
       "2   107030   215844   161208  219  50.2  \n",
       "3  1394990  1784205  2117802  712  50.2  \n",
       "4    81132   186809   141214  110  50.2  \n",
       "\n",
       "[5 rows x 69 columns]"
      ]
     },
     "execution_count": 24,
     "metadata": {},
     "output_type": "execute_result"
    }
   ],
   "source": [
    "vacancy_df.head()"
   ]
  },
  {
   "cell_type": "code",
   "execution_count": 5,
   "metadata": {},
   "outputs": [],
   "source": [
    "#vacancy_df['Y'] = np.log1p(vacancy_df['Y'])"
   ]
  },
  {
   "cell_type": "code",
   "execution_count": 25,
   "metadata": {},
   "outputs": [],
   "source": [
    "from scipy.stats import skew"
   ]
  },
  {
   "cell_type": "code",
   "execution_count": 26,
   "metadata": {},
   "outputs": [],
   "source": [
    "# object가 아닌 숫자형 피쳐의 컬럼 index 객체 추출.\n",
    "features_index = vacancy_df.dtypes[vacancy_df.dtypes != 'object'].index\n",
    "\n",
    "# house_df에 컬럼 index를 [ ]로 입력하면 해당하는 컬럼 데이터 셋 반환. \n",
    "# apply lambda로 skew( )호출 \n",
    "skew_features = vacancy_df[features_index].apply(lambda x : skew(x))\n",
    "\n",
    "# skew 정도가 1 이상인 컬럼들만 추출.\n",
    "skew_features_top = skew_features[skew_features > 1]"
   ]
  },
  {
   "cell_type": "code",
   "execution_count": 27,
   "metadata": {},
   "outputs": [],
   "source": [
    "vacancy_df[skew_features_top.index] = np.log1p(vacancy_df[skew_features_top.index])"
   ]
  },
  {
   "cell_type": "code",
   "execution_count": 28,
   "metadata": {},
   "outputs": [],
   "source": [
    "# skew_features_top.index[:-1]"
   ]
  },
  {
   "cell_type": "code",
   "execution_count": 29,
   "metadata": {},
   "outputs": [],
   "source": [
    "vacancy_df = pd.get_dummies(vacancy_df)"
   ]
  },
  {
   "cell_type": "code",
   "execution_count": 30,
   "metadata": {},
   "outputs": [
    {
     "data": {
      "text/html": [
       "<div>\n",
       "<style scoped>\n",
       "    .dataframe tbody tr th:only-of-type {\n",
       "        vertical-align: middle;\n",
       "    }\n",
       "\n",
       "    .dataframe tbody tr th {\n",
       "        vertical-align: top;\n",
       "    }\n",
       "\n",
       "    .dataframe thead th {\n",
       "        text-align: right;\n",
       "    }\n",
       "</style>\n",
       "<table border=\"1\" class=\"dataframe\">\n",
       "  <thead>\n",
       "    <tr style=\"text-align: right;\">\n",
       "      <th></th>\n",
       "      <th>X1</th>\n",
       "      <th>X2</th>\n",
       "      <th>X3</th>\n",
       "      <th>X4</th>\n",
       "      <th>X5</th>\n",
       "      <th>X6</th>\n",
       "      <th>X7</th>\n",
       "      <th>X8</th>\n",
       "      <th>X9</th>\n",
       "      <th>X10</th>\n",
       "      <th>...</th>\n",
       "      <th>X64</th>\n",
       "      <th>X65</th>\n",
       "      <th>X66</th>\n",
       "      <th>X67</th>\n",
       "      <th>X68</th>\n",
       "      <th>Y</th>\n",
       "      <th>X56_HH</th>\n",
       "      <th>X56_HL</th>\n",
       "      <th>X56_LH</th>\n",
       "      <th>X56_LL</th>\n",
       "    </tr>\n",
       "  </thead>\n",
       "  <tbody>\n",
       "    <tr>\n",
       "      <th>0</th>\n",
       "      <td>12.064860</td>\n",
       "      <td>11.481094</td>\n",
       "      <td>11.248882</td>\n",
       "      <td>8.757312</td>\n",
       "      <td>10.870738</td>\n",
       "      <td>10.583575</td>\n",
       "      <td>10.375177</td>\n",
       "      <td>10.263013</td>\n",
       "      <td>9.582456</td>\n",
       "      <td>7.181592</td>\n",
       "      <td>...</td>\n",
       "      <td>11.857933</td>\n",
       "      <td>11.125865</td>\n",
       "      <td>11.684557</td>\n",
       "      <td>11.347485</td>\n",
       "      <td>4.709530</td>\n",
       "      <td>3.93574</td>\n",
       "      <td>0</td>\n",
       "      <td>0</td>\n",
       "      <td>0</td>\n",
       "      <td>1</td>\n",
       "    </tr>\n",
       "    <tr>\n",
       "      <th>1</th>\n",
       "      <td>12.251232</td>\n",
       "      <td>11.580621</td>\n",
       "      <td>11.535059</td>\n",
       "      <td>9.326255</td>\n",
       "      <td>10.727444</td>\n",
       "      <td>10.776578</td>\n",
       "      <td>10.707617</td>\n",
       "      <td>10.612139</td>\n",
       "      <td>9.863342</td>\n",
       "      <td>7.830028</td>\n",
       "      <td>...</td>\n",
       "      <td>11.015690</td>\n",
       "      <td>10.302968</td>\n",
       "      <td>10.827766</td>\n",
       "      <td>10.358441</td>\n",
       "      <td>4.158883</td>\n",
       "      <td>3.93574</td>\n",
       "      <td>1</td>\n",
       "      <td>0</td>\n",
       "      <td>0</td>\n",
       "      <td>0</td>\n",
       "    </tr>\n",
       "    <tr>\n",
       "      <th>2</th>\n",
       "      <td>13.079212</td>\n",
       "      <td>12.403669</td>\n",
       "      <td>12.368149</td>\n",
       "      <td>10.090465</td>\n",
       "      <td>11.334170</td>\n",
       "      <td>11.633833</td>\n",
       "      <td>11.603433</td>\n",
       "      <td>11.492304</td>\n",
       "      <td>10.836832</td>\n",
       "      <td>8.227910</td>\n",
       "      <td>...</td>\n",
       "      <td>12.562074</td>\n",
       "      <td>11.580874</td>\n",
       "      <td>12.282316</td>\n",
       "      <td>11.990457</td>\n",
       "      <td>5.393628</td>\n",
       "      <td>3.93574</td>\n",
       "      <td>0</td>\n",
       "      <td>0</td>\n",
       "      <td>0</td>\n",
       "      <td>1</td>\n",
       "    </tr>\n",
       "    <tr>\n",
       "      <th>3</th>\n",
       "      <td>13.890762</td>\n",
       "      <td>13.229271</td>\n",
       "      <td>13.164919</td>\n",
       "      <td>11.054392</td>\n",
       "      <td>12.776512</td>\n",
       "      <td>12.371269</td>\n",
       "      <td>12.036476</td>\n",
       "      <td>11.965090</td>\n",
       "      <td>11.505186</td>\n",
       "      <td>7.363914</td>\n",
       "      <td>...</td>\n",
       "      <td>14.759816</td>\n",
       "      <td>14.148399</td>\n",
       "      <td>14.394484</td>\n",
       "      <td>14.565890</td>\n",
       "      <td>6.569481</td>\n",
       "      <td>3.93574</td>\n",
       "      <td>0</td>\n",
       "      <td>0</td>\n",
       "      <td>1</td>\n",
       "      <td>0</td>\n",
       "    </tr>\n",
       "    <tr>\n",
       "      <th>4</th>\n",
       "      <td>11.286063</td>\n",
       "      <td>10.788308</td>\n",
       "      <td>10.349999</td>\n",
       "      <td>8.240913</td>\n",
       "      <td>10.378417</td>\n",
       "      <td>9.727883</td>\n",
       "      <td>9.522154</td>\n",
       "      <td>9.226706</td>\n",
       "      <td>8.057061</td>\n",
       "      <td>6.361302</td>\n",
       "      <td>...</td>\n",
       "      <td>12.484537</td>\n",
       "      <td>11.303845</td>\n",
       "      <td>12.137847</td>\n",
       "      <td>11.858039</td>\n",
       "      <td>4.709530</td>\n",
       "      <td>3.93574</td>\n",
       "      <td>0</td>\n",
       "      <td>0</td>\n",
       "      <td>1</td>\n",
       "      <td>0</td>\n",
       "    </tr>\n",
       "  </tbody>\n",
       "</table>\n",
       "<p>5 rows × 72 columns</p>\n",
       "</div>"
      ],
      "text/plain": [
       "          X1         X2         X3         X4         X5         X6  \\\n",
       "0  12.064860  11.481094  11.248882   8.757312  10.870738  10.583575   \n",
       "1  12.251232  11.580621  11.535059   9.326255  10.727444  10.776578   \n",
       "2  13.079212  12.403669  12.368149  10.090465  11.334170  11.633833   \n",
       "3  13.890762  13.229271  13.164919  11.054392  12.776512  12.371269   \n",
       "4  11.286063  10.788308  10.349999   8.240913  10.378417   9.727883   \n",
       "\n",
       "          X7         X8         X9       X10  ...        X64        X65  \\\n",
       "0  10.375177  10.263013   9.582456  7.181592  ...  11.857933  11.125865   \n",
       "1  10.707617  10.612139   9.863342  7.830028  ...  11.015690  10.302968   \n",
       "2  11.603433  11.492304  10.836832  8.227910  ...  12.562074  11.580874   \n",
       "3  12.036476  11.965090  11.505186  7.363914  ...  14.759816  14.148399   \n",
       "4   9.522154   9.226706   8.057061  6.361302  ...  12.484537  11.303845   \n",
       "\n",
       "         X66        X67       X68        Y  X56_HH  X56_HL  X56_LH  X56_LL  \n",
       "0  11.684557  11.347485  4.709530  3.93574       0       0       0       1  \n",
       "1  10.827766  10.358441  4.158883  3.93574       1       0       0       0  \n",
       "2  12.282316  11.990457  5.393628  3.93574       0       0       0       1  \n",
       "3  14.394484  14.565890  6.569481  3.93574       0       0       1       0  \n",
       "4  12.137847  11.858039  4.709530  3.93574       0       0       1       0  \n",
       "\n",
       "[5 rows x 72 columns]"
      ]
     },
     "execution_count": 30,
     "metadata": {},
     "output_type": "execute_result"
    }
   ],
   "source": [
    "vacancy_df.head()"
   ]
  },
  {
   "cell_type": "code",
   "execution_count": 31,
   "metadata": {},
   "outputs": [
    {
     "data": {
      "text/plain": [
       "(6025, 72)"
      ]
     },
     "execution_count": 31,
     "metadata": {},
     "output_type": "execute_result"
    }
   ],
   "source": [
    "vacancy_df.shape"
   ]
  },
  {
   "cell_type": "code",
   "execution_count": 32,
   "metadata": {},
   "outputs": [],
   "source": [
    "from sklearn.model_selection import GridSearchCV\n",
    "from sklearn.linear_model import LinearRegression, Ridge, Lasso\n",
    "from sklearn.model_selection import train_test_split\n",
    "from sklearn.metrics import mean_squared_error\n",
    "from sklearn.metrics import mean_absolute_error\n",
    "from sklearn.model_selection import KFold\n",
    "from xgboost import XGBRegressor\n",
    "from lightgbm import LGBMRegressor"
   ]
  },
  {
   "cell_type": "code",
   "execution_count": 33,
   "metadata": {},
   "outputs": [],
   "source": [
    "def get_stacking_base_datasets(model, X_train_n, y_train_n, X_test_n, n_folds ):\n",
    "    # 지정된 n_folds값으로 KFold 생성.\n",
    "    kf = KFold(n_splits=n_folds, shuffle=False, random_state=0)\n",
    "    #추후에 메타 모델이 사용할 학습 데이터 반환을 위한 넘파이 배열 초기화 \n",
    "    train_fold_pred = np.zeros((X_train_n.shape[0] ,1 ))\n",
    "    test_pred = np.zeros((X_test_n.shape[0],n_folds))\n",
    "    print(model.__class__.__name__ , ' model 시작 ')\n",
    "    \n",
    "    for folder_counter , (train_index, valid_index) in enumerate(kf.split(X_train_n)):\n",
    "        #입력된 학습 데이터에서 기반 모델이 학습/예측할 폴드 데이터 셋 추출 \n",
    "        print('\\t 폴드 세트: ',folder_counter,' 시작 ')\n",
    "        X_tr = X_train_n[train_index] \n",
    "        y_tr = y_train_n[train_index] \n",
    "        X_te = X_train_n[valid_index]  \n",
    "        \n",
    "        #폴드 세트 내부에서 다시 만들어진 학습 데이터로 기반 모델의 학습 수행.\n",
    "        model.fit(X_tr , y_tr)       \n",
    "        #폴드 세트 내부에서 다시 만들어진 검증 데이터로 기반 모델 예측 후 데이터 저장.\n",
    "        train_fold_pred[valid_index, :] = model.predict(X_te).reshape(-1,1)\n",
    "        #입력된 원본 테스트 데이터를 폴드 세트내 학습된 기반 모델에서 예측 후 데이터 저장. \n",
    "        test_pred[:, folder_counter] = model.predict(X_test_n)\n",
    "            \n",
    "    # 폴드 세트 내에서 원본 테스트 데이터를 예측한 데이터를 평균하여 테스트 데이터로 생성 \n",
    "    test_pred_mean = np.mean(test_pred, axis=1).reshape(-1,1)    \n",
    "    \n",
    "    #train_fold_pred는 최종 메타 모델이 사용하는 학습 데이터, test_pred_mean은 테스트 데이터\n",
    "    return train_fold_pred , test_pred_mean"
   ]
  },
  {
   "cell_type": "code",
   "execution_count": 34,
   "metadata": {},
   "outputs": [],
   "source": [
    "y_target = vacancy_df['Y']\n",
    "X_features = vacancy_df.drop('Y',axis= 1, inplace=False)\n",
    "\n",
    "X_train, X_test, y_train, y_test = train_test_split(X_features, y_target, \n",
    "                                                    test_size= 0.2, random_state= 0)"
   ]
  },
  {
   "cell_type": "code",
   "execution_count": 35,
   "metadata": {},
   "outputs": [
    {
     "data": {
      "text/plain": [
       "((4820, 71), (4820,))"
      ]
     },
     "execution_count": 35,
     "metadata": {},
     "output_type": "execute_result"
    }
   ],
   "source": [
    "X_train.shape, y_train.shape"
   ]
  },
  {
   "cell_type": "code",
   "execution_count": 36,
   "metadata": {},
   "outputs": [],
   "source": [
    "# get_stacking_base_datasets( )은 넘파이 ndarray를 인자로 사용하므로 DataFrame을 넘파이로 변환. \n",
    "X_train_n = X_train.values\n",
    "X_test_n = X_test.values\n",
    "y_train_n = y_train.values"
   ]
  },
  {
   "cell_type": "code",
   "execution_count": 37,
   "metadata": {},
   "outputs": [],
   "source": [
    "def get_best_params(model, params):\n",
    "    grid_model = GridSearchCV(model, param_grid=params, \n",
    "                              scoring='neg_mean_squared_error', cv=5)\n",
    "    grid_model.fit(X_features, y_target)\n",
    "    rmse = np.sqrt(-1* grid_model.best_score_)\n",
    "    print('{0} 5 CV 시 최적 평균 RMSE 값: {1}, 최적 alpha:{2}'.format(model.__class__.__name__,\n",
    "                                        np.round(rmse, 4), grid_model.best_params_))\n",
    "    return grid_model.best_estimator_"
   ]
  },
  {
   "cell_type": "code",
   "execution_count": 38,
   "metadata": {},
   "outputs": [
    {
     "name": "stdout",
     "output_type": "stream",
     "text": [
      "Ridge 5 CV 시 최적 평균 RMSE 값: 0.346, 최적 alpha:{'alpha': 0.05}\n"
     ]
    },
    {
     "name": "stderr",
     "output_type": "stream",
     "text": [
      "C:\\ProgramData\\Anaconda3\\lib\\site-packages\\sklearn\\linear_model\\coordinate_descent.py:475: ConvergenceWarning: Objective did not converge. You might want to increase the number of iterations. Duality gap: 15.649552987408185, tolerance: 0.09150097099201786\n",
      "  positive)\n",
      "C:\\ProgramData\\Anaconda3\\lib\\site-packages\\sklearn\\linear_model\\coordinate_descent.py:475: ConvergenceWarning: Objective did not converge. You might want to increase the number of iterations. Duality gap: 19.576017771192483, tolerance: 0.0920268777413446\n",
      "  positive)\n",
      "C:\\ProgramData\\Anaconda3\\lib\\site-packages\\sklearn\\linear_model\\coordinate_descent.py:475: ConvergenceWarning: Objective did not converge. You might want to increase the number of iterations. Duality gap: 5.070280518914558, tolerance: 0.09247540929098978\n",
      "  positive)\n",
      "C:\\ProgramData\\Anaconda3\\lib\\site-packages\\sklearn\\linear_model\\coordinate_descent.py:475: ConvergenceWarning: Objective did not converge. You might want to increase the number of iterations. Duality gap: 8.039183238933902, tolerance: 0.09377013529617581\n",
      "  positive)\n",
      "C:\\ProgramData\\Anaconda3\\lib\\site-packages\\sklearn\\linear_model\\coordinate_descent.py:475: ConvergenceWarning: Objective did not converge. You might want to increase the number of iterations. Duality gap: 14.40066743556821, tolerance: 0.09354793539379264\n",
      "  positive)\n"
     ]
    },
    {
     "name": "stdout",
     "output_type": "stream",
     "text": [
      "Lasso 5 CV 시 최적 평균 RMSE 값: 0.348, 최적 alpha:{'alpha': 0.001}\n"
     ]
    },
    {
     "name": "stderr",
     "output_type": "stream",
     "text": [
      "C:\\ProgramData\\Anaconda3\\lib\\site-packages\\sklearn\\linear_model\\coordinate_descent.py:475: ConvergenceWarning: Objective did not converge. You might want to increase the number of iterations. Duality gap: 10.643682660706759, tolerance: 0.11583999864782654\n",
      "  positive)\n"
     ]
    }
   ],
   "source": [
    "ridge_reg = Ridge()\n",
    "lasso_reg = Lasso()\n",
    "\n",
    "ridge_params = { 'alpha':[0.05, 0.1, 1, 5, 8, 10, 12, 15, 20] }\n",
    "lasso_params = { 'alpha':[0.001, 0.005, 0.008, 0.05, 0.03, 0.1, 0.5, 1,5, 10] }\n",
    "best_rige = get_best_params(ridge_reg, ridge_params)\n",
    "best_lasso = get_best_params(lasso_reg, lasso_params)"
   ]
  },
  {
   "cell_type": "code",
   "execution_count": 39,
   "metadata": {},
   "outputs": [],
   "source": [
    "ridge_reg = Ridge(alpha= 0.05)\n",
    "lasso_reg = Lasso(alpha= 0.001)"
   ]
  },
  {
   "cell_type": "code",
   "execution_count": 40,
   "metadata": {},
   "outputs": [],
   "source": [
    "xgb_reg = XGBRegressor(n_estimators=1000, learning_rate=0.05, \n",
    "                       colsample_bytree=0.5, subsample=0.8)\n",
    "lgbm_reg = LGBMRegressor(n_estimators=1000, learning_rate=0.05, \n",
    "                         num_leaves=4, subsample=0.6, \n",
    "                         colsample_bytree=0.4, reg_lambda=10, \n",
    "                         n_jobs=-1)"
   ]
  },
  {
   "cell_type": "code",
   "execution_count": 41,
   "metadata": {
    "scrolled": true
   },
   "outputs": [
    {
     "name": "stdout",
     "output_type": "stream",
     "text": [
      "Ridge  model 시작 \n",
      "\t 폴드 세트:  0  시작 \n",
      "\t 폴드 세트:  1  시작 \n",
      "\t 폴드 세트:  2  시작 \n",
      "\t 폴드 세트:  3  시작 \n",
      "\t 폴드 세트:  4  시작 \n",
      "Lasso  model 시작 \n",
      "\t 폴드 세트:  0  시작 \n"
     ]
    },
    {
     "name": "stderr",
     "output_type": "stream",
     "text": [
      "C:\\ProgramData\\Anaconda3\\lib\\site-packages\\sklearn\\linear_model\\coordinate_descent.py:475: ConvergenceWarning: Objective did not converge. You might want to increase the number of iterations. Duality gap: 6.713624226811646, tolerance: 0.07484341709529432\n",
      "  positive)\n",
      "C:\\ProgramData\\Anaconda3\\lib\\site-packages\\sklearn\\linear_model\\coordinate_descent.py:475: ConvergenceWarning: Objective did not converge. You might want to increase the number of iterations. Duality gap: 6.191808954783653, tolerance: 0.07619577753867127\n",
      "  positive)\n"
     ]
    },
    {
     "name": "stdout",
     "output_type": "stream",
     "text": [
      "\t 폴드 세트:  1  시작 \n"
     ]
    },
    {
     "name": "stderr",
     "output_type": "stream",
     "text": [
      "C:\\ProgramData\\Anaconda3\\lib\\site-packages\\sklearn\\linear_model\\coordinate_descent.py:475: ConvergenceWarning: Objective did not converge. You might want to increase the number of iterations. Duality gap: 7.941190760667155, tolerance: 0.07380256506520802\n",
      "  positive)\n"
     ]
    },
    {
     "name": "stdout",
     "output_type": "stream",
     "text": [
      "\t 폴드 세트:  2  시작 \n"
     ]
    },
    {
     "name": "stderr",
     "output_type": "stream",
     "text": [
      "C:\\ProgramData\\Anaconda3\\lib\\site-packages\\sklearn\\linear_model\\coordinate_descent.py:475: ConvergenceWarning: Objective did not converge. You might want to increase the number of iterations. Duality gap: 6.219181201207164, tolerance: 0.07344504751733155\n",
      "  positive)\n"
     ]
    },
    {
     "name": "stdout",
     "output_type": "stream",
     "text": [
      "\t 폴드 세트:  3  시작 \n"
     ]
    },
    {
     "name": "stderr",
     "output_type": "stream",
     "text": [
      "C:\\ProgramData\\Anaconda3\\lib\\site-packages\\sklearn\\linear_model\\coordinate_descent.py:475: ConvergenceWarning: Objective did not converge. You might want to increase the number of iterations. Duality gap: 16.101888419144245, tolerance: 0.07514580215953197\n",
      "  positive)\n"
     ]
    },
    {
     "name": "stdout",
     "output_type": "stream",
     "text": [
      "\t 폴드 세트:  4  시작 \n",
      "XGBRegressor  model 시작 \n",
      "\t 폴드 세트:  0  시작 \n",
      "[14:48:36] WARNING: C:/Jenkins/workspace/xgboost-win64_release_0.90/src/objective/regression_obj.cu:152: reg:linear is now deprecated in favor of reg:squarederror.\n",
      "\t 폴드 세트:  1  시작 \n",
      "[14:48:45] WARNING: C:/Jenkins/workspace/xgboost-win64_release_0.90/src/objective/regression_obj.cu:152: reg:linear is now deprecated in favor of reg:squarederror.\n",
      "\t 폴드 세트:  2  시작 \n",
      "[14:48:54] WARNING: C:/Jenkins/workspace/xgboost-win64_release_0.90/src/objective/regression_obj.cu:152: reg:linear is now deprecated in favor of reg:squarederror.\n",
      "\t 폴드 세트:  3  시작 \n",
      "[14:49:04] WARNING: C:/Jenkins/workspace/xgboost-win64_release_0.90/src/objective/regression_obj.cu:152: reg:linear is now deprecated in favor of reg:squarederror.\n",
      "\t 폴드 세트:  4  시작 \n",
      "[14:49:13] WARNING: C:/Jenkins/workspace/xgboost-win64_release_0.90/src/objective/regression_obj.cu:152: reg:linear is now deprecated in favor of reg:squarederror.\n",
      "LGBMRegressor  model 시작 \n",
      "\t 폴드 세트:  0  시작 \n",
      "\t 폴드 세트:  1  시작 \n",
      "\t 폴드 세트:  2  시작 \n",
      "\t 폴드 세트:  3  시작 \n",
      "\t 폴드 세트:  4  시작 \n"
     ]
    }
   ],
   "source": [
    "ridge_train, ridge_test = get_stacking_base_datasets(ridge_reg, X_train_n, y_train_n, X_test_n, 5)\n",
    "lasso_train, lasso_test = get_stacking_base_datasets(lasso_reg, X_train_n, y_train_n, X_test_n, 5)\n",
    "xgb_train, xgb_test = get_stacking_base_datasets(xgb_reg, X_train_n, y_train_n, X_test_n, 5)  \n",
    "lgbm_train, lgbm_test = get_stacking_base_datasets(lgbm_reg, X_train_n, y_train_n, X_test_n, 5)"
   ]
  },
  {
   "cell_type": "code",
   "execution_count": 42,
   "metadata": {},
   "outputs": [],
   "source": [
    "# 개별 모델이 반환한 학습 및 테스트용 데이터 세트를 Stacking 형태로 결합.  \n",
    "Stack_final_X_train = np.concatenate((ridge_train, lasso_train, \n",
    "                                      xgb_train, lgbm_train), axis=1)\n",
    "Stack_final_X_test = np.concatenate((ridge_test, lasso_test, \n",
    "                                     xgb_test, lgbm_test), axis=1)"
   ]
  },
  {
   "cell_type": "code",
   "execution_count": 43,
   "metadata": {},
   "outputs": [
    {
     "data": {
      "text/plain": [
       "(4820, 4)"
      ]
     },
     "execution_count": 43,
     "metadata": {},
     "output_type": "execute_result"
    }
   ],
   "source": [
    "Stack_final_X_train.shape"
   ]
  },
  {
   "cell_type": "code",
   "execution_count": 44,
   "metadata": {},
   "outputs": [
    {
     "name": "stdout",
     "output_type": "stream",
     "text": [
      "스태킹 회귀 모델의 최종 RMSE 값은: 0.11906056880121886\n"
     ]
    }
   ],
   "source": [
    "# 최종 메타 모델은 라쏘 모델을 적용. \n",
    "meta_model_lasso = Lasso(alpha=0.0005)\n",
    "\n",
    "#기반 모델의 예측값을 기반으로 새롭게 만들어진 학습 및 테스트용 데이터로 예측하고 RMSE 측정.\n",
    "meta_model_lasso.fit(Stack_final_X_train, y_train)\n",
    "final = meta_model_lasso.predict(Stack_final_X_test)\n",
    "mse = mean_squared_error(y_test , final)\n",
    "rmse = np.sqrt(mse)\n",
    "print('스태킹 회귀 모델의 최종 RMSE 값은:', rmse)"
   ]
  },
  {
   "cell_type": "code",
   "execution_count": 45,
   "metadata": {},
   "outputs": [
    {
     "data": {
      "text/plain": [
       "0.9102820412981494"
      ]
     },
     "execution_count": 45,
     "metadata": {},
     "output_type": "execute_result"
    }
   ],
   "source": [
    "meta_model_lasso.score(Stack_final_X_train, y_train)"
   ]
  },
  {
   "cell_type": "code",
   "execution_count": 46,
   "metadata": {},
   "outputs": [
    {
     "name": "stdout",
     "output_type": "stream",
     "text": [
      "SCORE : 0.3987949897361227\n",
      "RMSE : 0.3347742470489127\n"
     ]
    }
   ],
   "source": [
    "ridge_pred = ridge_reg.predict(X_test)\n",
    "print('SCORE :', ridge_reg.score(X_test, y_test))\n",
    "mse_ridge = mean_squared_error(y_test, ridge_pred)\n",
    "rmse_ridge = np.sqrt(mse_ridge)\n",
    "print('RMSE :', rmse_ridge)"
   ]
  },
  {
   "cell_type": "code",
   "execution_count": 47,
   "metadata": {},
   "outputs": [
    {
     "name": "stdout",
     "output_type": "stream",
     "text": [
      "SCORE : 0.3586684436508699\n",
      "RMSE : 0.3457658131667755\n"
     ]
    }
   ],
   "source": [
    "lasso_pred = lasso_reg.predict(X_test)\n",
    "print('SCORE :', lasso_reg.score(X_test, y_test))\n",
    "mse_lasso = mean_squared_error(y_test, lasso_pred)\n",
    "rmse_lasso = np.sqrt(mse_lasso)\n",
    "print('RMSE :', rmse_lasso)"
   ]
  },
  {
   "cell_type": "code",
   "execution_count": 48,
   "metadata": {},
   "outputs": [],
   "source": [
    "# xgb_reg.fit(X_train, y_train)"
   ]
  },
  {
   "cell_type": "code",
   "execution_count": 29,
   "metadata": {},
   "outputs": [],
   "source": [
    "#xgb_pred = lgbm_reg.predict(X_test)"
   ]
  },
  {
   "cell_type": "code",
   "execution_count": 30,
   "metadata": {},
   "outputs": [
    {
     "name": "stdout",
     "output_type": "stream",
     "text": [
      "SCORE : 0.7726052626159521\n",
      "RMSE : 0.20416003113148645\n"
     ]
    }
   ],
   "source": [
    "lgbm_pred = lgbm_reg.predict(X_test)\n",
    "print('SCORE :', lgbm_reg.score(X_test, y_test))\n",
    "mse_lgbm = mean_squared_error(y_test, lgbm_pred)\n",
    "rmse_lgbm = np.sqrt(mse_lgbm)\n",
    "print('RMSE :', rmse_lgbm)"
   ]
  },
  {
   "cell_type": "code",
   "execution_count": 31,
   "metadata": {},
   "outputs": [],
   "source": [
    "#xgb_pred = xgb_reg.predict(X_test)\n",
    "#print('SCORE :', xgb_reg.score(X_test, y_test))\n",
    "#mse_xgb = mean_squared_error(y_test, xgb_pred)\n",
    "#rmse_xgb = np.sqrt(mse_xgb)\n",
    "#print('RMSE :', rmse_xgb)\n",
    "\n",
    "# SCORE : 0.8889663977998432\n",
    "# RMSE : 0.14266181115946364"
   ]
  },
  {
   "cell_type": "code",
   "execution_count": 32,
   "metadata": {},
   "outputs": [
    {
     "data": {
      "text/plain": [
       "0.37668232396923695"
      ]
     },
     "execution_count": 32,
     "metadata": {},
     "output_type": "execute_result"
    }
   ],
   "source": [
    "lasso_reg.score(X_test, y_test)"
   ]
  },
  {
   "cell_type": "code",
   "execution_count": 49,
   "metadata": {},
   "outputs": [
    {
     "data": {
      "text/html": [
       "<div>\n",
       "<style scoped>\n",
       "    .dataframe tbody tr th:only-of-type {\n",
       "        vertical-align: middle;\n",
       "    }\n",
       "\n",
       "    .dataframe tbody tr th {\n",
       "        vertical-align: top;\n",
       "    }\n",
       "\n",
       "    .dataframe thead th {\n",
       "        text-align: right;\n",
       "    }\n",
       "</style>\n",
       "<table border=\"1\" class=\"dataframe\">\n",
       "  <thead>\n",
       "    <tr style=\"text-align: right;\">\n",
       "      <th></th>\n",
       "      <th>Y_pred</th>\n",
       "      <th>Y_real</th>\n",
       "      <th>Mean</th>\n",
       "    </tr>\n",
       "  </thead>\n",
       "  <tbody>\n",
       "    <tr>\n",
       "      <th>count</th>\n",
       "      <td>1205.000000</td>\n",
       "      <td>1205.000000</td>\n",
       "      <td>1205.000000</td>\n",
       "    </tr>\n",
       "    <tr>\n",
       "      <th>mean</th>\n",
       "      <td>46.955745</td>\n",
       "      <td>47.362739</td>\n",
       "      <td>4.225406</td>\n",
       "    </tr>\n",
       "    <tr>\n",
       "      <th>std</th>\n",
       "      <td>32.076406</td>\n",
       "      <td>33.512927</td>\n",
       "      <td>9.122188</td>\n",
       "    </tr>\n",
       "    <tr>\n",
       "      <th>min</th>\n",
       "      <td>16.467907</td>\n",
       "      <td>20.900000</td>\n",
       "      <td>0.001197</td>\n",
       "    </tr>\n",
       "    <tr>\n",
       "      <th>25%</th>\n",
       "      <td>31.797820</td>\n",
       "      <td>29.800000</td>\n",
       "      <td>1.247644</td>\n",
       "    </tr>\n",
       "    <tr>\n",
       "      <th>50%</th>\n",
       "      <td>42.480656</td>\n",
       "      <td>43.200000</td>\n",
       "      <td>2.547700</td>\n",
       "    </tr>\n",
       "    <tr>\n",
       "      <th>75%</th>\n",
       "      <td>50.875721</td>\n",
       "      <td>53.800000</td>\n",
       "      <td>5.092822</td>\n",
       "    </tr>\n",
       "    <tr>\n",
       "      <th>max</th>\n",
       "      <td>351.934751</td>\n",
       "      <td>295.100000</td>\n",
       "      <td>210.972985</td>\n",
       "    </tr>\n",
       "  </tbody>\n",
       "</table>\n",
       "</div>"
      ],
      "text/plain": [
       "            Y_pred       Y_real         Mean\n",
       "count  1205.000000  1205.000000  1205.000000\n",
       "mean     46.955745    47.362739     4.225406\n",
       "std      32.076406    33.512927     9.122188\n",
       "min      16.467907    20.900000     0.001197\n",
       "25%      31.797820    29.800000     1.247644\n",
       "50%      42.480656    43.200000     2.547700\n",
       "75%      50.875721    53.800000     5.092822\n",
       "max     351.934751   295.100000   210.972985"
      ]
     },
     "execution_count": 49,
     "metadata": {},
     "output_type": "execute_result"
    }
   ],
   "source": [
    "f = pd.DataFrame(final)\n",
    "ff = np.expm1(f)\n",
    "y = pd.DataFrame(y_test)\n",
    "yy = np.expm1(y)\n",
    "\n",
    "result = pd.DataFrame()\n",
    "result['Y_pred'] = ff.values.flatten()\n",
    "result['Y_real'] = yy.values.flatten()\n",
    "result['Mean'] = result['Y_real'] - result['Y_pred']\n",
    "result['Mean'] = result['Mean'].abs()\n",
    "result.describe()"
   ]
  },
  {
   "cell_type": "code",
   "execution_count": 50,
   "metadata": {},
   "outputs": [
    {
     "data": {
      "text/html": [
       "<div>\n",
       "<style scoped>\n",
       "    .dataframe tbody tr th:only-of-type {\n",
       "        vertical-align: middle;\n",
       "    }\n",
       "\n",
       "    .dataframe tbody tr th {\n",
       "        vertical-align: top;\n",
       "    }\n",
       "\n",
       "    .dataframe thead th {\n",
       "        text-align: right;\n",
       "    }\n",
       "</style>\n",
       "<table border=\"1\" class=\"dataframe\">\n",
       "  <thead>\n",
       "    <tr style=\"text-align: right;\">\n",
       "      <th></th>\n",
       "      <th>Y_pred</th>\n",
       "      <th>Y_real</th>\n",
       "      <th>Mean</th>\n",
       "    </tr>\n",
       "  </thead>\n",
       "  <tbody>\n",
       "    <tr>\n",
       "      <th>0</th>\n",
       "      <td>74.595706</td>\n",
       "      <td>69.1</td>\n",
       "      <td>5.495706</td>\n",
       "    </tr>\n",
       "    <tr>\n",
       "      <th>1</th>\n",
       "      <td>32.626440</td>\n",
       "      <td>24.8</td>\n",
       "      <td>7.826440</td>\n",
       "    </tr>\n",
       "    <tr>\n",
       "      <th>2</th>\n",
       "      <td>39.874588</td>\n",
       "      <td>38.7</td>\n",
       "      <td>1.174588</td>\n",
       "    </tr>\n",
       "    <tr>\n",
       "      <th>3</th>\n",
       "      <td>44.529787</td>\n",
       "      <td>44.4</td>\n",
       "      <td>0.129787</td>\n",
       "    </tr>\n",
       "    <tr>\n",
       "      <th>4</th>\n",
       "      <td>49.900894</td>\n",
       "      <td>69.0</td>\n",
       "      <td>19.099106</td>\n",
       "    </tr>\n",
       "  </tbody>\n",
       "</table>\n",
       "</div>"
      ],
      "text/plain": [
       "      Y_pred  Y_real       Mean\n",
       "0  74.595706    69.1   5.495706\n",
       "1  32.626440    24.8   7.826440\n",
       "2  39.874588    38.7   1.174588\n",
       "3  44.529787    44.4   0.129787\n",
       "4  49.900894    69.0  19.099106"
      ]
     },
     "execution_count": 50,
     "metadata": {},
     "output_type": "execute_result"
    }
   ],
   "source": [
    "result.head()"
   ]
  },
  {
   "cell_type": "code",
   "execution_count": 59,
   "metadata": {},
   "outputs": [],
   "source": [
    "X_test_org = pd.read_csv('../임대료용/Test.csv', encoding= 'ansi')"
   ]
  },
  {
   "cell_type": "code",
   "execution_count": 60,
   "metadata": {},
   "outputs": [],
   "source": [
    "skew_features_top_X = skew_features_top.index[:-1]"
   ]
  },
  {
   "cell_type": "code",
   "execution_count": 61,
   "metadata": {},
   "outputs": [
    {
     "data": {
      "text/html": [
       "<div>\n",
       "<style scoped>\n",
       "    .dataframe tbody tr th:only-of-type {\n",
       "        vertical-align: middle;\n",
       "    }\n",
       "\n",
       "    .dataframe tbody tr th {\n",
       "        vertical-align: top;\n",
       "    }\n",
       "\n",
       "    .dataframe thead th {\n",
       "        text-align: right;\n",
       "    }\n",
       "</style>\n",
       "<table border=\"1\" class=\"dataframe\">\n",
       "  <thead>\n",
       "    <tr style=\"text-align: right;\">\n",
       "      <th></th>\n",
       "      <th>X1</th>\n",
       "      <th>X2</th>\n",
       "      <th>X3</th>\n",
       "      <th>X4</th>\n",
       "      <th>X5</th>\n",
       "      <th>X6</th>\n",
       "      <th>X7</th>\n",
       "      <th>X8</th>\n",
       "      <th>X9</th>\n",
       "      <th>X10</th>\n",
       "      <th>...</th>\n",
       "      <th>X59</th>\n",
       "      <th>X60</th>\n",
       "      <th>X61</th>\n",
       "      <th>X62</th>\n",
       "      <th>X63</th>\n",
       "      <th>X64</th>\n",
       "      <th>X65</th>\n",
       "      <th>X66</th>\n",
       "      <th>X67</th>\n",
       "      <th>X68</th>\n",
       "    </tr>\n",
       "  </thead>\n",
       "  <tbody>\n",
       "    <tr>\n",
       "      <th>0</th>\n",
       "      <td>12.064860</td>\n",
       "      <td>11.481094</td>\n",
       "      <td>11.248882</td>\n",
       "      <td>8.757312</td>\n",
       "      <td>10.870738</td>\n",
       "      <td>10.583575</td>\n",
       "      <td>10.375177</td>\n",
       "      <td>10.263013</td>\n",
       "      <td>9.582456</td>\n",
       "      <td>7.181592</td>\n",
       "      <td>...</td>\n",
       "      <td>12.250587</td>\n",
       "      <td>21.698286</td>\n",
       "      <td>20.955869</td>\n",
       "      <td>21.426379</td>\n",
       "      <td>21.193643</td>\n",
       "      <td>11.857933</td>\n",
       "      <td>11.125865</td>\n",
       "      <td>11.684557</td>\n",
       "      <td>11.347485</td>\n",
       "      <td>4.709530</td>\n",
       "    </tr>\n",
       "    <tr>\n",
       "      <th>1</th>\n",
       "      <td>12.251232</td>\n",
       "      <td>11.580621</td>\n",
       "      <td>11.535059</td>\n",
       "      <td>9.326255</td>\n",
       "      <td>10.727444</td>\n",
       "      <td>10.776578</td>\n",
       "      <td>10.707617</td>\n",
       "      <td>10.612139</td>\n",
       "      <td>9.863342</td>\n",
       "      <td>7.830028</td>\n",
       "      <td>...</td>\n",
       "      <td>11.414662</td>\n",
       "      <td>21.057119</td>\n",
       "      <td>20.254775</td>\n",
       "      <td>20.626697</td>\n",
       "      <td>20.341267</td>\n",
       "      <td>11.015690</td>\n",
       "      <td>10.302968</td>\n",
       "      <td>10.827766</td>\n",
       "      <td>10.358441</td>\n",
       "      <td>4.158883</td>\n",
       "    </tr>\n",
       "    <tr>\n",
       "      <th>2</th>\n",
       "      <td>13.079212</td>\n",
       "      <td>12.403669</td>\n",
       "      <td>12.368149</td>\n",
       "      <td>10.090465</td>\n",
       "      <td>11.334170</td>\n",
       "      <td>11.633833</td>\n",
       "      <td>11.603433</td>\n",
       "      <td>11.492304</td>\n",
       "      <td>10.836832</td>\n",
       "      <td>8.227910</td>\n",
       "      <td>...</td>\n",
       "      <td>12.880424</td>\n",
       "      <td>22.425986</td>\n",
       "      <td>21.341374</td>\n",
       "      <td>21.926343</td>\n",
       "      <td>21.962182</td>\n",
       "      <td>12.562074</td>\n",
       "      <td>11.580874</td>\n",
       "      <td>12.282316</td>\n",
       "      <td>11.990457</td>\n",
       "      <td>5.393628</td>\n",
       "    </tr>\n",
       "    <tr>\n",
       "      <th>3</th>\n",
       "      <td>13.890762</td>\n",
       "      <td>13.229271</td>\n",
       "      <td>13.164919</td>\n",
       "      <td>11.054392</td>\n",
       "      <td>12.776512</td>\n",
       "      <td>12.371269</td>\n",
       "      <td>12.036476</td>\n",
       "      <td>11.965090</td>\n",
       "      <td>11.505186</td>\n",
       "      <td>7.363914</td>\n",
       "      <td>...</td>\n",
       "      <td>15.193273</td>\n",
       "      <td>24.599020</td>\n",
       "      <td>23.999101</td>\n",
       "      <td>24.243808</td>\n",
       "      <td>24.360897</td>\n",
       "      <td>14.759816</td>\n",
       "      <td>14.148399</td>\n",
       "      <td>14.394484</td>\n",
       "      <td>14.565890</td>\n",
       "      <td>6.569481</td>\n",
       "    </tr>\n",
       "    <tr>\n",
       "      <th>4</th>\n",
       "      <td>11.286063</td>\n",
       "      <td>10.788308</td>\n",
       "      <td>10.349999</td>\n",
       "      <td>8.240913</td>\n",
       "      <td>10.378417</td>\n",
       "      <td>9.727883</td>\n",
       "      <td>9.522154</td>\n",
       "      <td>9.226706</td>\n",
       "      <td>8.057061</td>\n",
       "      <td>6.361302</td>\n",
       "      <td>...</td>\n",
       "      <td>12.752319</td>\n",
       "      <td>21.927523</td>\n",
       "      <td>20.778579</td>\n",
       "      <td>21.513374</td>\n",
       "      <td>21.246432</td>\n",
       "      <td>12.484537</td>\n",
       "      <td>11.303845</td>\n",
       "      <td>12.137847</td>\n",
       "      <td>11.858039</td>\n",
       "      <td>4.709530</td>\n",
       "    </tr>\n",
       "  </tbody>\n",
       "</table>\n",
       "<p>5 rows × 68 columns</p>\n",
       "</div>"
      ],
      "text/plain": [
       "          X1         X2         X3         X4         X5         X6  \\\n",
       "0  12.064860  11.481094  11.248882   8.757312  10.870738  10.583575   \n",
       "1  12.251232  11.580621  11.535059   9.326255  10.727444  10.776578   \n",
       "2  13.079212  12.403669  12.368149  10.090465  11.334170  11.633833   \n",
       "3  13.890762  13.229271  13.164919  11.054392  12.776512  12.371269   \n",
       "4  11.286063  10.788308  10.349999   8.240913  10.378417   9.727883   \n",
       "\n",
       "          X7         X8         X9       X10  ...        X59        X60  \\\n",
       "0  10.375177  10.263013   9.582456  7.181592  ...  12.250587  21.698286   \n",
       "1  10.707617  10.612139   9.863342  7.830028  ...  11.414662  21.057119   \n",
       "2  11.603433  11.492304  10.836832  8.227910  ...  12.880424  22.425986   \n",
       "3  12.036476  11.965090  11.505186  7.363914  ...  15.193273  24.599020   \n",
       "4   9.522154   9.226706   8.057061  6.361302  ...  12.752319  21.927523   \n",
       "\n",
       "         X61        X62        X63        X64        X65        X66  \\\n",
       "0  20.955869  21.426379  21.193643  11.857933  11.125865  11.684557   \n",
       "1  20.254775  20.626697  20.341267  11.015690  10.302968  10.827766   \n",
       "2  21.341374  21.926343  21.962182  12.562074  11.580874  12.282316   \n",
       "3  23.999101  24.243808  24.360897  14.759816  14.148399  14.394484   \n",
       "4  20.778579  21.513374  21.246432  12.484537  11.303845  12.137847   \n",
       "\n",
       "         X67       X68  \n",
       "0  11.347485  4.709530  \n",
       "1  10.358441  4.158883  \n",
       "2  11.990457  5.393628  \n",
       "3  14.565890  6.569481  \n",
       "4  11.858039  4.709530  \n",
       "\n",
       "[5 rows x 68 columns]"
      ]
     },
     "execution_count": 61,
     "metadata": {},
     "output_type": "execute_result"
    }
   ],
   "source": [
    "X_test_org[skew_features_top_X] = np.log1p(X_test_org[skew_features_top_X])\n",
    "X_test_org.head()"
   ]
  },
  {
   "cell_type": "code",
   "execution_count": 63,
   "metadata": {},
   "outputs": [
    {
     "data": {
      "text/html": [
       "<div>\n",
       "<style scoped>\n",
       "    .dataframe tbody tr th:only-of-type {\n",
       "        vertical-align: middle;\n",
       "    }\n",
       "\n",
       "    .dataframe tbody tr th {\n",
       "        vertical-align: top;\n",
       "    }\n",
       "\n",
       "    .dataframe thead th {\n",
       "        text-align: right;\n",
       "    }\n",
       "</style>\n",
       "<table border=\"1\" class=\"dataframe\">\n",
       "  <thead>\n",
       "    <tr style=\"text-align: right;\">\n",
       "      <th></th>\n",
       "      <th>X1</th>\n",
       "      <th>X2</th>\n",
       "      <th>X3</th>\n",
       "      <th>X4</th>\n",
       "      <th>X5</th>\n",
       "      <th>X6</th>\n",
       "      <th>X7</th>\n",
       "      <th>X8</th>\n",
       "      <th>X9</th>\n",
       "      <th>X10</th>\n",
       "      <th>...</th>\n",
       "      <th>X63</th>\n",
       "      <th>X64</th>\n",
       "      <th>X65</th>\n",
       "      <th>X66</th>\n",
       "      <th>X67</th>\n",
       "      <th>X68</th>\n",
       "      <th>X56_HH</th>\n",
       "      <th>X56_HL</th>\n",
       "      <th>X56_LH</th>\n",
       "      <th>X56_LL</th>\n",
       "    </tr>\n",
       "  </thead>\n",
       "  <tbody>\n",
       "    <tr>\n",
       "      <th>0</th>\n",
       "      <td>12.064860</td>\n",
       "      <td>11.481094</td>\n",
       "      <td>11.248882</td>\n",
       "      <td>8.757312</td>\n",
       "      <td>10.870738</td>\n",
       "      <td>10.583575</td>\n",
       "      <td>10.375177</td>\n",
       "      <td>10.263013</td>\n",
       "      <td>9.582456</td>\n",
       "      <td>7.181592</td>\n",
       "      <td>...</td>\n",
       "      <td>21.193643</td>\n",
       "      <td>11.857933</td>\n",
       "      <td>11.125865</td>\n",
       "      <td>11.684557</td>\n",
       "      <td>11.347485</td>\n",
       "      <td>4.709530</td>\n",
       "      <td>0</td>\n",
       "      <td>0</td>\n",
       "      <td>0</td>\n",
       "      <td>1</td>\n",
       "    </tr>\n",
       "    <tr>\n",
       "      <th>1</th>\n",
       "      <td>12.251232</td>\n",
       "      <td>11.580621</td>\n",
       "      <td>11.535059</td>\n",
       "      <td>9.326255</td>\n",
       "      <td>10.727444</td>\n",
       "      <td>10.776578</td>\n",
       "      <td>10.707617</td>\n",
       "      <td>10.612139</td>\n",
       "      <td>9.863342</td>\n",
       "      <td>7.830028</td>\n",
       "      <td>...</td>\n",
       "      <td>20.341267</td>\n",
       "      <td>11.015690</td>\n",
       "      <td>10.302968</td>\n",
       "      <td>10.827766</td>\n",
       "      <td>10.358441</td>\n",
       "      <td>4.158883</td>\n",
       "      <td>1</td>\n",
       "      <td>0</td>\n",
       "      <td>0</td>\n",
       "      <td>0</td>\n",
       "    </tr>\n",
       "    <tr>\n",
       "      <th>2</th>\n",
       "      <td>13.079212</td>\n",
       "      <td>12.403669</td>\n",
       "      <td>12.368149</td>\n",
       "      <td>10.090465</td>\n",
       "      <td>11.334170</td>\n",
       "      <td>11.633833</td>\n",
       "      <td>11.603433</td>\n",
       "      <td>11.492304</td>\n",
       "      <td>10.836832</td>\n",
       "      <td>8.227910</td>\n",
       "      <td>...</td>\n",
       "      <td>21.962182</td>\n",
       "      <td>12.562074</td>\n",
       "      <td>11.580874</td>\n",
       "      <td>12.282316</td>\n",
       "      <td>11.990457</td>\n",
       "      <td>5.393628</td>\n",
       "      <td>0</td>\n",
       "      <td>0</td>\n",
       "      <td>0</td>\n",
       "      <td>1</td>\n",
       "    </tr>\n",
       "    <tr>\n",
       "      <th>3</th>\n",
       "      <td>13.890762</td>\n",
       "      <td>13.229271</td>\n",
       "      <td>13.164919</td>\n",
       "      <td>11.054392</td>\n",
       "      <td>12.776512</td>\n",
       "      <td>12.371269</td>\n",
       "      <td>12.036476</td>\n",
       "      <td>11.965090</td>\n",
       "      <td>11.505186</td>\n",
       "      <td>7.363914</td>\n",
       "      <td>...</td>\n",
       "      <td>24.360897</td>\n",
       "      <td>14.759816</td>\n",
       "      <td>14.148399</td>\n",
       "      <td>14.394484</td>\n",
       "      <td>14.565890</td>\n",
       "      <td>6.569481</td>\n",
       "      <td>0</td>\n",
       "      <td>0</td>\n",
       "      <td>1</td>\n",
       "      <td>0</td>\n",
       "    </tr>\n",
       "    <tr>\n",
       "      <th>4</th>\n",
       "      <td>11.286063</td>\n",
       "      <td>10.788308</td>\n",
       "      <td>10.349999</td>\n",
       "      <td>8.240913</td>\n",
       "      <td>10.378417</td>\n",
       "      <td>9.727883</td>\n",
       "      <td>9.522154</td>\n",
       "      <td>9.226706</td>\n",
       "      <td>8.057061</td>\n",
       "      <td>6.361302</td>\n",
       "      <td>...</td>\n",
       "      <td>21.246432</td>\n",
       "      <td>12.484537</td>\n",
       "      <td>11.303845</td>\n",
       "      <td>12.137847</td>\n",
       "      <td>11.858039</td>\n",
       "      <td>4.709530</td>\n",
       "      <td>0</td>\n",
       "      <td>0</td>\n",
       "      <td>1</td>\n",
       "      <td>0</td>\n",
       "    </tr>\n",
       "  </tbody>\n",
       "</table>\n",
       "<p>5 rows × 71 columns</p>\n",
       "</div>"
      ],
      "text/plain": [
       "          X1         X2         X3         X4         X5         X6  \\\n",
       "0  12.064860  11.481094  11.248882   8.757312  10.870738  10.583575   \n",
       "1  12.251232  11.580621  11.535059   9.326255  10.727444  10.776578   \n",
       "2  13.079212  12.403669  12.368149  10.090465  11.334170  11.633833   \n",
       "3  13.890762  13.229271  13.164919  11.054392  12.776512  12.371269   \n",
       "4  11.286063  10.788308  10.349999   8.240913  10.378417   9.727883   \n",
       "\n",
       "          X7         X8         X9       X10  ...        X63        X64  \\\n",
       "0  10.375177  10.263013   9.582456  7.181592  ...  21.193643  11.857933   \n",
       "1  10.707617  10.612139   9.863342  7.830028  ...  20.341267  11.015690   \n",
       "2  11.603433  11.492304  10.836832  8.227910  ...  21.962182  12.562074   \n",
       "3  12.036476  11.965090  11.505186  7.363914  ...  24.360897  14.759816   \n",
       "4   9.522154   9.226706   8.057061  6.361302  ...  21.246432  12.484537   \n",
       "\n",
       "         X65        X66        X67       X68  X56_HH  X56_HL  X56_LH  X56_LL  \n",
       "0  11.125865  11.684557  11.347485  4.709530       0       0       0       1  \n",
       "1  10.302968  10.827766  10.358441  4.158883       1       0       0       0  \n",
       "2  11.580874  12.282316  11.990457  5.393628       0       0       0       1  \n",
       "3  14.148399  14.394484  14.565890  6.569481       0       0       1       0  \n",
       "4  11.303845  12.137847  11.858039  4.709530       0       0       1       0  \n",
       "\n",
       "[5 rows x 71 columns]"
      ]
     },
     "execution_count": 63,
     "metadata": {},
     "output_type": "execute_result"
    }
   ],
   "source": [
    "X_test_ = pd.get_dummies(X_test_org)\n",
    "X_test_.head()"
   ]
  },
  {
   "cell_type": "code",
   "execution_count": 64,
   "metadata": {},
   "outputs": [],
   "source": [
    "X_test_n = X_test_.values"
   ]
  },
  {
   "cell_type": "code",
   "execution_count": 70,
   "metadata": {},
   "outputs": [],
   "source": [
    "ridge_train_ = ridge_reg.predict(X_test_n).reshape(-1, 1)\n",
    "lasso_train_ = lasso_reg.predict(X_test_n).reshape(-1, 1)\n",
    "lgbm_train_ = lgbm_reg.predict(X_test_n).reshape(-1, 1)\n",
    "xgb_train_ = xgb_reg.predict(X_test_n).reshape(-1, 1)"
   ]
  },
  {
   "cell_type": "code",
   "execution_count": 71,
   "metadata": {},
   "outputs": [],
   "source": [
    "Stack_final_X_test = np.concatenate((ridge_train_, lasso_train_, \n",
    "                                     xgb_train_, lgbm_train_), axis=1)"
   ]
  },
  {
   "cell_type": "code",
   "execution_count": 72,
   "metadata": {},
   "outputs": [],
   "source": [
    "final_ = meta_model_lasso.predict(Stack_final_X_test)"
   ]
  },
  {
   "cell_type": "code",
   "execution_count": 73,
   "metadata": {},
   "outputs": [],
   "source": [
    "X_final = np.expm1(final_)"
   ]
  },
  {
   "cell_type": "code",
   "execution_count": 74,
   "metadata": {},
   "outputs": [],
   "source": [
    "X_final_ = pd.DataFrame(X_final)"
   ]
  },
  {
   "cell_type": "code",
   "execution_count": 77,
   "metadata": {},
   "outputs": [],
   "source": [
    "X_final_.to_csv('Result.csv', encoding= 'ansi')"
   ]
  }
 ],
 "metadata": {
  "kernelspec": {
   "display_name": "Python 3",
   "language": "python",
   "name": "python3"
  },
  "language_info": {
   "codemirror_mode": {
    "name": "ipython",
    "version": 3
   },
   "file_extension": ".py",
   "mimetype": "text/x-python",
   "name": "python",
   "nbconvert_exporter": "python",
   "pygments_lexer": "ipython3",
   "version": "3.7.3"
  }
 },
 "nbformat": 4,
 "nbformat_minor": 2
}
