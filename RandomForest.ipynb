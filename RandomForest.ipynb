{
 "cells": [
  {
   "cell_type": "code",
   "execution_count": 5,
   "metadata": {},
   "outputs": [],
   "source": [
    "import pandas as pd\n",
    "import numpy as np\n",
    "import matplotlib\n",
    "import matplotlib.pyplot as plt\n",
    "\n",
    "from sklearn import preprocessing\n",
    "from matplotlib import style\n",
    "from sklearn.metrics import r2_score\n",
    "from sklearn.tree import DecisionTreeRegressor\n",
    "from sklearn.ensemble import RandomForestRegressor"
   ]
  },
  {
   "cell_type": "code",
   "execution_count": 6,
   "metadata": {},
   "outputs": [],
   "source": [
    "from sklearn.preprocessing import StandardScaler"
   ]
  },
  {
   "cell_type": "code",
   "execution_count": 7,
   "metadata": {},
   "outputs": [],
   "source": [
    "style.use('default')"
   ]
  },
  {
   "cell_type": "code",
   "execution_count": 8,
   "metadata": {
    "scrolled": false
   },
   "outputs": [
    {
     "data": {
      "text/plain": [
       "(6025, 71)"
      ]
     },
     "execution_count": 8,
     "metadata": {},
     "output_type": "execute_result"
    }
   ],
   "source": [
    "df = pd.read_csv('e:/Train_1.csv', encoding= 'ansi')\n",
    "x_row = df.iloc[:, :-1]\n",
    "y_row = df.iloc[:, -1:]\n",
    "x_row.shape"
   ]
  },
  {
   "cell_type": "code",
   "execution_count": 76,
   "metadata": {
    "scrolled": true
   },
   "outputs": [],
   "source": [
    "scaler = preprocessing.StandardScaler()\n",
    "X_std = scaler.fit_transform(x_row)\n",
    "y_std"
   ]
  },
  {
   "cell_type": "code",
   "execution_count": 77,
   "metadata": {},
   "outputs": [],
   "source": [
    "forest = RandomForestRegressor(n_estimators= 1000, criterion= 'mse', \n",
    "                               random_state=1, n_jobs= -1)"
   ]
  },
  {
   "cell_type": "code",
   "execution_count": 78,
   "metadata": {},
   "outputs": [
    {
     "name": "stderr",
     "output_type": "stream",
     "text": [
      "C:\\ProgramData\\Anaconda3\\lib\\site-packages\\ipykernel_launcher.py:1: DataConversionWarning: A column-vector y was passed when a 1d array was expected. Please change the shape of y to (n_samples,), for example using ravel().\n",
      "  \"\"\"Entry point for launching an IPython kernel.\n"
     ]
    },
    {
     "data": {
      "text/plain": [
       "RandomForestRegressor(bootstrap=True, criterion='mse', max_depth=None,\n",
       "                      max_features='auto', max_leaf_nodes=None,\n",
       "                      min_impurity_decrease=0.0, min_impurity_split=None,\n",
       "                      min_samples_leaf=1, min_samples_split=2,\n",
       "                      min_weight_fraction_leaf=0.0, n_estimators=1000,\n",
       "                      n_jobs=-1, oob_score=False, random_state=1, verbose=0,\n",
       "                      warm_start=False)"
      ]
     },
     "execution_count": 78,
     "metadata": {},
     "output_type": "execute_result"
    }
   ],
   "source": [
    "forest.fit(X_train, y_train)"
   ]
  },
  {
   "cell_type": "code",
   "execution_count": 11,
   "metadata": {},
   "outputs": [],
   "source": [
    "#y_train_pred = forest.predict(X_train)\n",
    "#y_test_pred = forest.predict(X_test)"
   ]
  },
  {
   "cell_type": "code",
   "execution_count": 12,
   "metadata": {},
   "outputs": [],
   "source": [
    "#r2_train = r2_score(y_train, y_train_pred)\n",
    "#r2_test = r2_score(y_test, y_test_pred)"
   ]
  },
  {
   "cell_type": "code",
   "execution_count": 13,
   "metadata": {},
   "outputs": [],
   "source": [
    "#forest.score(X_train, y_train)"
   ]
  },
  {
   "cell_type": "code",
   "execution_count": 14,
   "metadata": {},
   "outputs": [],
   "source": [
    "#score(X_test, y_test)"
   ]
  },
  {
   "cell_type": "code",
   "execution_count": 79,
   "metadata": {},
   "outputs": [],
   "source": [
    "test = pd.read_csv('../Final_Test_v3.csv', encoding= 'ansi')"
   ]
  },
  {
   "cell_type": "code",
   "execution_count": 80,
   "metadata": {},
   "outputs": [
    {
     "data": {
      "text/html": [
       "<div>\n",
       "<style scoped>\n",
       "    .dataframe tbody tr th:only-of-type {\n",
       "        vertical-align: middle;\n",
       "    }\n",
       "\n",
       "    .dataframe tbody tr th {\n",
       "        vertical-align: top;\n",
       "    }\n",
       "\n",
       "    .dataframe thead th {\n",
       "        text-align: right;\n",
       "    }\n",
       "</style>\n",
       "<table border=\"1\" class=\"dataframe\">\n",
       "  <thead>\n",
       "    <tr style=\"text-align: right;\">\n",
       "      <th></th>\n",
       "      <th>X1</th>\n",
       "      <th>X2</th>\n",
       "      <th>X3</th>\n",
       "      <th>X4</th>\n",
       "      <th>X5</th>\n",
       "      <th>X6</th>\n",
       "      <th>X7</th>\n",
       "      <th>X8</th>\n",
       "      <th>X9</th>\n",
       "      <th>X10</th>\n",
       "      <th>...</th>\n",
       "      <th>X63</th>\n",
       "      <th>X64</th>\n",
       "      <th>X65</th>\n",
       "      <th>X66</th>\n",
       "      <th>X67</th>\n",
       "      <th>X68</th>\n",
       "      <th>X69</th>\n",
       "      <th>X70</th>\n",
       "      <th>X71</th>\n",
       "      <th>X72</th>\n",
       "    </tr>\n",
       "  </thead>\n",
       "  <tbody>\n",
       "    <tr>\n",
       "      <th>0</th>\n",
       "      <td>1078154</td>\n",
       "      <td>556415</td>\n",
       "      <td>521736</td>\n",
       "      <td>63220</td>\n",
       "      <td>353808</td>\n",
       "      <td>235924</td>\n",
       "      <td>168800</td>\n",
       "      <td>157170</td>\n",
       "      <td>99228</td>\n",
       "      <td>1577</td>\n",
       "      <td>...</td>\n",
       "      <td>3.380276e+10</td>\n",
       "      <td>1784205</td>\n",
       "      <td>3.800171e+10</td>\n",
       "      <td>2117802</td>\n",
       "      <td>712</td>\n",
       "      <td>0</td>\n",
       "      <td>0</td>\n",
       "      <td>1</td>\n",
       "      <td>0</td>\n",
       "      <td>50.2</td>\n",
       "    </tr>\n",
       "    <tr>\n",
       "      <th>1</th>\n",
       "      <td>335201</td>\n",
       "      <td>175040</td>\n",
       "      <td>160162</td>\n",
       "      <td>12087</td>\n",
       "      <td>114949</td>\n",
       "      <td>77450</td>\n",
       "      <td>55264</td>\n",
       "      <td>50952</td>\n",
       "      <td>24502</td>\n",
       "      <td>1457</td>\n",
       "      <td>...</td>\n",
       "      <td>3.102697e+09</td>\n",
       "      <td>262604</td>\n",
       "      <td>2.483960e+09</td>\n",
       "      <td>209923</td>\n",
       "      <td>164</td>\n",
       "      <td>0</td>\n",
       "      <td>0</td>\n",
       "      <td>0</td>\n",
       "      <td>1</td>\n",
       "      <td>50.2</td>\n",
       "    </tr>\n",
       "    <tr>\n",
       "      <th>2</th>\n",
       "      <td>381295</td>\n",
       "      <td>223109</td>\n",
       "      <td>158185</td>\n",
       "      <td>8583</td>\n",
       "      <td>77033</td>\n",
       "      <td>100744</td>\n",
       "      <td>91333</td>\n",
       "      <td>71406</td>\n",
       "      <td>32198</td>\n",
       "      <td>1241</td>\n",
       "      <td>...</td>\n",
       "      <td>4.002332e+09</td>\n",
       "      <td>327271</td>\n",
       "      <td>2.345138e+09</td>\n",
       "      <td>186702</td>\n",
       "      <td>166</td>\n",
       "      <td>0</td>\n",
       "      <td>1</td>\n",
       "      <td>0</td>\n",
       "      <td>0</td>\n",
       "      <td>50.2</td>\n",
       "    </tr>\n",
       "    <tr>\n",
       "      <th>3</th>\n",
       "      <td>325601</td>\n",
       "      <td>182857</td>\n",
       "      <td>142744</td>\n",
       "      <td>10242</td>\n",
       "      <td>87783</td>\n",
       "      <td>81585</td>\n",
       "      <td>65761</td>\n",
       "      <td>55946</td>\n",
       "      <td>24282</td>\n",
       "      <td>1066</td>\n",
       "      <td>...</td>\n",
       "      <td>1.015827e+09</td>\n",
       "      <td>100601</td>\n",
       "      <td>8.502911e+08</td>\n",
       "      <td>80420</td>\n",
       "      <td>58</td>\n",
       "      <td>0</td>\n",
       "      <td>0</td>\n",
       "      <td>0</td>\n",
       "      <td>1</td>\n",
       "      <td>50.2</td>\n",
       "    </tr>\n",
       "    <tr>\n",
       "      <th>4</th>\n",
       "      <td>20972</td>\n",
       "      <td>10817</td>\n",
       "      <td>10155</td>\n",
       "      <td>802</td>\n",
       "      <td>8035</td>\n",
       "      <td>4558</td>\n",
       "      <td>2856</td>\n",
       "      <td>2961</td>\n",
       "      <td>1760</td>\n",
       "      <td>100</td>\n",
       "      <td>...</td>\n",
       "      <td>6.969485e+08</td>\n",
       "      <td>29640</td>\n",
       "      <td>7.983769e+08</td>\n",
       "      <td>27962</td>\n",
       "      <td>18</td>\n",
       "      <td>1</td>\n",
       "      <td>0</td>\n",
       "      <td>0</td>\n",
       "      <td>0</td>\n",
       "      <td>50.2</td>\n",
       "    </tr>\n",
       "  </tbody>\n",
       "</table>\n",
       "<p>5 rows × 72 columns</p>\n",
       "</div>"
      ],
      "text/plain": [
       "        X1      X2      X3     X4      X5      X6      X7      X8     X9  \\\n",
       "0  1078154  556415  521736  63220  353808  235924  168800  157170  99228   \n",
       "1   335201  175040  160162  12087  114949   77450   55264   50952  24502   \n",
       "2   381295  223109  158185   8583   77033  100744   91333   71406  32198   \n",
       "3   325601  182857  142744  10242   87783   81585   65761   55946  24282   \n",
       "4    20972   10817   10155    802    8035    4558    2856    2961   1760   \n",
       "\n",
       "    X10  ...           X63      X64           X65      X66  X67  X68  X69  \\\n",
       "0  1577  ...  3.380276e+10  1784205  3.800171e+10  2117802  712    0    0   \n",
       "1  1457  ...  3.102697e+09   262604  2.483960e+09   209923  164    0    0   \n",
       "2  1241  ...  4.002332e+09   327271  2.345138e+09   186702  166    0    1   \n",
       "3  1066  ...  1.015827e+09   100601  8.502911e+08    80420   58    0    0   \n",
       "4   100  ...  6.969485e+08    29640  7.983769e+08    27962   18    1    0   \n",
       "\n",
       "   X70  X71   X72  \n",
       "0    1    0  50.2  \n",
       "1    0    1  50.2  \n",
       "2    0    0  50.2  \n",
       "3    0    1  50.2  \n",
       "4    0    0  50.2  \n",
       "\n",
       "[5 rows x 72 columns]"
      ]
     },
     "execution_count": 80,
     "metadata": {},
     "output_type": "execute_result"
    }
   ],
   "source": [
    "X_test = test.iloc[:, :-1]\n",
    "y_test = test.iloc[:, -1:]\n",
    "X.head()"
   ]
  },
  {
   "cell_type": "code",
   "execution_count": 81,
   "metadata": {},
   "outputs": [],
   "source": [
    "X_test_std = scaler.fit_transform(X_test)\n",
    "y_test_std = scaler.fit_transform(y_test)"
   ]
  },
  {
   "cell_type": "code",
   "execution_count": 82,
   "metadata": {},
   "outputs": [],
   "source": [
    "Y_prediction = forest.predict(X_test_std)"
   ]
  },
  {
   "cell_type": "code",
   "execution_count": 83,
   "metadata": {},
   "outputs": [
    {
     "data": {
      "text/plain": [
       "array([-1.17996206, -1.17720792, -1.16854889, -1.13157725, -1.17167759])"
      ]
     },
     "execution_count": 83,
     "metadata": {},
     "output_type": "execute_result"
    }
   ],
   "source": [
    "Y_prediction[:5]"
   ]
  },
  {
   "cell_type": "code",
   "execution_count": 84,
   "metadata": {},
   "outputs": [
    {
     "data": {
      "text/plain": [
       "array([2.96978651, 2.98357254, 3.02691579, 3.21197936, 3.01125487])"
      ]
     },
     "execution_count": 84,
     "metadata": {},
     "output_type": "execute_result"
    }
   ],
   "source": [
    "Y_prediction_ = scaler.inverse_transform(Y_prediction)\n",
    "Y_prediction_[:5]"
   ]
  },
  {
   "cell_type": "code",
   "execution_count": 85,
   "metadata": {},
   "outputs": [],
   "source": [
    "ff = pd.DataFrame(Y_prediction)"
   ]
  },
  {
   "cell_type": "code",
   "execution_count": 86,
   "metadata": {},
   "outputs": [],
   "source": [
    "Y_pred = pd.DataFrame(Y_prediction_)\n",
    "Y_real = pd.DataFrame(y_test)"
   ]
  },
  {
   "cell_type": "code",
   "execution_count": 87,
   "metadata": {},
   "outputs": [
    {
     "data": {
      "text/html": [
       "<div>\n",
       "<style scoped>\n",
       "    .dataframe tbody tr th:only-of-type {\n",
       "        vertical-align: middle;\n",
       "    }\n",
       "\n",
       "    .dataframe tbody tr th {\n",
       "        vertical-align: top;\n",
       "    }\n",
       "\n",
       "    .dataframe thead th {\n",
       "        text-align: right;\n",
       "    }\n",
       "</style>\n",
       "<table border=\"1\" class=\"dataframe\">\n",
       "  <thead>\n",
       "    <tr style=\"text-align: right;\">\n",
       "      <th></th>\n",
       "      <th>Y_pred</th>\n",
       "      <th>Y_real</th>\n",
       "      <th>Mean</th>\n",
       "    </tr>\n",
       "  </thead>\n",
       "  <tbody>\n",
       "    <tr>\n",
       "      <th>count</th>\n",
       "      <td>369.000000</td>\n",
       "      <td>369.000000</td>\n",
       "      <td>369.000000</td>\n",
       "    </tr>\n",
       "    <tr>\n",
       "      <th>mean</th>\n",
       "      <td>8.230859</td>\n",
       "      <td>8.876152</td>\n",
       "      <td>4.081684</td>\n",
       "    </tr>\n",
       "    <tr>\n",
       "      <th>std</th>\n",
       "      <td>2.737015</td>\n",
       "      <td>5.012352</td>\n",
       "      <td>4.003440</td>\n",
       "    </tr>\n",
       "    <tr>\n",
       "      <th>min</th>\n",
       "      <td>1.000701</td>\n",
       "      <td>2.100000</td>\n",
       "      <td>0.058511</td>\n",
       "    </tr>\n",
       "    <tr>\n",
       "      <th>25%</th>\n",
       "      <td>6.816087</td>\n",
       "      <td>4.700000</td>\n",
       "      <td>1.408397</td>\n",
       "    </tr>\n",
       "    <tr>\n",
       "      <th>50%</th>\n",
       "      <td>8.291743</td>\n",
       "      <td>7.900000</td>\n",
       "      <td>3.554618</td>\n",
       "    </tr>\n",
       "    <tr>\n",
       "      <th>75%</th>\n",
       "      <td>10.147341</td>\n",
       "      <td>13.800000</td>\n",
       "      <td>5.253521</td>\n",
       "    </tr>\n",
       "    <tr>\n",
       "      <th>max</th>\n",
       "      <td>15.027704</td>\n",
       "      <td>24.300000</td>\n",
       "      <td>23.299299</td>\n",
       "    </tr>\n",
       "  </tbody>\n",
       "</table>\n",
       "</div>"
      ],
      "text/plain": [
       "           Y_pred      Y_real        Mean\n",
       "count  369.000000  369.000000  369.000000\n",
       "mean     8.230859    8.876152    4.081684\n",
       "std      2.737015    5.012352    4.003440\n",
       "min      1.000701    2.100000    0.058511\n",
       "25%      6.816087    4.700000    1.408397\n",
       "50%      8.291743    7.900000    3.554618\n",
       "75%     10.147341   13.800000    5.253521\n",
       "max     15.027704   24.300000   23.299299"
      ]
     },
     "execution_count": 87,
     "metadata": {},
     "output_type": "execute_result"
    }
   ],
   "source": [
    "result = pd.DataFrame()\n",
    "result['Y_pred'] = Y_pred.values.flatten()\n",
    "result['Y_real'] = Y_real.values.flatten()\n",
    "result['Mean'] = result['Y_pred'] - result['Y_real']\n",
    "result['Mean'] = result['Mean'].abs()\n",
    "result.describe()"
   ]
  }
 ],
 "metadata": {
  "kernelspec": {
   "display_name": "Python 3",
   "language": "python",
   "name": "python3"
  },
  "language_info": {
   "codemirror_mode": {
    "name": "ipython",
    "version": 3
   },
   "file_extension": ".py",
   "mimetype": "text/x-python",
   "name": "python",
   "nbconvert_exporter": "python",
   "pygments_lexer": "ipython3",
   "version": "3.7.3"
  }
 },
 "nbformat": 4,
 "nbformat_minor": 2
}
