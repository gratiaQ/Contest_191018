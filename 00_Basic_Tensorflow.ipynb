{
 "cells": [
  {
   "cell_type": "markdown",
   "metadata": {},
   "source": [
    "### 1) Basic Tensorflow"
   ]
  },
  {
   "cell_type": "code",
   "execution_count": 1,
   "metadata": {},
   "outputs": [
    {
     "data": {
      "text/plain": [
       "'1.14.0'"
      ]
     },
     "execution_count": 1,
     "metadata": {},
     "output_type": "execute_result"
    }
   ],
   "source": [
    "import tensorflow as tf\n",
    "tf.__version__"
   ]
  },
  {
   "cell_type": "code",
   "execution_count": 2,
   "metadata": {},
   "outputs": [
    {
     "name": "stdout",
     "output_type": "stream",
     "text": [
      "b'Hello, Tensorflow!'\n"
     ]
    }
   ],
   "source": [
    "# Create a constant op\n",
    "# This op is added as a node to the default graph\n",
    "hello = tf.constant('Hello, Tensorflow!')\n",
    "# seart a TF session\n",
    "sess = tf.Session()\n",
    "# run the op and get result\n",
    "print(sess.run(hello))\n",
    "# result b'string -> bytes literals"
   ]
  },
  {
   "cell_type": "code",
   "execution_count": 3,
   "metadata": {},
   "outputs": [],
   "source": [
    "node1 = tf.constant(3.0, tf.float32)\n",
    "node2 = tf.constant(4.0) # also tf.float32 implicitly\n",
    "node3 = tf.add(node1, node2)"
   ]
  },
  {
   "cell_type": "code",
   "execution_count": 4,
   "metadata": {},
   "outputs": [
    {
     "name": "stdout",
     "output_type": "stream",
     "text": [
      "node1 : Tensor(\"Const_1:0\", shape=(), dtype=float32)\n",
      "node2 : Tensor(\"Const_2:0\", shape=(), dtype=float32)\n",
      "node3 : Tensor(\"Add:0\", shape=(), dtype=float32)\n"
     ]
    }
   ],
   "source": [
    "print('node1 :', node1)\n",
    "print('node2 :', node2)\n",
    "print('node3 :', node3)"
   ]
  },
  {
   "cell_type": "code",
   "execution_count": 5,
   "metadata": {},
   "outputs": [
    {
     "name": "stdout",
     "output_type": "stream",
     "text": [
      "sess.run(node1, node2) : [3.0, 4.0]\n",
      "sess.run(node3) : 7.0\n"
     ]
    }
   ],
   "source": [
    "sess = tf.Session()\n",
    "print('sess.run(node1, node2) :', sess.run([node1, node2]))\n",
    "print('sess.run(node3) :', sess.run(node3))"
   ]
  },
  {
   "cell_type": "markdown",
   "metadata": {},
   "source": [
    "1. Bulid graph (tensors) using TensorFlow operations\n",
    "2. feed data and run graph(operation)  \n",
    "    sess.run(op)\n",
    "3. update variables in the graph  \n",
    "    (and return values)"
   ]
  },
  {
   "cell_type": "code",
   "execution_count": 6,
   "metadata": {},
   "outputs": [
    {
     "name": "stdout",
     "output_type": "stream",
     "text": [
      "7.5\n",
      "[3. 7.]\n"
     ]
    }
   ],
   "source": [
    "a = tf.placeholder(tf.float32)\n",
    "b = tf.placeholder(tf.float32)\n",
    "adder_node = a + b\n",
    "\n",
    "print(sess.run(adder_node, feed_dict={a: 3, b: 4.5}))\n",
    "print(sess.run(adder_node, feed_dict={a: [1, 3], b: [2, 4]}))\n"
   ]
  },
  {
   "cell_type": "markdown",
   "metadata": {},
   "source": [
    "1. Bulid graph (tensors) using TensorFlow operations\n",
    "2. feed data and run graph(operation)  \n",
    "    sess.run(op, feed_dict={x:x_data})\n",
    "3. update variables in the graph  \n",
    "    (and return values)"
   ]
  },
  {
   "cell_type": "code",
   "execution_count": 7,
   "metadata": {},
   "outputs": [
    {
     "data": {
      "text/plain": [
       "[[[1.0, 2.0, 3.0]], [[1.0, 2.0, 3.0]]]"
      ]
     },
     "execution_count": 7,
     "metadata": {},
     "output_type": "execute_result"
    }
   ],
   "source": [
    "# a rank 0 tensor; this is a scalar with shape []\n",
    "3 \n",
    "\n",
    "# a rank 1 tensor; this is a vector with shape[3]\n",
    "[1., 2., 3.] \n",
    "\n",
    "# a rank 2 tensor; this is a vector with shape[2, 3]\n",
    "[[1., 2., 3.],\n",
    " [1., 2., 3.]]\n",
    "\n",
    "# a rank 3 tensor; this is a vector with shape[2, 1, 3]\n",
    "[[[1., 2., 3.]],\n",
    " [[1., 2., 3.]]]"
   ]
  },
  {
   "cell_type": "markdown",
   "metadata": {},
   "source": [
    "| Rank | Math entity | Python Example |\n",
    "|:------:|:------:|:------:|\n",
    "|0|Scalar(magnitude only)|s = 403|\n",
    "|1|Vector(magnitude and direction)|v = [1.1, 2.2, 3.3]|\n",
    "|2|Matrix(table of numbers)|m = [[1,2,3],[1,2,3],[1,2,3]]|\n",
    "|3|3-Tensor(cube of numbers)|t = [[[2], [4],[6]]]|\n",
    "|n|n-Tensor(you get the idea)|...|\n"
   ]
  },
  {
   "cell_type": "markdown",
   "metadata": {},
   "source": [
    "| Rank | Shape | Python Example |\n",
    "|:------:|:------:|:------:|\n",
    "|0-D|[]|0-D tensor. A scalar.|\n",
    "|1-D|[D0]|shape [5]|\n",
    "|2-D|[D0, D1]|shape [3, 4]|\n",
    "|3-D|[D0, D1, D2]|shape [1, 4, 3]|\n",
    "|n-D|[DO, D1, ... Dn-1]|...|\n"
   ]
  },
  {
   "cell_type": "markdown",
   "metadata": {},
   "source": [
    "### 2. Linear Regression Example"
   ]
  },
  {
   "cell_type": "code",
   "execution_count": 8,
   "metadata": {},
   "outputs": [],
   "source": [
    "# H(x) = Wx + b\n",
    "x_train = [1, 2, 3]\n",
    "y_train = [1, 2, 3]\n",
    "# Variable = Tensorflow var = Graph Node\n",
    "W = tf.Variable(tf.random_normal([1]), name= 'weight')\n",
    "b = tf.Variable(tf.random_normal([1]), name= 'bias')\n",
    "\n",
    "#Our hypothesis XW + b\n",
    "hypothesis = x_train * W + b"
   ]
  },
  {
   "cell_type": "code",
   "execution_count": 9,
   "metadata": {},
   "outputs": [],
   "source": [
    "# cost/loss function\n",
    "cost = tf.reduce_mean(tf.square(hypothesis - y_train))"
   ]
  },
  {
   "cell_type": "code",
   "execution_count": 10,
   "metadata": {},
   "outputs": [],
   "source": [
    "# Minimize\n",
    "optimizer = tf.train.GradientDescentOptimizer(learning_rate= 0.01)\n",
    "train = optimizer.minimize(cost)"
   ]
  },
  {
   "cell_type": "code",
   "execution_count": 11,
   "metadata": {},
   "outputs": [],
   "source": [
    "# Launch the graph in a session\n",
    "sess = tf.Session()\n",
    "# Initializes global variables in the graph\n",
    "sess.run(tf.global_variables_initializer())"
   ]
  },
  {
   "cell_type": "code",
   "execution_count": 12,
   "metadata": {},
   "outputs": [
    {
     "name": "stdout",
     "output_type": "stream",
     "text": [
      "0 0.064859636 [1.3099558] [-0.5914297]\n",
      "200 0.020368382 [1.1657578] [-0.37680656]\n",
      "400 0.007777635 [1.1024282] [-0.23284346]\n",
      "600 0.0029698766 [1.0632944] [-0.14388299]\n",
      "800 0.0011340382 [1.039112] [-0.08891095]\n",
      "1000 0.00043303007 [1.0241688] [-0.05494156]\n",
      "1200 0.00016535219 [1.0149348] [-0.0339504]\n",
      "1400 6.314012e-05 [1.0092288] [-0.02097936]\n",
      "1600 2.4109671e-05 [1.0057029] [-0.01296398]\n",
      "1800 9.20657e-06 [1.0035242] [-0.00801109]\n",
      "2000 3.516063e-06 [1.0021778] [-0.00495056]\n"
     ]
    }
   ],
   "source": [
    "for step in range(2001):\n",
    "    sess.run(train)\n",
    "    if step % 200 == 0:\n",
    "        print(step, sess.run(cost), sess.run(W), sess.run(b))"
   ]
  },
  {
   "cell_type": "code",
   "execution_count": 14,
   "metadata": {},
   "outputs": [
    {
     "name": "stdout",
     "output_type": "stream",
     "text": [
      "7.5\n",
      "[3. 7.]\n"
     ]
    }
   ],
   "source": [
    "a = tf.placeholder(tf.float32)\n",
    "b = tf.placeholder(tf.float32)\n",
    "\n",
    "# + provides a shortcut for tf.add(a, b)\n",
    "adder_node = a + b\n",
    "\n",
    "print(sess.run(adder_node, feed_dict={a: 3, b: 4.5}))\n",
    "print(sess.run(adder_node, feed_dict={a: [1, 3], b: [2, 4]}))"
   ]
  },
  {
   "cell_type": "code",
   "execution_count": 21,
   "metadata": {},
   "outputs": [],
   "source": [
    "# H(x) = Wx + b\n",
    "# x_train = [1, 2, 3]\n",
    "# Variable = Tensorflow var = Graph Node\n",
    "W = tf.Variable(tf.random_normal([1]), name= 'weight')\n",
    "b = tf.Variable(tf.random_normal([1]), name= 'bias')\n",
    "# shape=[None] ==> 1-D in all va lue\n",
    "X = tf.placeholder(tf.float32, shape=[None])\n",
    "Y = tf.placeholder(tf.float32, shape=[None])\n",
    "\n",
    "#Our hypothesis XW + b\n",
    "hypothesis = X * W + b"
   ]
  },
  {
   "cell_type": "code",
   "execution_count": 22,
   "metadata": {},
   "outputs": [],
   "source": [
    "cost = tf.reduce_mean(tf.square(hypothesis - Y))\n",
    "optimizer = tf.train.GradientDescentOptimizer(learning_rate= 0.01)\n",
    "train = optimizer.minimize(cost)"
   ]
  },
  {
   "cell_type": "code",
   "execution_count": 23,
   "metadata": {},
   "outputs": [],
   "source": [
    "sess = tf.Session()\n",
    "sess.run(tf.global_variables_initializer())"
   ]
  },
  {
   "cell_type": "code",
   "execution_count": 24,
   "metadata": {},
   "outputs": [
    {
     "name": "stdout",
     "output_type": "stream",
     "text": [
      "0 49.45172 [-0.8995497] [0.2997923]\n",
      "200 0.003042852 [1.0358127] [0.9707044]\n",
      "400 0.0007851656 [1.0181919] [1.0343213]\n",
      "600 0.00020259821 [1.0092409] [1.0666372]\n",
      "800 5.2278065e-05 [1.0046941] [1.0830525]\n",
      "1000 1.3490557e-05 [1.0023845] [1.091391]\n",
      "1200 3.4815307e-06 [1.0012114] [1.0956264]\n",
      "1400 8.986096e-07 [1.0006155] [1.097778]\n",
      "1600 2.3214393e-07 [1.0003129] [1.0988705]\n",
      "1800 6.006403e-08 [1.000159] [1.0994257]\n",
      "2000 1.5554406e-08 [1.0000811] [1.0997075]\n"
     ]
    }
   ],
   "source": [
    "for step in range(2001):\n",
    "    cost_val, W_val, b_val, _ = sess.run([cost, W, b, train],\n",
    "                                        feed_dict= {\n",
    "                                            X: [1, 2, 3, 4, 5],\n",
    "                                            Y: [2.1, 3.1, 4.1, 5.1, 6.1]})\n",
    "    if step % 200 == 0:\n",
    "        print(step, cost_val, W_val, b_val)"
   ]
  },
  {
   "cell_type": "code",
   "execution_count": 27,
   "metadata": {},
   "outputs": [
    {
     "name": "stdout",
     "output_type": "stream",
     "text": [
      "[6.100113]\n",
      "[3.5999107]\n",
      "[2.5998297 4.5999913]\n"
     ]
    }
   ],
   "source": [
    "# Testing our model\n",
    "print(sess.run(hypothesis, feed_dict= {X: [5]}))\n",
    "print(sess.run(hypothesis, feed_dict= {X: [2.5]}))\n",
    "print(sess.run(hypothesis, feed_dict= {X: [1.5, 3.5]}))"
   ]
  }
 ],
 "metadata": {
  "kernelspec": {
   "display_name": "Python 3",
   "language": "python",
   "name": "python3"
  },
  "language_info": {
   "codemirror_mode": {
    "name": "ipython",
    "version": 3
   },
   "file_extension": ".py",
   "mimetype": "text/x-python",
   "name": "python",
   "nbconvert_exporter": "python",
   "pygments_lexer": "ipython3",
   "version": "3.7.3"
  }
 },
 "nbformat": 4,
 "nbformat_minor": 2
}
