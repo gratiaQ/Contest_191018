{
 "cells": [
  {
   "cell_type": "code",
   "execution_count": 1,
   "metadata": {},
   "outputs": [],
   "source": [
    "import pandas as pd\n",
    "import numpy as np"
   ]
  },
  {
   "cell_type": "code",
   "execution_count": 2,
   "metadata": {},
   "outputs": [],
   "source": [
    "vacancy_df = pd.read_csv('../Train.csv', encoding= 'ansi')"
   ]
  },
  {
   "cell_type": "code",
   "execution_count": 3,
   "metadata": {},
   "outputs": [
    {
     "name": "stdout",
     "output_type": "stream",
     "text": [
      "데이터 세트의 Shape: (5772, 69)\n"
     ]
    }
   ],
   "source": [
    "print('데이터 세트의 Shape:', vacancy_df.shape)"
   ]
  },
  {
   "cell_type": "code",
   "execution_count": 4,
   "metadata": {},
   "outputs": [
    {
     "data": {
      "text/html": [
       "<div>\n",
       "<style scoped>\n",
       "    .dataframe tbody tr th:only-of-type {\n",
       "        vertical-align: middle;\n",
       "    }\n",
       "\n",
       "    .dataframe tbody tr th {\n",
       "        vertical-align: top;\n",
       "    }\n",
       "\n",
       "    .dataframe thead th {\n",
       "        text-align: right;\n",
       "    }\n",
       "</style>\n",
       "<table border=\"1\" class=\"dataframe\">\n",
       "  <thead>\n",
       "    <tr style=\"text-align: right;\">\n",
       "      <th></th>\n",
       "      <th>X1</th>\n",
       "      <th>X2</th>\n",
       "      <th>X3</th>\n",
       "      <th>X4</th>\n",
       "      <th>X5</th>\n",
       "      <th>X6</th>\n",
       "      <th>X7</th>\n",
       "      <th>X8</th>\n",
       "      <th>X9</th>\n",
       "      <th>X10</th>\n",
       "      <th>...</th>\n",
       "      <th>X60</th>\n",
       "      <th>X61</th>\n",
       "      <th>X62</th>\n",
       "      <th>X63</th>\n",
       "      <th>X64</th>\n",
       "      <th>X65</th>\n",
       "      <th>X66</th>\n",
       "      <th>X67</th>\n",
       "      <th>X68</th>\n",
       "      <th>Y</th>\n",
       "    </tr>\n",
       "  </thead>\n",
       "  <tbody>\n",
       "    <tr>\n",
       "      <th>0</th>\n",
       "      <td>1078154</td>\n",
       "      <td>556415</td>\n",
       "      <td>521736</td>\n",
       "      <td>63220</td>\n",
       "      <td>353808</td>\n",
       "      <td>235924</td>\n",
       "      <td>168800</td>\n",
       "      <td>157170</td>\n",
       "      <td>99228</td>\n",
       "      <td>1577</td>\n",
       "      <td>...</td>\n",
       "      <td>4.821905e+10</td>\n",
       "      <td>2.646531e+10</td>\n",
       "      <td>2571027</td>\n",
       "      <td>1394990</td>\n",
       "      <td>3.380276e+10</td>\n",
       "      <td>1784205</td>\n",
       "      <td>3.800171e+10</td>\n",
       "      <td>2117802</td>\n",
       "      <td>712</td>\n",
       "      <td>50.2</td>\n",
       "    </tr>\n",
       "    <tr>\n",
       "      <th>1</th>\n",
       "      <td>335201</td>\n",
       "      <td>175040</td>\n",
       "      <td>160162</td>\n",
       "      <td>12087</td>\n",
       "      <td>114949</td>\n",
       "      <td>77450</td>\n",
       "      <td>55264</td>\n",
       "      <td>50952</td>\n",
       "      <td>24502</td>\n",
       "      <td>1457</td>\n",
       "      <td>...</td>\n",
       "      <td>4.232019e+09</td>\n",
       "      <td>1.922581e+09</td>\n",
       "      <td>327711</td>\n",
       "      <td>160862</td>\n",
       "      <td>3.102697e+09</td>\n",
       "      <td>262604</td>\n",
       "      <td>2.483960e+09</td>\n",
       "      <td>209923</td>\n",
       "      <td>164</td>\n",
       "      <td>50.2</td>\n",
       "    </tr>\n",
       "    <tr>\n",
       "      <th>2</th>\n",
       "      <td>381295</td>\n",
       "      <td>223109</td>\n",
       "      <td>158185</td>\n",
       "      <td>8583</td>\n",
       "      <td>77033</td>\n",
       "      <td>100744</td>\n",
       "      <td>91333</td>\n",
       "      <td>71406</td>\n",
       "      <td>32198</td>\n",
       "      <td>1241</td>\n",
       "      <td>...</td>\n",
       "      <td>4.643661e+09</td>\n",
       "      <td>2.334446e+09</td>\n",
       "      <td>363927</td>\n",
       "      <td>165091</td>\n",
       "      <td>4.002332e+09</td>\n",
       "      <td>327271</td>\n",
       "      <td>2.345138e+09</td>\n",
       "      <td>186702</td>\n",
       "      <td>166</td>\n",
       "      <td>50.2</td>\n",
       "    </tr>\n",
       "    <tr>\n",
       "      <th>3</th>\n",
       "      <td>325601</td>\n",
       "      <td>182857</td>\n",
       "      <td>142744</td>\n",
       "      <td>10242</td>\n",
       "      <td>87783</td>\n",
       "      <td>81585</td>\n",
       "      <td>65761</td>\n",
       "      <td>55946</td>\n",
       "      <td>24282</td>\n",
       "      <td>1066</td>\n",
       "      <td>...</td>\n",
       "      <td>1.393262e+09</td>\n",
       "      <td>6.328773e+08</td>\n",
       "      <td>126787</td>\n",
       "      <td>59312</td>\n",
       "      <td>1.015827e+09</td>\n",
       "      <td>100601</td>\n",
       "      <td>8.502911e+08</td>\n",
       "      <td>80420</td>\n",
       "      <td>58</td>\n",
       "      <td>50.2</td>\n",
       "    </tr>\n",
       "    <tr>\n",
       "      <th>4</th>\n",
       "      <td>20972</td>\n",
       "      <td>10817</td>\n",
       "      <td>10155</td>\n",
       "      <td>802</td>\n",
       "      <td>8035</td>\n",
       "      <td>4558</td>\n",
       "      <td>2856</td>\n",
       "      <td>2961</td>\n",
       "      <td>1760</td>\n",
       "      <td>100</td>\n",
       "      <td>...</td>\n",
       "      <td>1.080645e+09</td>\n",
       "      <td>4.755633e+08</td>\n",
       "      <td>41244</td>\n",
       "      <td>17543</td>\n",
       "      <td>6.969485e+08</td>\n",
       "      <td>29640</td>\n",
       "      <td>7.983769e+08</td>\n",
       "      <td>27962</td>\n",
       "      <td>18</td>\n",
       "      <td>50.2</td>\n",
       "    </tr>\n",
       "  </tbody>\n",
       "</table>\n",
       "<p>5 rows × 69 columns</p>\n",
       "</div>"
      ],
      "text/plain": [
       "        X1      X2      X3     X4      X5      X6      X7      X8     X9  \\\n",
       "0  1078154  556415  521736  63220  353808  235924  168800  157170  99228   \n",
       "1   335201  175040  160162  12087  114949   77450   55264   50952  24502   \n",
       "2   381295  223109  158185   8583   77033  100744   91333   71406  32198   \n",
       "3   325601  182857  142744  10242   87783   81585   65761   55946  24282   \n",
       "4    20972   10817   10155    802    8035    4558    2856    2961   1760   \n",
       "\n",
       "    X10  ...           X60           X61      X62      X63           X64  \\\n",
       "0  1577  ...  4.821905e+10  2.646531e+10  2571027  1394990  3.380276e+10   \n",
       "1  1457  ...  4.232019e+09  1.922581e+09   327711   160862  3.102697e+09   \n",
       "2  1241  ...  4.643661e+09  2.334446e+09   363927   165091  4.002332e+09   \n",
       "3  1066  ...  1.393262e+09  6.328773e+08   126787    59312  1.015827e+09   \n",
       "4   100  ...  1.080645e+09  4.755633e+08    41244    17543  6.969485e+08   \n",
       "\n",
       "       X65           X66      X67  X68     Y  \n",
       "0  1784205  3.800171e+10  2117802  712  50.2  \n",
       "1   262604  2.483960e+09   209923  164  50.2  \n",
       "2   327271  2.345138e+09   186702  166  50.2  \n",
       "3   100601  8.502911e+08    80420   58  50.2  \n",
       "4    29640  7.983769e+08    27962   18  50.2  \n",
       "\n",
       "[5 rows x 69 columns]"
      ]
     },
     "execution_count": 4,
     "metadata": {},
     "output_type": "execute_result"
    }
   ],
   "source": [
    "vacancy_df.head()"
   ]
  },
  {
   "cell_type": "code",
   "execution_count": 5,
   "metadata": {},
   "outputs": [],
   "source": [
    "#vacancy_df['Y'] = np.log1p(vacancy_df['Y'])"
   ]
  },
  {
   "cell_type": "code",
   "execution_count": 6,
   "metadata": {},
   "outputs": [],
   "source": [
    "from scipy.stats import skew"
   ]
  },
  {
   "cell_type": "code",
   "execution_count": 7,
   "metadata": {},
   "outputs": [],
   "source": [
    "# object가 아닌 숫자형 피쳐의 컬럼 index 객체 추출.\n",
    "features_index = vacancy_df.dtypes[vacancy_df.dtypes != 'object'].index\n",
    "\n",
    "# house_df에 컬럼 index를 [ ]로 입력하면 해당하는 컬럼 데이터 셋 반환. \n",
    "# apply lambda로 skew( )호출 \n",
    "skew_features = vacancy_df[features_index].apply(lambda x : skew(x))\n",
    "\n",
    "# skew 정도가 1 이상인 컬럼들만 추출.\n",
    "skew_features_top = skew_features[skew_features > 1]"
   ]
  },
  {
   "cell_type": "code",
   "execution_count": 8,
   "metadata": {},
   "outputs": [],
   "source": [
    "vacancy_df[skew_features_top.index] = np.log1p(vacancy_df[skew_features_top.index])"
   ]
  },
  {
   "cell_type": "code",
   "execution_count": 44,
   "metadata": {},
   "outputs": [
    {
     "data": {
      "text/plain": [
       "Index(['X1', 'X2', 'X3', 'X4', 'X5', 'X6', 'X7', 'X8', 'X9', 'X10', 'X12',\n",
       "       'X13', 'X14', 'X15', 'X16', 'X17', 'X18', 'X19', 'X21', 'X22', 'X23',\n",
       "       'X24', 'X25', 'X26', 'X27', 'X28', 'X29', 'X30', 'X31', 'X32', 'X33',\n",
       "       'X34', 'X35', 'X36', 'X37', 'X38', 'X39', 'X40', 'X41', 'X42', 'X43',\n",
       "       'X44', 'X45', 'X46', 'X47', 'X48', 'X49', 'X50', 'X51', 'X52', 'X53',\n",
       "       'X57', 'X58', 'X59', 'X60', 'X61', 'X62', 'X63', 'X64', 'X65', 'X66',\n",
       "       'X67', 'X68'],\n",
       "      dtype='object')"
      ]
     },
     "execution_count": 44,
     "metadata": {},
     "output_type": "execute_result"
    }
   ],
   "source": [
    "# skew_features_top.index[:-1]"
   ]
  },
  {
   "cell_type": "code",
   "execution_count": 9,
   "metadata": {},
   "outputs": [],
   "source": [
    "vacancy_df = pd.get_dummies(vacancy_df)"
   ]
  },
  {
   "cell_type": "code",
   "execution_count": 10,
   "metadata": {},
   "outputs": [
    {
     "data": {
      "text/html": [
       "<div>\n",
       "<style scoped>\n",
       "    .dataframe tbody tr th:only-of-type {\n",
       "        vertical-align: middle;\n",
       "    }\n",
       "\n",
       "    .dataframe tbody tr th {\n",
       "        vertical-align: top;\n",
       "    }\n",
       "\n",
       "    .dataframe thead th {\n",
       "        text-align: right;\n",
       "    }\n",
       "</style>\n",
       "<table border=\"1\" class=\"dataframe\">\n",
       "  <thead>\n",
       "    <tr style=\"text-align: right;\">\n",
       "      <th></th>\n",
       "      <th>X1</th>\n",
       "      <th>X2</th>\n",
       "      <th>X3</th>\n",
       "      <th>X4</th>\n",
       "      <th>X5</th>\n",
       "      <th>X6</th>\n",
       "      <th>X7</th>\n",
       "      <th>X8</th>\n",
       "      <th>X9</th>\n",
       "      <th>X10</th>\n",
       "      <th>...</th>\n",
       "      <th>X64</th>\n",
       "      <th>X65</th>\n",
       "      <th>X66</th>\n",
       "      <th>X67</th>\n",
       "      <th>X68</th>\n",
       "      <th>Y</th>\n",
       "      <th>X56_HH</th>\n",
       "      <th>X56_HL</th>\n",
       "      <th>X56_LH</th>\n",
       "      <th>X56_LL</th>\n",
       "    </tr>\n",
       "  </thead>\n",
       "  <tbody>\n",
       "    <tr>\n",
       "      <th>0</th>\n",
       "      <td>13.890762</td>\n",
       "      <td>13.229271</td>\n",
       "      <td>13.164919</td>\n",
       "      <td>11.054392</td>\n",
       "      <td>12.776512</td>\n",
       "      <td>12.371269</td>\n",
       "      <td>12.036476</td>\n",
       "      <td>11.965090</td>\n",
       "      <td>11.505186</td>\n",
       "      <td>7.363914</td>\n",
       "      <td>...</td>\n",
       "      <td>24.243808</td>\n",
       "      <td>14.394484</td>\n",
       "      <td>24.360897</td>\n",
       "      <td>14.565890</td>\n",
       "      <td>6.569481</td>\n",
       "      <td>3.93574</td>\n",
       "      <td>0</td>\n",
       "      <td>0</td>\n",
       "      <td>1</td>\n",
       "      <td>0</td>\n",
       "    </tr>\n",
       "    <tr>\n",
       "      <th>1</th>\n",
       "      <td>12.722489</td>\n",
       "      <td>12.072776</td>\n",
       "      <td>11.983947</td>\n",
       "      <td>9.399969</td>\n",
       "      <td>11.652253</td>\n",
       "      <td>11.257401</td>\n",
       "      <td>10.919895</td>\n",
       "      <td>10.838659</td>\n",
       "      <td>10.106551</td>\n",
       "      <td>7.284821</td>\n",
       "      <td>...</td>\n",
       "      <td>21.855538</td>\n",
       "      <td>12.478406</td>\n",
       "      <td>21.633120</td>\n",
       "      <td>12.254501</td>\n",
       "      <td>5.105945</td>\n",
       "      <td>3.93574</td>\n",
       "      <td>0</td>\n",
       "      <td>0</td>\n",
       "      <td>0</td>\n",
       "      <td>1</td>\n",
       "    </tr>\n",
       "    <tr>\n",
       "      <th>2</th>\n",
       "      <td>12.851331</td>\n",
       "      <td>12.315420</td>\n",
       "      <td>11.971527</td>\n",
       "      <td>9.057655</td>\n",
       "      <td>11.252002</td>\n",
       "      <td>11.520348</td>\n",
       "      <td>11.422278</td>\n",
       "      <td>11.176151</td>\n",
       "      <td>10.379691</td>\n",
       "      <td>7.124478</td>\n",
       "      <td>...</td>\n",
       "      <td>22.110143</td>\n",
       "      <td>12.698547</td>\n",
       "      <td>21.575610</td>\n",
       "      <td>12.137274</td>\n",
       "      <td>5.117994</td>\n",
       "      <td>3.93574</td>\n",
       "      <td>0</td>\n",
       "      <td>1</td>\n",
       "      <td>0</td>\n",
       "      <td>0</td>\n",
       "    </tr>\n",
       "    <tr>\n",
       "      <th>3</th>\n",
       "      <td>12.693431</td>\n",
       "      <td>12.116465</td>\n",
       "      <td>11.868815</td>\n",
       "      <td>9.234350</td>\n",
       "      <td>11.382635</td>\n",
       "      <td>11.309413</td>\n",
       "      <td>11.093797</td>\n",
       "      <td>10.932160</td>\n",
       "      <td>10.097532</td>\n",
       "      <td>6.972606</td>\n",
       "      <td>...</td>\n",
       "      <td>20.738969</td>\n",
       "      <td>11.518927</td>\n",
       "      <td>20.561089</td>\n",
       "      <td>11.295031</td>\n",
       "      <td>4.077537</td>\n",
       "      <td>3.93574</td>\n",
       "      <td>0</td>\n",
       "      <td>0</td>\n",
       "      <td>0</td>\n",
       "      <td>1</td>\n",
       "    </tr>\n",
       "    <tr>\n",
       "      <th>4</th>\n",
       "      <td>9.950991</td>\n",
       "      <td>9.288967</td>\n",
       "      <td>9.225820</td>\n",
       "      <td>6.688355</td>\n",
       "      <td>8.991687</td>\n",
       "      <td>8.424859</td>\n",
       "      <td>7.957527</td>\n",
       "      <td>7.993620</td>\n",
       "      <td>7.473637</td>\n",
       "      <td>4.615121</td>\n",
       "      <td>...</td>\n",
       "      <td>20.362222</td>\n",
       "      <td>10.296914</td>\n",
       "      <td>20.498091</td>\n",
       "      <td>10.238637</td>\n",
       "      <td>2.944439</td>\n",
       "      <td>3.93574</td>\n",
       "      <td>1</td>\n",
       "      <td>0</td>\n",
       "      <td>0</td>\n",
       "      <td>0</td>\n",
       "    </tr>\n",
       "  </tbody>\n",
       "</table>\n",
       "<p>5 rows × 72 columns</p>\n",
       "</div>"
      ],
      "text/plain": [
       "          X1         X2         X3         X4         X5         X6  \\\n",
       "0  13.890762  13.229271  13.164919  11.054392  12.776512  12.371269   \n",
       "1  12.722489  12.072776  11.983947   9.399969  11.652253  11.257401   \n",
       "2  12.851331  12.315420  11.971527   9.057655  11.252002  11.520348   \n",
       "3  12.693431  12.116465  11.868815   9.234350  11.382635  11.309413   \n",
       "4   9.950991   9.288967   9.225820   6.688355   8.991687   8.424859   \n",
       "\n",
       "          X7         X8         X9       X10  ...        X64        X65  \\\n",
       "0  12.036476  11.965090  11.505186  7.363914  ...  24.243808  14.394484   \n",
       "1  10.919895  10.838659  10.106551  7.284821  ...  21.855538  12.478406   \n",
       "2  11.422278  11.176151  10.379691  7.124478  ...  22.110143  12.698547   \n",
       "3  11.093797  10.932160  10.097532  6.972606  ...  20.738969  11.518927   \n",
       "4   7.957527   7.993620   7.473637  4.615121  ...  20.362222  10.296914   \n",
       "\n",
       "         X66        X67       X68        Y  X56_HH  X56_HL  X56_LH  X56_LL  \n",
       "0  24.360897  14.565890  6.569481  3.93574       0       0       1       0  \n",
       "1  21.633120  12.254501  5.105945  3.93574       0       0       0       1  \n",
       "2  21.575610  12.137274  5.117994  3.93574       0       1       0       0  \n",
       "3  20.561089  11.295031  4.077537  3.93574       0       0       0       1  \n",
       "4  20.498091  10.238637  2.944439  3.93574       1       0       0       0  \n",
       "\n",
       "[5 rows x 72 columns]"
      ]
     },
     "execution_count": 10,
     "metadata": {},
     "output_type": "execute_result"
    }
   ],
   "source": [
    "vacancy_df.head()"
   ]
  },
  {
   "cell_type": "code",
   "execution_count": 11,
   "metadata": {},
   "outputs": [
    {
     "data": {
      "text/plain": [
       "(5772, 72)"
      ]
     },
     "execution_count": 11,
     "metadata": {},
     "output_type": "execute_result"
    }
   ],
   "source": [
    "vacancy_df.shape"
   ]
  },
  {
   "cell_type": "code",
   "execution_count": 12,
   "metadata": {},
   "outputs": [],
   "source": [
    "from sklearn.model_selection import GridSearchCV\n",
    "from sklearn.linear_model import LinearRegression, Ridge, Lasso\n",
    "from sklearn.model_selection import train_test_split\n",
    "from sklearn.metrics import mean_squared_error\n",
    "from sklearn.metrics import mean_absolute_error\n",
    "from sklearn.model_selection import KFold\n",
    "from xgboost import XGBRegressor\n",
    "from lightgbm import LGBMRegressor"
   ]
  },
  {
   "cell_type": "code",
   "execution_count": 13,
   "metadata": {},
   "outputs": [],
   "source": [
    "def get_stacking_base_datasets(model, X_train_n, y_train_n, X_test_n, n_folds ):\n",
    "    # 지정된 n_folds값으로 KFold 생성.\n",
    "    kf = KFold(n_splits=n_folds, shuffle=False, random_state=0)\n",
    "    #추후에 메타 모델이 사용할 학습 데이터 반환을 위한 넘파이 배열 초기화 \n",
    "    train_fold_pred = np.zeros((X_train_n.shape[0] ,1 ))\n",
    "    test_pred = np.zeros((X_test_n.shape[0],n_folds))\n",
    "    print(model.__class__.__name__ , ' model 시작 ')\n",
    "    \n",
    "    for folder_counter , (train_index, valid_index) in enumerate(kf.split(X_train_n)):\n",
    "        #입력된 학습 데이터에서 기반 모델이 학습/예측할 폴드 데이터 셋 추출 \n",
    "        print('\\t 폴드 세트: ',folder_counter,' 시작 ')\n",
    "        X_tr = X_train_n[train_index] \n",
    "        y_tr = y_train_n[train_index] \n",
    "        X_te = X_train_n[valid_index]  \n",
    "        \n",
    "        #폴드 세트 내부에서 다시 만들어진 학습 데이터로 기반 모델의 학습 수행.\n",
    "        model.fit(X_tr , y_tr)       \n",
    "        #폴드 세트 내부에서 다시 만들어진 검증 데이터로 기반 모델 예측 후 데이터 저장.\n",
    "        train_fold_pred[valid_index, :] = model.predict(X_te).reshape(-1,1)\n",
    "        #입력된 원본 테스트 데이터를 폴드 세트내 학습된 기반 모델에서 예측 후 데이터 저장. \n",
    "        test_pred[:, folder_counter] = model.predict(X_test_n)\n",
    "            \n",
    "    # 폴드 세트 내에서 원본 테스트 데이터를 예측한 데이터를 평균하여 테스트 데이터로 생성 \n",
    "    test_pred_mean = np.mean(test_pred, axis=1).reshape(-1,1)    \n",
    "    \n",
    "    #train_fold_pred는 최종 메타 모델이 사용하는 학습 데이터, test_pred_mean은 테스트 데이터\n",
    "    return train_fold_pred , test_pred_mean"
   ]
  },
  {
   "cell_type": "code",
   "execution_count": 14,
   "metadata": {},
   "outputs": [],
   "source": [
    "y_target = vacancy_df['Y']\n",
    "X_features = vacancy_df.drop('Y',axis= 1, inplace=False)\n",
    "\n",
    "X_train, X_test, y_train, y_test = train_test_split(X_features, y_target, \n",
    "                                                    test_size= 0.2, random_state= 0)"
   ]
  },
  {
   "cell_type": "code",
   "execution_count": 15,
   "metadata": {},
   "outputs": [
    {
     "data": {
      "text/plain": [
       "((4617, 71), (4617,))"
      ]
     },
     "execution_count": 15,
     "metadata": {},
     "output_type": "execute_result"
    }
   ],
   "source": [
    "X_train.shape, y_train.shape"
   ]
  },
  {
   "cell_type": "code",
   "execution_count": 16,
   "metadata": {},
   "outputs": [],
   "source": [
    "# get_stacking_base_datasets( )은 넘파이 ndarray를 인자로 사용하므로 DataFrame을 넘파이로 변환. \n",
    "X_train_n = X_train.values\n",
    "X_test_n = X_test.values\n",
    "y_train_n = y_train.values"
   ]
  },
  {
   "cell_type": "code",
   "execution_count": 17,
   "metadata": {},
   "outputs": [],
   "source": [
    "def get_best_params(model, params):\n",
    "    grid_model = GridSearchCV(model, param_grid=params, \n",
    "                              scoring='neg_mean_squared_error', cv=5)\n",
    "    grid_model.fit(X_features, y_target)\n",
    "    rmse = np.sqrt(-1* grid_model.best_score_)\n",
    "    print('{0} 5 CV 시 최적 평균 RMSE 값: {1}, 최적 alpha:{2}'.format(model.__class__.__name__,\n",
    "                                        np.round(rmse, 4), grid_model.best_params_))\n",
    "    return grid_model.best_estimator_"
   ]
  },
  {
   "cell_type": "code",
   "execution_count": 18,
   "metadata": {},
   "outputs": [
    {
     "name": "stdout",
     "output_type": "stream",
     "text": [
      "Ridge 5 CV 시 최적 평균 RMSE 값: 0.3372, 최적 alpha:{'alpha': 12}\n"
     ]
    },
    {
     "name": "stderr",
     "output_type": "stream",
     "text": [
      "C:\\ProgramData\\Anaconda3\\lib\\site-packages\\sklearn\\linear_model\\coordinate_descent.py:475: ConvergenceWarning: Objective did not converge. You might want to increase the number of iterations. Duality gap: 119.11650113213784, tolerance: 0.0856279660834144\n",
      "  positive)\n",
      "C:\\ProgramData\\Anaconda3\\lib\\site-packages\\sklearn\\linear_model\\coordinate_descent.py:475: ConvergenceWarning: Objective did not converge. You might want to increase the number of iterations. Duality gap: 249.845595435625, tolerance: 0.08651588042994134\n",
      "  positive)\n",
      "C:\\ProgramData\\Anaconda3\\lib\\site-packages\\sklearn\\linear_model\\coordinate_descent.py:475: ConvergenceWarning: Objective did not converge. You might want to increase the number of iterations. Duality gap: 252.8917189109867, tolerance: 0.08648735908495979\n",
      "  positive)\n",
      "C:\\ProgramData\\Anaconda3\\lib\\site-packages\\sklearn\\linear_model\\coordinate_descent.py:475: ConvergenceWarning: Objective did not converge. You might want to increase the number of iterations. Duality gap: 194.28253628524408, tolerance: 0.08791323301736721\n",
      "  positive)\n",
      "C:\\ProgramData\\Anaconda3\\lib\\site-packages\\sklearn\\linear_model\\coordinate_descent.py:475: ConvergenceWarning: Objective did not converge. You might want to increase the number of iterations. Duality gap: 195.51163183226424, tolerance: 0.08788611797009324\n",
      "  positive)\n",
      "C:\\ProgramData\\Anaconda3\\lib\\site-packages\\sklearn\\linear_model\\coordinate_descent.py:475: ConvergenceWarning: Objective did not converge. You might want to increase the number of iterations. Duality gap: 0.2317640117131532, tolerance: 0.0856279660834144\n",
      "  positive)\n"
     ]
    },
    {
     "name": "stdout",
     "output_type": "stream",
     "text": [
      "Lasso 5 CV 시 최적 평균 RMSE 값: 0.3392, 최적 alpha:{'alpha': 0.001}\n"
     ]
    },
    {
     "name": "stderr",
     "output_type": "stream",
     "text": [
      "C:\\ProgramData\\Anaconda3\\lib\\site-packages\\sklearn\\linear_model\\coordinate_descent.py:475: ConvergenceWarning: Objective did not converge. You might want to increase the number of iterations. Duality gap: 272.4681533026631, tolerance: 0.10861568970998388\n",
      "  positive)\n"
     ]
    }
   ],
   "source": [
    "ridge_reg = Ridge()\n",
    "lasso_reg = Lasso()\n",
    "\n",
    "ridge_params = { 'alpha':[0.05, 0.1, 1, 5, 8, 10, 12, 15, 20] }\n",
    "lasso_params = { 'alpha':[0.001, 0.005, 0.008, 0.05, 0.03, 0.1, 0.5, 1,5, 10] }\n",
    "best_rige = get_best_params(ridge_reg, ridge_params)\n",
    "best_lasso = get_best_params(lasso_reg, lasso_params)"
   ]
  },
  {
   "cell_type": "code",
   "execution_count": 19,
   "metadata": {},
   "outputs": [],
   "source": [
    "ridge_reg = Ridge(alpha= 12)\n",
    "lasso_reg = Lasso(alpha= 0.001)"
   ]
  },
  {
   "cell_type": "code",
   "execution_count": 20,
   "metadata": {},
   "outputs": [],
   "source": [
    "xgb_reg = XGBRegressor(n_estimators=1000, learning_rate=0.05, \n",
    "                       colsample_bytree=0.5, subsample=0.8)\n",
    "lgbm_reg = LGBMRegressor(n_estimators=1000, learning_rate=0.05, \n",
    "                         num_leaves=4, subsample=0.6, \n",
    "                         colsample_bytree=0.4, reg_lambda=10, \n",
    "                         n_jobs=-1)"
   ]
  },
  {
   "cell_type": "code",
   "execution_count": 21,
   "metadata": {},
   "outputs": [
    {
     "name": "stdout",
     "output_type": "stream",
     "text": [
      "Ridge  model 시작 \n",
      "\t 폴드 세트:  0  시작 \n",
      "\t 폴드 세트:  1  시작 \n",
      "\t 폴드 세트:  2  시작 \n",
      "\t 폴드 세트:  3  시작 \n",
      "\t 폴드 세트:  4  시작 \n",
      "Lasso  model 시작 \n",
      "\t 폴드 세트:  0  시작 \n"
     ]
    },
    {
     "name": "stderr",
     "output_type": "stream",
     "text": [
      "C:\\ProgramData\\Anaconda3\\lib\\site-packages\\sklearn\\linear_model\\coordinate_descent.py:475: ConvergenceWarning: Objective did not converge. You might want to increase the number of iterations. Duality gap: 166.53841923292643, tolerance: 0.07005775190333602\n",
      "  positive)\n",
      "C:\\ProgramData\\Anaconda3\\lib\\site-packages\\sklearn\\linear_model\\coordinate_descent.py:475: ConvergenceWarning: Objective did not converge. You might want to increase the number of iterations. Duality gap: 89.77276703868131, tolerance: 0.07137705312080045\n",
      "  positive)\n"
     ]
    },
    {
     "name": "stdout",
     "output_type": "stream",
     "text": [
      "\t 폴드 세트:  1  시작 \n",
      "\t 폴드 세트:  2  시작 \n"
     ]
    },
    {
     "name": "stderr",
     "output_type": "stream",
     "text": [
      "C:\\ProgramData\\Anaconda3\\lib\\site-packages\\sklearn\\linear_model\\coordinate_descent.py:475: ConvergenceWarning: Objective did not converge. You might want to increase the number of iterations. Duality gap: 195.82246259421333, tolerance: 0.06781102486380773\n",
      "  positive)\n",
      "C:\\ProgramData\\Anaconda3\\lib\\site-packages\\sklearn\\linear_model\\coordinate_descent.py:475: ConvergenceWarning: Objective did not converge. You might want to increase the number of iterations. Duality gap: 162.87533497507803, tolerance: 0.07077940115233858\n",
      "  positive)\n"
     ]
    },
    {
     "name": "stdout",
     "output_type": "stream",
     "text": [
      "\t 폴드 세트:  3  시작 \n"
     ]
    },
    {
     "name": "stderr",
     "output_type": "stream",
     "text": [
      "C:\\ProgramData\\Anaconda3\\lib\\site-packages\\sklearn\\linear_model\\coordinate_descent.py:475: ConvergenceWarning: Objective did not converge. You might want to increase the number of iterations. Duality gap: 18.96296480347155, tolerance: 0.06969769407149219\n",
      "  positive)\n"
     ]
    },
    {
     "name": "stdout",
     "output_type": "stream",
     "text": [
      "\t 폴드 세트:  4  시작 \n",
      "XGBRegressor  model 시작 \n",
      "\t 폴드 세트:  0  시작 \n",
      "[19:30:45] WARNING: C:/Jenkins/workspace/xgboost-win64_release_0.90/src/objective/regression_obj.cu:152: reg:linear is now deprecated in favor of reg:squarederror.\n",
      "\t 폴드 세트:  1  시작 \n",
      "[19:30:54] WARNING: C:/Jenkins/workspace/xgboost-win64_release_0.90/src/objective/regression_obj.cu:152: reg:linear is now deprecated in favor of reg:squarederror.\n",
      "\t 폴드 세트:  2  시작 \n",
      "[19:31:03] WARNING: C:/Jenkins/workspace/xgboost-win64_release_0.90/src/objective/regression_obj.cu:152: reg:linear is now deprecated in favor of reg:squarederror.\n",
      "\t 폴드 세트:  3  시작 \n",
      "[19:31:12] WARNING: C:/Jenkins/workspace/xgboost-win64_release_0.90/src/objective/regression_obj.cu:152: reg:linear is now deprecated in favor of reg:squarederror.\n",
      "\t 폴드 세트:  4  시작 \n",
      "[19:31:21] WARNING: C:/Jenkins/workspace/xgboost-win64_release_0.90/src/objective/regression_obj.cu:152: reg:linear is now deprecated in favor of reg:squarederror.\n",
      "LGBMRegressor  model 시작 \n",
      "\t 폴드 세트:  0  시작 \n",
      "\t 폴드 세트:  1  시작 \n",
      "\t 폴드 세트:  2  시작 \n",
      "\t 폴드 세트:  3  시작 \n",
      "\t 폴드 세트:  4  시작 \n"
     ]
    }
   ],
   "source": [
    "ridge_train, ridge_test = get_stacking_base_datasets(ridge_reg, X_train_n, y_train_n, X_test_n, 5)\n",
    "lasso_train, lasso_test = get_stacking_base_datasets(lasso_reg, X_train_n, y_train_n, X_test_n, 5)\n",
    "xgb_train, xgb_test = get_stacking_base_datasets(xgb_reg, X_train_n, y_train_n, X_test_n, 5)  \n",
    "lgbm_train, lgbm_test = get_stacking_base_datasets(lgbm_reg, X_train_n, y_train_n, X_test_n, 5)"
   ]
  },
  {
   "cell_type": "code",
   "execution_count": 22,
   "metadata": {},
   "outputs": [],
   "source": [
    "# 개별 모델이 반환한 학습 및 테스트용 데이터 세트를 Stacking 형태로 결합.  \n",
    "Stack_final_X_train = np.concatenate((ridge_train, lasso_train, \n",
    "                                      xgb_train, lgbm_train), axis=1)\n",
    "Stack_final_X_test = np.concatenate((ridge_test, lasso_test, \n",
    "                                     xgb_test, lgbm_test), axis=1)"
   ]
  },
  {
   "cell_type": "code",
   "execution_count": 23,
   "metadata": {},
   "outputs": [
    {
     "data": {
      "text/plain": [
       "(4617, 4)"
      ]
     },
     "execution_count": 23,
     "metadata": {},
     "output_type": "execute_result"
    }
   ],
   "source": [
    "Stack_final_X_train.shape"
   ]
  },
  {
   "cell_type": "code",
   "execution_count": 24,
   "metadata": {},
   "outputs": [
    {
     "name": "stdout",
     "output_type": "stream",
     "text": [
      "스태킹 회귀 모델의 최종 RMSE 값은: 0.12746445808299067\n"
     ]
    }
   ],
   "source": [
    "# 최종 메타 모델은 라쏘 모델을 적용. \n",
    "meta_model_lasso = Lasso(alpha=0.0005)\n",
    "\n",
    "#기반 모델의 예측값을 기반으로 새롭게 만들어진 학습 및 테스트용 데이터로 예측하고 RMSE 측정.\n",
    "meta_model_lasso.fit(Stack_final_X_train, y_train)\n",
    "final = meta_model_lasso.predict(Stack_final_X_test)\n",
    "mse = mean_squared_error(y_test , final)\n",
    "rmse = np.sqrt(mse)\n",
    "print('스태킹 회귀 모델의 최종 RMSE 값은:', rmse)"
   ]
  },
  {
   "cell_type": "code",
   "execution_count": 25,
   "metadata": {},
   "outputs": [
    {
     "data": {
      "text/plain": [
       "0.9240733649505617"
      ]
     },
     "execution_count": 25,
     "metadata": {},
     "output_type": "execute_result"
    }
   ],
   "source": [
    "meta_model_lasso.score(Stack_final_X_train, y_train)"
   ]
  },
  {
   "cell_type": "code",
   "execution_count": 26,
   "metadata": {},
   "outputs": [
    {
     "name": "stdout",
     "output_type": "stream",
     "text": [
      "SCORE : 0.38111086734844724\n",
      "RMSE : 0.33681152743090076\n"
     ]
    }
   ],
   "source": [
    "ridge_pred = ridge_reg.predict(X_test)\n",
    "print('SCORE :', ridge_reg.score(X_test, y_test))\n",
    "mse_ridge = mean_squared_error(y_test, ridge_pred)\n",
    "rmse_ridge = np.sqrt(mse_ridge)\n",
    "print('RMSE :', rmse_ridge)"
   ]
  },
  {
   "cell_type": "code",
   "execution_count": 27,
   "metadata": {},
   "outputs": [
    {
     "name": "stdout",
     "output_type": "stream",
     "text": [
      "SCORE : 0.37668232396923695\n",
      "RMSE : 0.33801442919298735\n"
     ]
    }
   ],
   "source": [
    "lasso_pred = lasso_reg.predict(X_test)\n",
    "print('SCORE :', lasso_reg.score(X_test, y_test))\n",
    "mse_lasso = mean_squared_error(y_test, lasso_pred)\n",
    "rmse_lasso = np.sqrt(mse_lasso)\n",
    "print('RMSE :', rmse_lasso)"
   ]
  },
  {
   "cell_type": "code",
   "execution_count": 28,
   "metadata": {},
   "outputs": [],
   "source": [
    "# xgb_reg.fit(X_train, y_train)"
   ]
  },
  {
   "cell_type": "code",
   "execution_count": 29,
   "metadata": {},
   "outputs": [],
   "source": [
    "#xgb_pred = lgbm_reg.predict(X_test)"
   ]
  },
  {
   "cell_type": "code",
   "execution_count": 30,
   "metadata": {},
   "outputs": [
    {
     "name": "stdout",
     "output_type": "stream",
     "text": [
      "SCORE : 0.7726052626159521\n",
      "RMSE : 0.20416003113148645\n"
     ]
    }
   ],
   "source": [
    "lgbm_pred = lgbm_reg.predict(X_test)\n",
    "print('SCORE :', lgbm_reg.score(X_test, y_test))\n",
    "mse_lgbm = mean_squared_error(y_test, lgbm_pred)\n",
    "rmse_lgbm = np.sqrt(mse_lgbm)\n",
    "print('RMSE :', rmse_lgbm)"
   ]
  },
  {
   "cell_type": "code",
   "execution_count": 31,
   "metadata": {},
   "outputs": [],
   "source": [
    "#xgb_pred = xgb_reg.predict(X_test)\n",
    "#print('SCORE :', xgb_reg.score(X_test, y_test))\n",
    "#mse_xgb = mean_squared_error(y_test, xgb_pred)\n",
    "#rmse_xgb = np.sqrt(mse_xgb)\n",
    "#print('RMSE :', rmse_xgb)\n",
    "\n",
    "# SCORE : 0.8889663977998432\n",
    "# RMSE : 0.14266181115946364"
   ]
  },
  {
   "cell_type": "code",
   "execution_count": 32,
   "metadata": {},
   "outputs": [
    {
     "data": {
      "text/plain": [
       "0.37668232396923695"
      ]
     },
     "execution_count": 32,
     "metadata": {},
     "output_type": "execute_result"
    }
   ],
   "source": [
    "lasso_reg.score(X_test, y_test)"
   ]
  },
  {
   "cell_type": "code",
   "execution_count": 33,
   "metadata": {},
   "outputs": [
    {
     "data": {
      "text/html": [
       "<div>\n",
       "<style scoped>\n",
       "    .dataframe tbody tr th:only-of-type {\n",
       "        vertical-align: middle;\n",
       "    }\n",
       "\n",
       "    .dataframe tbody tr th {\n",
       "        vertical-align: top;\n",
       "    }\n",
       "\n",
       "    .dataframe thead th {\n",
       "        text-align: right;\n",
       "    }\n",
       "</style>\n",
       "<table border=\"1\" class=\"dataframe\">\n",
       "  <thead>\n",
       "    <tr style=\"text-align: right;\">\n",
       "      <th></th>\n",
       "      <th>Y_pred</th>\n",
       "      <th>Y_real</th>\n",
       "      <th>Mean</th>\n",
       "    </tr>\n",
       "  </thead>\n",
       "  <tbody>\n",
       "    <tr>\n",
       "      <th>count</th>\n",
       "      <td>1155.000000</td>\n",
       "      <td>1155.000000</td>\n",
       "      <td>1155.000000</td>\n",
       "    </tr>\n",
       "    <tr>\n",
       "      <th>mean</th>\n",
       "      <td>46.386392</td>\n",
       "      <td>47.714632</td>\n",
       "      <td>4.576746</td>\n",
       "    </tr>\n",
       "    <tr>\n",
       "      <th>std</th>\n",
       "      <td>26.059538</td>\n",
       "      <td>30.913329</td>\n",
       "      <td>11.367391</td>\n",
       "    </tr>\n",
       "    <tr>\n",
       "      <th>min</th>\n",
       "      <td>20.072786</td>\n",
       "      <td>20.900000</td>\n",
       "      <td>0.001340</td>\n",
       "    </tr>\n",
       "    <tr>\n",
       "      <th>25%</th>\n",
       "      <td>31.197356</td>\n",
       "      <td>29.900000</td>\n",
       "      <td>1.214251</td>\n",
       "    </tr>\n",
       "    <tr>\n",
       "      <th>50%</th>\n",
       "      <td>42.983147</td>\n",
       "      <td>44.400000</td>\n",
       "      <td>2.718925</td>\n",
       "    </tr>\n",
       "    <tr>\n",
       "      <th>75%</th>\n",
       "      <td>53.350871</td>\n",
       "      <td>55.250000</td>\n",
       "      <td>5.213186</td>\n",
       "    </tr>\n",
       "    <tr>\n",
       "      <th>max</th>\n",
       "      <td>313.858737</td>\n",
       "      <td>295.100000</td>\n",
       "      <td>211.964068</td>\n",
       "    </tr>\n",
       "  </tbody>\n",
       "</table>\n",
       "</div>"
      ],
      "text/plain": [
       "            Y_pred       Y_real         Mean\n",
       "count  1155.000000  1155.000000  1155.000000\n",
       "mean     46.386392    47.714632     4.576746\n",
       "std      26.059538    30.913329    11.367391\n",
       "min      20.072786    20.900000     0.001340\n",
       "25%      31.197356    29.900000     1.214251\n",
       "50%      42.983147    44.400000     2.718925\n",
       "75%      53.350871    55.250000     5.213186\n",
       "max     313.858737   295.100000   211.964068"
      ]
     },
     "execution_count": 33,
     "metadata": {},
     "output_type": "execute_result"
    }
   ],
   "source": [
    "f = pd.DataFrame(final)\n",
    "ff = np.expm1(f)\n",
    "y = pd.DataFrame(y_test)\n",
    "yy = np.expm1(y)\n",
    "\n",
    "result = pd.DataFrame()\n",
    "result['Y_pred'] = ff.values.flatten()\n",
    "result['Y_real'] = yy.values.flatten()\n",
    "result['Mean'] = result['Y_real'] - result['Y_pred']\n",
    "result['Mean'] = result['Mean'].abs()\n",
    "result.describe()"
   ]
  },
  {
   "cell_type": "code",
   "execution_count": 34,
   "metadata": {},
   "outputs": [
    {
     "data": {
      "text/html": [
       "<div>\n",
       "<style scoped>\n",
       "    .dataframe tbody tr th:only-of-type {\n",
       "        vertical-align: middle;\n",
       "    }\n",
       "\n",
       "    .dataframe tbody tr th {\n",
       "        vertical-align: top;\n",
       "    }\n",
       "\n",
       "    .dataframe thead th {\n",
       "        text-align: right;\n",
       "    }\n",
       "</style>\n",
       "<table border=\"1\" class=\"dataframe\">\n",
       "  <thead>\n",
       "    <tr style=\"text-align: right;\">\n",
       "      <th></th>\n",
       "      <th>Y_pred</th>\n",
       "      <th>Y_real</th>\n",
       "      <th>Mean</th>\n",
       "    </tr>\n",
       "  </thead>\n",
       "  <tbody>\n",
       "    <tr>\n",
       "      <th>0</th>\n",
       "      <td>42.218688</td>\n",
       "      <td>43.7</td>\n",
       "      <td>1.481312</td>\n",
       "    </tr>\n",
       "    <tr>\n",
       "      <th>1</th>\n",
       "      <td>89.247594</td>\n",
       "      <td>84.0</td>\n",
       "      <td>5.247594</td>\n",
       "    </tr>\n",
       "    <tr>\n",
       "      <th>2</th>\n",
       "      <td>95.679045</td>\n",
       "      <td>84.2</td>\n",
       "      <td>11.479045</td>\n",
       "    </tr>\n",
       "    <tr>\n",
       "      <th>3</th>\n",
       "      <td>56.905508</td>\n",
       "      <td>68.4</td>\n",
       "      <td>11.494492</td>\n",
       "    </tr>\n",
       "    <tr>\n",
       "      <th>4</th>\n",
       "      <td>40.225948</td>\n",
       "      <td>46.5</td>\n",
       "      <td>6.274052</td>\n",
       "    </tr>\n",
       "  </tbody>\n",
       "</table>\n",
       "</div>"
      ],
      "text/plain": [
       "      Y_pred  Y_real       Mean\n",
       "0  42.218688    43.7   1.481312\n",
       "1  89.247594    84.0   5.247594\n",
       "2  95.679045    84.2  11.479045\n",
       "3  56.905508    68.4  11.494492\n",
       "4  40.225948    46.5   6.274052"
      ]
     },
     "execution_count": 34,
     "metadata": {},
     "output_type": "execute_result"
    }
   ],
   "source": [
    "result.head()"
   ]
  },
  {
   "cell_type": "code",
   "execution_count": 59,
   "metadata": {},
   "outputs": [],
   "source": [
    "X_test_org = pd.read_csv('../임대료용/Test.csv', encoding= 'ansi')"
   ]
  },
  {
   "cell_type": "code",
   "execution_count": 60,
   "metadata": {},
   "outputs": [],
   "source": [
    "skew_features_top_X = skew_features_top.index[:-1]"
   ]
  },
  {
   "cell_type": "code",
   "execution_count": 61,
   "metadata": {},
   "outputs": [
    {
     "data": {
      "text/html": [
       "<div>\n",
       "<style scoped>\n",
       "    .dataframe tbody tr th:only-of-type {\n",
       "        vertical-align: middle;\n",
       "    }\n",
       "\n",
       "    .dataframe tbody tr th {\n",
       "        vertical-align: top;\n",
       "    }\n",
       "\n",
       "    .dataframe thead th {\n",
       "        text-align: right;\n",
       "    }\n",
       "</style>\n",
       "<table border=\"1\" class=\"dataframe\">\n",
       "  <thead>\n",
       "    <tr style=\"text-align: right;\">\n",
       "      <th></th>\n",
       "      <th>X1</th>\n",
       "      <th>X2</th>\n",
       "      <th>X3</th>\n",
       "      <th>X4</th>\n",
       "      <th>X5</th>\n",
       "      <th>X6</th>\n",
       "      <th>X7</th>\n",
       "      <th>X8</th>\n",
       "      <th>X9</th>\n",
       "      <th>X10</th>\n",
       "      <th>...</th>\n",
       "      <th>X59</th>\n",
       "      <th>X60</th>\n",
       "      <th>X61</th>\n",
       "      <th>X62</th>\n",
       "      <th>X63</th>\n",
       "      <th>X64</th>\n",
       "      <th>X65</th>\n",
       "      <th>X66</th>\n",
       "      <th>X67</th>\n",
       "      <th>X68</th>\n",
       "    </tr>\n",
       "  </thead>\n",
       "  <tbody>\n",
       "    <tr>\n",
       "      <th>0</th>\n",
       "      <td>12.064860</td>\n",
       "      <td>11.481094</td>\n",
       "      <td>11.248882</td>\n",
       "      <td>8.757312</td>\n",
       "      <td>10.870738</td>\n",
       "      <td>10.583575</td>\n",
       "      <td>10.375177</td>\n",
       "      <td>10.263013</td>\n",
       "      <td>9.582456</td>\n",
       "      <td>7.181592</td>\n",
       "      <td>...</td>\n",
       "      <td>12.250587</td>\n",
       "      <td>21.698286</td>\n",
       "      <td>20.955869</td>\n",
       "      <td>21.426379</td>\n",
       "      <td>21.193643</td>\n",
       "      <td>11.857933</td>\n",
       "      <td>11.125865</td>\n",
       "      <td>11.684557</td>\n",
       "      <td>11.347485</td>\n",
       "      <td>4.709530</td>\n",
       "    </tr>\n",
       "    <tr>\n",
       "      <th>1</th>\n",
       "      <td>12.251232</td>\n",
       "      <td>11.580621</td>\n",
       "      <td>11.535059</td>\n",
       "      <td>9.326255</td>\n",
       "      <td>10.727444</td>\n",
       "      <td>10.776578</td>\n",
       "      <td>10.707617</td>\n",
       "      <td>10.612139</td>\n",
       "      <td>9.863342</td>\n",
       "      <td>7.830028</td>\n",
       "      <td>...</td>\n",
       "      <td>11.414662</td>\n",
       "      <td>21.057119</td>\n",
       "      <td>20.254775</td>\n",
       "      <td>20.626697</td>\n",
       "      <td>20.341267</td>\n",
       "      <td>11.015690</td>\n",
       "      <td>10.302968</td>\n",
       "      <td>10.827766</td>\n",
       "      <td>10.358441</td>\n",
       "      <td>4.158883</td>\n",
       "    </tr>\n",
       "    <tr>\n",
       "      <th>2</th>\n",
       "      <td>13.079212</td>\n",
       "      <td>12.403669</td>\n",
       "      <td>12.368149</td>\n",
       "      <td>10.090465</td>\n",
       "      <td>11.334170</td>\n",
       "      <td>11.633833</td>\n",
       "      <td>11.603433</td>\n",
       "      <td>11.492304</td>\n",
       "      <td>10.836832</td>\n",
       "      <td>8.227910</td>\n",
       "      <td>...</td>\n",
       "      <td>12.880424</td>\n",
       "      <td>22.425986</td>\n",
       "      <td>21.341374</td>\n",
       "      <td>21.926343</td>\n",
       "      <td>21.962182</td>\n",
       "      <td>12.562074</td>\n",
       "      <td>11.580874</td>\n",
       "      <td>12.282316</td>\n",
       "      <td>11.990457</td>\n",
       "      <td>5.393628</td>\n",
       "    </tr>\n",
       "    <tr>\n",
       "      <th>3</th>\n",
       "      <td>13.890762</td>\n",
       "      <td>13.229271</td>\n",
       "      <td>13.164919</td>\n",
       "      <td>11.054392</td>\n",
       "      <td>12.776512</td>\n",
       "      <td>12.371269</td>\n",
       "      <td>12.036476</td>\n",
       "      <td>11.965090</td>\n",
       "      <td>11.505186</td>\n",
       "      <td>7.363914</td>\n",
       "      <td>...</td>\n",
       "      <td>15.193273</td>\n",
       "      <td>24.599020</td>\n",
       "      <td>23.999101</td>\n",
       "      <td>24.243808</td>\n",
       "      <td>24.360897</td>\n",
       "      <td>14.759816</td>\n",
       "      <td>14.148399</td>\n",
       "      <td>14.394484</td>\n",
       "      <td>14.565890</td>\n",
       "      <td>6.569481</td>\n",
       "    </tr>\n",
       "    <tr>\n",
       "      <th>4</th>\n",
       "      <td>11.286063</td>\n",
       "      <td>10.788308</td>\n",
       "      <td>10.349999</td>\n",
       "      <td>8.240913</td>\n",
       "      <td>10.378417</td>\n",
       "      <td>9.727883</td>\n",
       "      <td>9.522154</td>\n",
       "      <td>9.226706</td>\n",
       "      <td>8.057061</td>\n",
       "      <td>6.361302</td>\n",
       "      <td>...</td>\n",
       "      <td>12.752319</td>\n",
       "      <td>21.927523</td>\n",
       "      <td>20.778579</td>\n",
       "      <td>21.513374</td>\n",
       "      <td>21.246432</td>\n",
       "      <td>12.484537</td>\n",
       "      <td>11.303845</td>\n",
       "      <td>12.137847</td>\n",
       "      <td>11.858039</td>\n",
       "      <td>4.709530</td>\n",
       "    </tr>\n",
       "  </tbody>\n",
       "</table>\n",
       "<p>5 rows × 68 columns</p>\n",
       "</div>"
      ],
      "text/plain": [
       "          X1         X2         X3         X4         X5         X6  \\\n",
       "0  12.064860  11.481094  11.248882   8.757312  10.870738  10.583575   \n",
       "1  12.251232  11.580621  11.535059   9.326255  10.727444  10.776578   \n",
       "2  13.079212  12.403669  12.368149  10.090465  11.334170  11.633833   \n",
       "3  13.890762  13.229271  13.164919  11.054392  12.776512  12.371269   \n",
       "4  11.286063  10.788308  10.349999   8.240913  10.378417   9.727883   \n",
       "\n",
       "          X7         X8         X9       X10  ...        X59        X60  \\\n",
       "0  10.375177  10.263013   9.582456  7.181592  ...  12.250587  21.698286   \n",
       "1  10.707617  10.612139   9.863342  7.830028  ...  11.414662  21.057119   \n",
       "2  11.603433  11.492304  10.836832  8.227910  ...  12.880424  22.425986   \n",
       "3  12.036476  11.965090  11.505186  7.363914  ...  15.193273  24.599020   \n",
       "4   9.522154   9.226706   8.057061  6.361302  ...  12.752319  21.927523   \n",
       "\n",
       "         X61        X62        X63        X64        X65        X66  \\\n",
       "0  20.955869  21.426379  21.193643  11.857933  11.125865  11.684557   \n",
       "1  20.254775  20.626697  20.341267  11.015690  10.302968  10.827766   \n",
       "2  21.341374  21.926343  21.962182  12.562074  11.580874  12.282316   \n",
       "3  23.999101  24.243808  24.360897  14.759816  14.148399  14.394484   \n",
       "4  20.778579  21.513374  21.246432  12.484537  11.303845  12.137847   \n",
       "\n",
       "         X67       X68  \n",
       "0  11.347485  4.709530  \n",
       "1  10.358441  4.158883  \n",
       "2  11.990457  5.393628  \n",
       "3  14.565890  6.569481  \n",
       "4  11.858039  4.709530  \n",
       "\n",
       "[5 rows x 68 columns]"
      ]
     },
     "execution_count": 61,
     "metadata": {},
     "output_type": "execute_result"
    }
   ],
   "source": [
    "X_test_org[skew_features_top_X] = np.log1p(X_test_org[skew_features_top_X])\n",
    "X_test_org.head()"
   ]
  },
  {
   "cell_type": "code",
   "execution_count": 63,
   "metadata": {},
   "outputs": [
    {
     "data": {
      "text/html": [
       "<div>\n",
       "<style scoped>\n",
       "    .dataframe tbody tr th:only-of-type {\n",
       "        vertical-align: middle;\n",
       "    }\n",
       "\n",
       "    .dataframe tbody tr th {\n",
       "        vertical-align: top;\n",
       "    }\n",
       "\n",
       "    .dataframe thead th {\n",
       "        text-align: right;\n",
       "    }\n",
       "</style>\n",
       "<table border=\"1\" class=\"dataframe\">\n",
       "  <thead>\n",
       "    <tr style=\"text-align: right;\">\n",
       "      <th></th>\n",
       "      <th>X1</th>\n",
       "      <th>X2</th>\n",
       "      <th>X3</th>\n",
       "      <th>X4</th>\n",
       "      <th>X5</th>\n",
       "      <th>X6</th>\n",
       "      <th>X7</th>\n",
       "      <th>X8</th>\n",
       "      <th>X9</th>\n",
       "      <th>X10</th>\n",
       "      <th>...</th>\n",
       "      <th>X63</th>\n",
       "      <th>X64</th>\n",
       "      <th>X65</th>\n",
       "      <th>X66</th>\n",
       "      <th>X67</th>\n",
       "      <th>X68</th>\n",
       "      <th>X56_HH</th>\n",
       "      <th>X56_HL</th>\n",
       "      <th>X56_LH</th>\n",
       "      <th>X56_LL</th>\n",
       "    </tr>\n",
       "  </thead>\n",
       "  <tbody>\n",
       "    <tr>\n",
       "      <th>0</th>\n",
       "      <td>12.064860</td>\n",
       "      <td>11.481094</td>\n",
       "      <td>11.248882</td>\n",
       "      <td>8.757312</td>\n",
       "      <td>10.870738</td>\n",
       "      <td>10.583575</td>\n",
       "      <td>10.375177</td>\n",
       "      <td>10.263013</td>\n",
       "      <td>9.582456</td>\n",
       "      <td>7.181592</td>\n",
       "      <td>...</td>\n",
       "      <td>21.193643</td>\n",
       "      <td>11.857933</td>\n",
       "      <td>11.125865</td>\n",
       "      <td>11.684557</td>\n",
       "      <td>11.347485</td>\n",
       "      <td>4.709530</td>\n",
       "      <td>0</td>\n",
       "      <td>0</td>\n",
       "      <td>0</td>\n",
       "      <td>1</td>\n",
       "    </tr>\n",
       "    <tr>\n",
       "      <th>1</th>\n",
       "      <td>12.251232</td>\n",
       "      <td>11.580621</td>\n",
       "      <td>11.535059</td>\n",
       "      <td>9.326255</td>\n",
       "      <td>10.727444</td>\n",
       "      <td>10.776578</td>\n",
       "      <td>10.707617</td>\n",
       "      <td>10.612139</td>\n",
       "      <td>9.863342</td>\n",
       "      <td>7.830028</td>\n",
       "      <td>...</td>\n",
       "      <td>20.341267</td>\n",
       "      <td>11.015690</td>\n",
       "      <td>10.302968</td>\n",
       "      <td>10.827766</td>\n",
       "      <td>10.358441</td>\n",
       "      <td>4.158883</td>\n",
       "      <td>1</td>\n",
       "      <td>0</td>\n",
       "      <td>0</td>\n",
       "      <td>0</td>\n",
       "    </tr>\n",
       "    <tr>\n",
       "      <th>2</th>\n",
       "      <td>13.079212</td>\n",
       "      <td>12.403669</td>\n",
       "      <td>12.368149</td>\n",
       "      <td>10.090465</td>\n",
       "      <td>11.334170</td>\n",
       "      <td>11.633833</td>\n",
       "      <td>11.603433</td>\n",
       "      <td>11.492304</td>\n",
       "      <td>10.836832</td>\n",
       "      <td>8.227910</td>\n",
       "      <td>...</td>\n",
       "      <td>21.962182</td>\n",
       "      <td>12.562074</td>\n",
       "      <td>11.580874</td>\n",
       "      <td>12.282316</td>\n",
       "      <td>11.990457</td>\n",
       "      <td>5.393628</td>\n",
       "      <td>0</td>\n",
       "      <td>0</td>\n",
       "      <td>0</td>\n",
       "      <td>1</td>\n",
       "    </tr>\n",
       "    <tr>\n",
       "      <th>3</th>\n",
       "      <td>13.890762</td>\n",
       "      <td>13.229271</td>\n",
       "      <td>13.164919</td>\n",
       "      <td>11.054392</td>\n",
       "      <td>12.776512</td>\n",
       "      <td>12.371269</td>\n",
       "      <td>12.036476</td>\n",
       "      <td>11.965090</td>\n",
       "      <td>11.505186</td>\n",
       "      <td>7.363914</td>\n",
       "      <td>...</td>\n",
       "      <td>24.360897</td>\n",
       "      <td>14.759816</td>\n",
       "      <td>14.148399</td>\n",
       "      <td>14.394484</td>\n",
       "      <td>14.565890</td>\n",
       "      <td>6.569481</td>\n",
       "      <td>0</td>\n",
       "      <td>0</td>\n",
       "      <td>1</td>\n",
       "      <td>0</td>\n",
       "    </tr>\n",
       "    <tr>\n",
       "      <th>4</th>\n",
       "      <td>11.286063</td>\n",
       "      <td>10.788308</td>\n",
       "      <td>10.349999</td>\n",
       "      <td>8.240913</td>\n",
       "      <td>10.378417</td>\n",
       "      <td>9.727883</td>\n",
       "      <td>9.522154</td>\n",
       "      <td>9.226706</td>\n",
       "      <td>8.057061</td>\n",
       "      <td>6.361302</td>\n",
       "      <td>...</td>\n",
       "      <td>21.246432</td>\n",
       "      <td>12.484537</td>\n",
       "      <td>11.303845</td>\n",
       "      <td>12.137847</td>\n",
       "      <td>11.858039</td>\n",
       "      <td>4.709530</td>\n",
       "      <td>0</td>\n",
       "      <td>0</td>\n",
       "      <td>1</td>\n",
       "      <td>0</td>\n",
       "    </tr>\n",
       "  </tbody>\n",
       "</table>\n",
       "<p>5 rows × 71 columns</p>\n",
       "</div>"
      ],
      "text/plain": [
       "          X1         X2         X3         X4         X5         X6  \\\n",
       "0  12.064860  11.481094  11.248882   8.757312  10.870738  10.583575   \n",
       "1  12.251232  11.580621  11.535059   9.326255  10.727444  10.776578   \n",
       "2  13.079212  12.403669  12.368149  10.090465  11.334170  11.633833   \n",
       "3  13.890762  13.229271  13.164919  11.054392  12.776512  12.371269   \n",
       "4  11.286063  10.788308  10.349999   8.240913  10.378417   9.727883   \n",
       "\n",
       "          X7         X8         X9       X10  ...        X63        X64  \\\n",
       "0  10.375177  10.263013   9.582456  7.181592  ...  21.193643  11.857933   \n",
       "1  10.707617  10.612139   9.863342  7.830028  ...  20.341267  11.015690   \n",
       "2  11.603433  11.492304  10.836832  8.227910  ...  21.962182  12.562074   \n",
       "3  12.036476  11.965090  11.505186  7.363914  ...  24.360897  14.759816   \n",
       "4   9.522154   9.226706   8.057061  6.361302  ...  21.246432  12.484537   \n",
       "\n",
       "         X65        X66        X67       X68  X56_HH  X56_HL  X56_LH  X56_LL  \n",
       "0  11.125865  11.684557  11.347485  4.709530       0       0       0       1  \n",
       "1  10.302968  10.827766  10.358441  4.158883       1       0       0       0  \n",
       "2  11.580874  12.282316  11.990457  5.393628       0       0       0       1  \n",
       "3  14.148399  14.394484  14.565890  6.569481       0       0       1       0  \n",
       "4  11.303845  12.137847  11.858039  4.709530       0       0       1       0  \n",
       "\n",
       "[5 rows x 71 columns]"
      ]
     },
     "execution_count": 63,
     "metadata": {},
     "output_type": "execute_result"
    }
   ],
   "source": [
    "X_test_ = pd.get_dummies(X_test_org)\n",
    "X_test_.head()"
   ]
  },
  {
   "cell_type": "code",
   "execution_count": 64,
   "metadata": {},
   "outputs": [],
   "source": [
    "X_test_n = X_test_.values"
   ]
  },
  {
   "cell_type": "code",
   "execution_count": 70,
   "metadata": {},
   "outputs": [],
   "source": [
    "ridge_train_ = ridge_reg.predict(X_test_n).reshape(-1, 1)\n",
    "lasso_train_ = lasso_reg.predict(X_test_n).reshape(-1, 1)\n",
    "lgbm_train_ = lgbm_reg.predict(X_test_n).reshape(-1, 1)\n",
    "xgb_train_ = xgb_reg.predict(X_test_n).reshape(-1, 1)"
   ]
  },
  {
   "cell_type": "code",
   "execution_count": 71,
   "metadata": {},
   "outputs": [],
   "source": [
    "Stack_final_X_test = np.concatenate((ridge_train_, lasso_train_, \n",
    "                                     xgb_train_, lgbm_train_), axis=1)"
   ]
  },
  {
   "cell_type": "code",
   "execution_count": 72,
   "metadata": {},
   "outputs": [],
   "source": [
    "final_ = meta_model_lasso.predict(Stack_final_X_test)"
   ]
  },
  {
   "cell_type": "code",
   "execution_count": 73,
   "metadata": {},
   "outputs": [],
   "source": [
    "X_final = np.expm1(final_)"
   ]
  },
  {
   "cell_type": "code",
   "execution_count": 74,
   "metadata": {},
   "outputs": [],
   "source": [
    "X_final_ = pd.DataFrame(X_final)"
   ]
  },
  {
   "cell_type": "code",
   "execution_count": 77,
   "metadata": {},
   "outputs": [],
   "source": [
    "X_final_.to_csv('Result.csv', encoding= 'ansi')"
   ]
  }
 ],
 "metadata": {
  "kernelspec": {
   "display_name": "Python 3",
   "language": "python",
   "name": "python3"
  },
  "language_info": {
   "codemirror_mode": {
    "name": "ipython",
    "version": 3
   },
   "file_extension": ".py",
   "mimetype": "text/x-python",
   "name": "python",
   "nbconvert_exporter": "python",
   "pygments_lexer": "ipython3",
   "version": "3.7.3"
  }
 },
 "nbformat": 4,
 "nbformat_minor": 2
}
