{
 "cells": [
  {
   "cell_type": "markdown",
   "metadata": {},
   "source": [
    "#### Hypothesis and Cost\n",
    "H(x) = Wx + b  \n",
    "cost(W, b) = tf.reduce_mean(tf.square(hypothesis - y))"
   ]
  },
  {
   "cell_type": "markdown",
   "metadata": {},
   "source": [
    "#### Gradient Desent Algorithm\n",
    "경사를 따라 내려가는 알고리즘"
   ]
  },
  {
   "cell_type": "code",
   "execution_count": 37,
   "metadata": {},
   "outputs": [],
   "source": [
    "import tensorflow as tf\n",
    "import matplotlib.pyplot as plt\n",
    "%matplotlib inline"
   ]
  },
  {
   "cell_type": "code",
   "execution_count": 38,
   "metadata": {},
   "outputs": [],
   "source": [
    "plt.style.use('default')"
   ]
  },
  {
   "cell_type": "code",
   "execution_count": 91,
   "metadata": {},
   "outputs": [
    {
     "data": {
      "text/plain": [
       "<tf.Variable 'weight_49:0' shape=(1,) dtype=float32_ref>"
      ]
     },
     "execution_count": 91,
     "metadata": {},
     "output_type": "execute_result"
    }
   ],
   "source": [
    "X = [1, 2, 3]\n",
    "Y = [3, 6, 9]\n",
    "\n",
    "W = tf.Variable(tf.random_normal([1]), name= 'weight')\n",
    "hypothesis = W * X\n",
    "W"
   ]
  },
  {
   "cell_type": "code",
   "execution_count": 45,
   "metadata": {},
   "outputs": [],
   "source": [
    "cost = tf.reduce_mean(tf.square(hypothesis - Y))"
   ]
  },
  {
   "cell_type": "code",
   "execution_count": 46,
   "metadata": {},
   "outputs": [],
   "source": [
    "sess = tf.Session()\n",
    "sess.run(tf.global_variables_initializer())"
   ]
  },
  {
   "cell_type": "code",
   "execution_count": 47,
   "metadata": {},
   "outputs": [],
   "source": [
    "W_val = []\n",
    "cost_val = []"
   ]
  },
  {
   "cell_type": "code",
   "execution_count": 48,
   "metadata": {},
   "outputs": [
    {
     "data": {
      "text/plain": [
       "[<matplotlib.lines.Line2D at 0x17ceb916390>]"
      ]
     },
     "execution_count": 48,
     "metadata": {},
     "output_type": "execute_result"
    },
    {
     "data": {
      "image/png": "[encoded data removed]",
      "text/plain": [
       "<Figure size 640x480 with 1 Axes>"
      ]
     },
     "metadata": {},
     "output_type": "display_data"
    }
   ],
   "source": [
    "for i in range(-30, 70):\n",
    "    feed_W = i * 0.1\n",
    "    curr_cost, curr_W = sess.run([cost, W], feed_dict={W: feed_W})\n",
    "    W_val.append(curr_W)\n",
    "    cost_val.append(curr_cost)\n",
    "    \n",
    "plt.plot(W_val, cost_val)"
   ]
  },
  {
   "cell_type": "code",
   "execution_count": 96,
   "metadata": {},
   "outputs": [],
   "source": [
    "x_data = [1, 2, 3]\n",
    "y_data = [1, 2, 3]\n",
    "\n",
    "W = tf.Variable(tf.random_normal([1]), name= 'weight')\n",
    "X = tf.placeholder(tf.float32, shape= [None])\n",
    "Y = tf.placeholder(tf.float32, shape= [None])\n",
    "hypothesis = X * W\n",
    "cost = tf.reduce_mean(tf.square(hypothesis - Y))"
   ]
  },
  {
   "cell_type": "code",
   "execution_count": 97,
   "metadata": {},
   "outputs": [],
   "source": [
    "#Minimize: Gradient Descent using derivative: W -= Learning_rate * derivative\n",
    "learning_rate = 0.1\n",
    "gradient = tf.reduce_mean((W * X - Y) * X)\n",
    "descent = W - learning_rate * gradient\n",
    "update = W.assign(descent)"
   ]
  },
  {
   "cell_type": "code",
   "execution_count": 98,
   "metadata": {},
   "outputs": [],
   "source": [
    "sess = tf.Session()\n",
    "sess.run(tf.global_variables_initializer())"
   ]
  },
  {
   "cell_type": "code",
   "execution_count": 100,
   "metadata": {},
   "outputs": [
    {
     "name": "stdout",
     "output_type": "stream",
     "text": [
      "0 2.2871578 [0.29992485]\n",
      "1 0.6505692 [0.6266266]\n",
      "2 0.18505073 [0.80086756]\n",
      "3 0.05263665 [0.893796]\n",
      "4 0.01497221 [0.9433579]\n",
      "5 0.0042587626 [0.9697909]\n",
      "6 0.0012113814 [0.98388845]\n",
      "7 0.0003445725 [0.99140716]\n",
      "8 9.801e-05 [0.9954172]\n",
      "9 2.787743e-05 [0.99755585]\n",
      "10 7.929531e-06 [0.99869645]\n",
      "11 2.2555996e-06 [0.9993048]\n",
      "12 6.4167824e-07 [0.9996292]\n",
      "13 1.8247675e-07 [0.99980223]\n",
      "14 5.196654e-08 [0.9998945]\n",
      "15 1.4774439e-08 [0.99994373]\n",
      "16 4.191147e-09 [0.99997]\n",
      "17 1.1907938e-09 [0.999984]\n",
      "18 3.3801584e-10 [0.9999915]\n",
      "19 9.576221e-11 [0.99999547]\n",
      "20 2.8162361e-11 [0.99999756]\n"
     ]
    }
   ],
   "source": [
    "for step in range(21):\n",
    "    sess.run(update, feed_dict= {X: x_data, Y: y_data})\n",
    "    print(step, sess.run(cost, feed_dict= {X: x_data, Y: y_data}),\n",
    "         sess.run(W))"
   ]
  }
 ],
 "metadata": {
  "kernelspec": {
   "display_name": "Python 3",
   "language": "python",
   "name": "python3"
  },
  "language_info": {
   "codemirror_mode": {
    "name": "ipython",
    "version": 3
   },
   "file_extension": ".py",
   "mimetype": "text/x-python",
   "name": "python",
   "nbconvert_exporter": "python",
   "pygments_lexer": "ipython3",
   "version": "3.7.3"
  }
 },
 "nbformat": 4,
 "nbformat_minor": 2
}
