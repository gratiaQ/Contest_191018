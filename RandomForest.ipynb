{
 "cells": [
  {
   "cell_type": "code",
   "execution_count": 1,
   "metadata": {},
   "outputs": [],
   "source": [
    "import pandas as pd\n",
    "import numpy as np\n",
    "import matplotlib\n",
    "import matplotlib.pyplot as plt\n",
    "\n",
    "from matplotlib import style\n",
    "from sklearn.metrics import r2_score\n",
    "from sklearn.tree import DecisionTreeRegressor\n",
    "from sklearn.ensemble import RandomForestRegressor"
   ]
  },
  {
   "cell_type": "code",
   "execution_count": 2,
   "metadata": {},
   "outputs": [],
   "source": [
    "style.use('default')"
   ]
  },
  {
   "cell_type": "code",
   "execution_count": 3,
   "metadata": {
    "scrolled": false
   },
   "outputs": [
    {
     "data": {
      "text/html": [
       "<div>\n",
       "<style scoped>\n",
       "    .dataframe tbody tr th:only-of-type {\n",
       "        vertical-align: middle;\n",
       "    }\n",
       "\n",
       "    .dataframe tbody tr th {\n",
       "        vertical-align: top;\n",
       "    }\n",
       "\n",
       "    .dataframe thead th {\n",
       "        text-align: right;\n",
       "    }\n",
       "</style>\n",
       "<table border=\"1\" class=\"dataframe\">\n",
       "  <thead>\n",
       "    <tr style=\"text-align: right;\">\n",
       "      <th></th>\n",
       "      <th>총_유동인구_수</th>\n",
       "      <th>남성_유동인구_수</th>\n",
       "      <th>여성_유동인구_수</th>\n",
       "      <th>남성_상주인구_수</th>\n",
       "      <th>여성_상주인구_수</th>\n",
       "      <th>총_가구_수</th>\n",
       "      <th>아파트_가구_수</th>\n",
       "      <th>비_아파트_가구_수</th>\n",
       "      <th>총_직장_인구_수</th>\n",
       "      <th>남성_직장_인구_수</th>\n",
       "      <th>...</th>\n",
       "      <th>당월_매출_건수</th>\n",
       "      <th>주중_매출_금액</th>\n",
       "      <th>주말_매출_금액</th>\n",
       "      <th>남성_매출_금액</th>\n",
       "      <th>여성_매출_금액</th>\n",
       "      <th>주중_매출_건수</th>\n",
       "      <th>주말_매출_건수</th>\n",
       "      <th>점포수</th>\n",
       "      <th>임대료_전체</th>\n",
       "      <th>공실률</th>\n",
       "    </tr>\n",
       "  </thead>\n",
       "  <tbody>\n",
       "    <tr>\n",
       "      <th>0</th>\n",
       "      <td>-0.382941</td>\n",
       "      <td>-0.395933</td>\n",
       "      <td>-0.367207</td>\n",
       "      <td>-0.873870</td>\n",
       "      <td>-0.834053</td>\n",
       "      <td>-0.904971</td>\n",
       "      <td>-0.515135</td>\n",
       "      <td>-0.829239</td>\n",
       "      <td>-0.326401</td>\n",
       "      <td>-0.288534</td>\n",
       "      <td>...</td>\n",
       "      <td>-0.288226</td>\n",
       "      <td>-0.313761</td>\n",
       "      <td>-0.267916</td>\n",
       "      <td>-0.343985</td>\n",
       "      <td>-0.269315</td>\n",
       "      <td>-0.298673</td>\n",
       "      <td>-0.249881</td>\n",
       "      <td>-0.260075</td>\n",
       "      <td>-0.066647</td>\n",
       "      <td>-1.374447</td>\n",
       "    </tr>\n",
       "    <tr>\n",
       "      <th>1</th>\n",
       "      <td>-0.219401</td>\n",
       "      <td>-0.204411</td>\n",
       "      <td>-0.231816</td>\n",
       "      <td>-0.929033</td>\n",
       "      <td>-0.878505</td>\n",
       "      <td>-0.939180</td>\n",
       "      <td>-0.515135</td>\n",
       "      <td>-0.864502</td>\n",
       "      <td>-0.350478</td>\n",
       "      <td>-0.313358</td>\n",
       "      <td>...</td>\n",
       "      <td>-0.093364</td>\n",
       "      <td>-0.107168</td>\n",
       "      <td>-0.089448</td>\n",
       "      <td>-0.049098</td>\n",
       "      <td>-0.149443</td>\n",
       "      <td>-0.097132</td>\n",
       "      <td>-0.080064</td>\n",
       "      <td>-0.185178</td>\n",
       "      <td>-0.066647</td>\n",
       "      <td>-1.374447</td>\n",
       "    </tr>\n",
       "    <tr>\n",
       "      <th>2</th>\n",
       "      <td>0.489636</td>\n",
       "      <td>0.598670</td>\n",
       "      <td>0.381259</td>\n",
       "      <td>0.116235</td>\n",
       "      <td>0.362101</td>\n",
       "      <td>0.122661</td>\n",
       "      <td>3.833139</td>\n",
       "      <td>-0.644465</td>\n",
       "      <td>4.793166</td>\n",
       "      <td>4.483470</td>\n",
       "      <td>...</td>\n",
       "      <td>0.991963</td>\n",
       "      <td>1.038786</td>\n",
       "      <td>0.218163</td>\n",
       "      <td>0.788370</td>\n",
       "      <td>0.379810</td>\n",
       "      <td>1.258679</td>\n",
       "      <td>0.332590</td>\n",
       "      <td>1.425124</td>\n",
       "      <td>-0.066647</td>\n",
       "      <td>-1.374447</td>\n",
       "    </tr>\n",
       "    <tr>\n",
       "      <th>3</th>\n",
       "      <td>-0.548467</td>\n",
       "      <td>-0.573487</td>\n",
       "      <td>-0.519811</td>\n",
       "      <td>-0.904987</td>\n",
       "      <td>-0.847524</td>\n",
       "      <td>-0.969284</td>\n",
       "      <td>-0.515135</td>\n",
       "      <td>-0.895533</td>\n",
       "      <td>-0.372206</td>\n",
       "      <td>-0.326518</td>\n",
       "      <td>...</td>\n",
       "      <td>-0.461357</td>\n",
       "      <td>-0.429478</td>\n",
       "      <td>-0.385894</td>\n",
       "      <td>-0.472458</td>\n",
       "      <td>-0.349983</td>\n",
       "      <td>-0.471186</td>\n",
       "      <td>-0.415728</td>\n",
       "      <td>-0.504594</td>\n",
       "      <td>-0.066647</td>\n",
       "      <td>-1.374447</td>\n",
       "    </tr>\n",
       "    <tr>\n",
       "      <th>4</th>\n",
       "      <td>-0.010546</td>\n",
       "      <td>0.029175</td>\n",
       "      <td>-0.048392</td>\n",
       "      <td>-1.368922</td>\n",
       "      <td>-1.374209</td>\n",
       "      <td>-1.396210</td>\n",
       "      <td>-0.515135</td>\n",
       "      <td>-1.335606</td>\n",
       "      <td>-0.148076</td>\n",
       "      <td>-0.104001</td>\n",
       "      <td>...</td>\n",
       "      <td>-0.003637</td>\n",
       "      <td>-0.053108</td>\n",
       "      <td>-0.306497</td>\n",
       "      <td>-0.193793</td>\n",
       "      <td>-0.215621</td>\n",
       "      <td>0.094473</td>\n",
       "      <td>-0.227681</td>\n",
       "      <td>-0.271090</td>\n",
       "      <td>-0.066647</td>\n",
       "      <td>-1.374447</td>\n",
       "    </tr>\n",
       "  </tbody>\n",
       "</table>\n",
       "<p>5 rows × 25 columns</p>\n",
       "</div>"
      ],
      "text/plain": [
       "   총_유동인구_수  남성_유동인구_수  여성_유동인구_수  남성_상주인구_수  여성_상주인구_수    총_가구_수  아파트_가구_수  \\\n",
       "0 -0.382941  -0.395933  -0.367207  -0.873870  -0.834053 -0.904971 -0.515135   \n",
       "1 -0.219401  -0.204411  -0.231816  -0.929033  -0.878505 -0.939180 -0.515135   \n",
       "2  0.489636   0.598670   0.381259   0.116235   0.362101  0.122661  3.833139   \n",
       "3 -0.548467  -0.573487  -0.519811  -0.904987  -0.847524 -0.969284 -0.515135   \n",
       "4 -0.010546   0.029175  -0.048392  -1.368922  -1.374209 -1.396210 -0.515135   \n",
       "\n",
       "   비_아파트_가구_수  총_직장_인구_수  남성_직장_인구_수  ...  당월_매출_건수  주중_매출_금액  주말_매출_금액  \\\n",
       "0   -0.829239  -0.326401   -0.288534  ... -0.288226 -0.313761 -0.267916   \n",
       "1   -0.864502  -0.350478   -0.313358  ... -0.093364 -0.107168 -0.089448   \n",
       "2   -0.644465   4.793166    4.483470  ...  0.991963  1.038786  0.218163   \n",
       "3   -0.895533  -0.372206   -0.326518  ... -0.461357 -0.429478 -0.385894   \n",
       "4   -1.335606  -0.148076   -0.104001  ... -0.003637 -0.053108 -0.306497   \n",
       "\n",
       "   남성_매출_금액  여성_매출_금액  주중_매출_건수  주말_매출_건수       점포수    임대료_전체       공실률  \n",
       "0 -0.343985 -0.269315 -0.298673 -0.249881 -0.260075 -0.066647 -1.374447  \n",
       "1 -0.049098 -0.149443 -0.097132 -0.080064 -0.185178 -0.066647 -1.374447  \n",
       "2  0.788370  0.379810  1.258679  0.332590  1.425124 -0.066647 -1.374447  \n",
       "3 -0.472458 -0.349983 -0.471186 -0.415728 -0.504594 -0.066647 -1.374447  \n",
       "4 -0.193793 -0.215621  0.094473 -0.227681 -0.271090 -0.066647 -1.374447  \n",
       "\n",
       "[5 rows x 25 columns]"
      ]
     },
     "execution_count": 3,
     "metadata": {},
     "output_type": "execute_result"
    }
   ],
   "source": [
    "df = pd.read_csv('data/DeepLearning_Data/Seoul_Vacancy_Rate_v6.csv', encoding= 'ansi')\n",
    "df.head()"
   ]
  },
  {
   "cell_type": "code",
   "execution_count": 4,
   "metadata": {},
   "outputs": [
    {
     "data": {
      "text/plain": [
       "(2913, 25)"
      ]
     },
     "execution_count": 4,
     "metadata": {},
     "output_type": "execute_result"
    }
   ],
   "source": [
    "df.shape"
   ]
  },
  {
   "cell_type": "code",
   "execution_count": 5,
   "metadata": {},
   "outputs": [
    {
     "data": {
      "text/html": [
       "<div>\n",
       "<style scoped>\n",
       "    .dataframe tbody tr th:only-of-type {\n",
       "        vertical-align: middle;\n",
       "    }\n",
       "\n",
       "    .dataframe tbody tr th {\n",
       "        vertical-align: top;\n",
       "    }\n",
       "\n",
       "    .dataframe thead th {\n",
       "        text-align: right;\n",
       "    }\n",
       "</style>\n",
       "<table border=\"1\" class=\"dataframe\">\n",
       "  <thead>\n",
       "    <tr style=\"text-align: right;\">\n",
       "      <th></th>\n",
       "      <th>총_유동인구_수</th>\n",
       "      <th>남성_유동인구_수</th>\n",
       "      <th>여성_유동인구_수</th>\n",
       "      <th>남성_상주인구_수</th>\n",
       "      <th>여성_상주인구_수</th>\n",
       "      <th>총_가구_수</th>\n",
       "      <th>아파트_가구_수</th>\n",
       "      <th>비_아파트_가구_수</th>\n",
       "      <th>총_직장_인구_수</th>\n",
       "      <th>남성_직장_인구_수</th>\n",
       "      <th>...</th>\n",
       "      <th>당월_매출_금액</th>\n",
       "      <th>당월_매출_건수</th>\n",
       "      <th>주중_매출_금액</th>\n",
       "      <th>주말_매출_금액</th>\n",
       "      <th>남성_매출_금액</th>\n",
       "      <th>여성_매출_금액</th>\n",
       "      <th>주중_매출_건수</th>\n",
       "      <th>주말_매출_건수</th>\n",
       "      <th>점포수</th>\n",
       "      <th>임대료_전체</th>\n",
       "    </tr>\n",
       "  </thead>\n",
       "  <tbody>\n",
       "    <tr>\n",
       "      <th>0</th>\n",
       "      <td>-0.382941</td>\n",
       "      <td>-0.395933</td>\n",
       "      <td>-0.367207</td>\n",
       "      <td>-0.873870</td>\n",
       "      <td>-0.834053</td>\n",
       "      <td>-0.904971</td>\n",
       "      <td>-0.515135</td>\n",
       "      <td>-0.829239</td>\n",
       "      <td>-0.326401</td>\n",
       "      <td>-0.288534</td>\n",
       "      <td>...</td>\n",
       "      <td>-0.304227</td>\n",
       "      <td>-0.288226</td>\n",
       "      <td>-0.313761</td>\n",
       "      <td>-0.267916</td>\n",
       "      <td>-0.343985</td>\n",
       "      <td>-0.269315</td>\n",
       "      <td>-0.298673</td>\n",
       "      <td>-0.249881</td>\n",
       "      <td>-0.260075</td>\n",
       "      <td>-0.066647</td>\n",
       "    </tr>\n",
       "    <tr>\n",
       "      <th>1</th>\n",
       "      <td>-0.219401</td>\n",
       "      <td>-0.204411</td>\n",
       "      <td>-0.231816</td>\n",
       "      <td>-0.929033</td>\n",
       "      <td>-0.878505</td>\n",
       "      <td>-0.939180</td>\n",
       "      <td>-0.515135</td>\n",
       "      <td>-0.864502</td>\n",
       "      <td>-0.350478</td>\n",
       "      <td>-0.313358</td>\n",
       "      <td>...</td>\n",
       "      <td>-0.103289</td>\n",
       "      <td>-0.093364</td>\n",
       "      <td>-0.107168</td>\n",
       "      <td>-0.089448</td>\n",
       "      <td>-0.049098</td>\n",
       "      <td>-0.149443</td>\n",
       "      <td>-0.097132</td>\n",
       "      <td>-0.080064</td>\n",
       "      <td>-0.185178</td>\n",
       "      <td>-0.066647</td>\n",
       "    </tr>\n",
       "    <tr>\n",
       "      <th>2</th>\n",
       "      <td>0.489636</td>\n",
       "      <td>0.598670</td>\n",
       "      <td>0.381259</td>\n",
       "      <td>0.116235</td>\n",
       "      <td>0.362101</td>\n",
       "      <td>0.122661</td>\n",
       "      <td>3.833139</td>\n",
       "      <td>-0.644465</td>\n",
       "      <td>4.793166</td>\n",
       "      <td>4.483470</td>\n",
       "      <td>...</td>\n",
       "      <td>0.806575</td>\n",
       "      <td>0.991963</td>\n",
       "      <td>1.038786</td>\n",
       "      <td>0.218163</td>\n",
       "      <td>0.788370</td>\n",
       "      <td>0.379810</td>\n",
       "      <td>1.258679</td>\n",
       "      <td>0.332590</td>\n",
       "      <td>1.425124</td>\n",
       "      <td>-0.066647</td>\n",
       "    </tr>\n",
       "    <tr>\n",
       "      <th>3</th>\n",
       "      <td>-0.548467</td>\n",
       "      <td>-0.573487</td>\n",
       "      <td>-0.519811</td>\n",
       "      <td>-0.904987</td>\n",
       "      <td>-0.847524</td>\n",
       "      <td>-0.969284</td>\n",
       "      <td>-0.515135</td>\n",
       "      <td>-0.895533</td>\n",
       "      <td>-0.372206</td>\n",
       "      <td>-0.326518</td>\n",
       "      <td>...</td>\n",
       "      <td>-0.422182</td>\n",
       "      <td>-0.461357</td>\n",
       "      <td>-0.429478</td>\n",
       "      <td>-0.385894</td>\n",
       "      <td>-0.472458</td>\n",
       "      <td>-0.349983</td>\n",
       "      <td>-0.471186</td>\n",
       "      <td>-0.415728</td>\n",
       "      <td>-0.504594</td>\n",
       "      <td>-0.066647</td>\n",
       "    </tr>\n",
       "    <tr>\n",
       "      <th>4</th>\n",
       "      <td>-0.010546</td>\n",
       "      <td>0.029175</td>\n",
       "      <td>-0.048392</td>\n",
       "      <td>-1.368922</td>\n",
       "      <td>-1.374209</td>\n",
       "      <td>-1.396210</td>\n",
       "      <td>-0.515135</td>\n",
       "      <td>-1.335606</td>\n",
       "      <td>-0.148076</td>\n",
       "      <td>-0.104001</td>\n",
       "      <td>...</td>\n",
       "      <td>-0.129842</td>\n",
       "      <td>-0.003637</td>\n",
       "      <td>-0.053108</td>\n",
       "      <td>-0.306497</td>\n",
       "      <td>-0.193793</td>\n",
       "      <td>-0.215621</td>\n",
       "      <td>0.094473</td>\n",
       "      <td>-0.227681</td>\n",
       "      <td>-0.271090</td>\n",
       "      <td>-0.066647</td>\n",
       "    </tr>\n",
       "  </tbody>\n",
       "</table>\n",
       "<p>5 rows × 24 columns</p>\n",
       "</div>"
      ],
      "text/plain": [
       "   총_유동인구_수  남성_유동인구_수  여성_유동인구_수  남성_상주인구_수  여성_상주인구_수    총_가구_수  아파트_가구_수  \\\n",
       "0 -0.382941  -0.395933  -0.367207  -0.873870  -0.834053 -0.904971 -0.515135   \n",
       "1 -0.219401  -0.204411  -0.231816  -0.929033  -0.878505 -0.939180 -0.515135   \n",
       "2  0.489636   0.598670   0.381259   0.116235   0.362101  0.122661  3.833139   \n",
       "3 -0.548467  -0.573487  -0.519811  -0.904987  -0.847524 -0.969284 -0.515135   \n",
       "4 -0.010546   0.029175  -0.048392  -1.368922  -1.374209 -1.396210 -0.515135   \n",
       "\n",
       "   비_아파트_가구_수  총_직장_인구_수  남성_직장_인구_수  ...  당월_매출_금액  당월_매출_건수  주중_매출_금액  \\\n",
       "0   -0.829239  -0.326401   -0.288534  ... -0.304227 -0.288226 -0.313761   \n",
       "1   -0.864502  -0.350478   -0.313358  ... -0.103289 -0.093364 -0.107168   \n",
       "2   -0.644465   4.793166    4.483470  ...  0.806575  0.991963  1.038786   \n",
       "3   -0.895533  -0.372206   -0.326518  ... -0.422182 -0.461357 -0.429478   \n",
       "4   -1.335606  -0.148076   -0.104001  ... -0.129842 -0.003637 -0.053108   \n",
       "\n",
       "   주말_매출_금액  남성_매출_금액  여성_매출_금액  주중_매출_건수  주말_매출_건수       점포수    임대료_전체  \n",
       "0 -0.267916 -0.343985 -0.269315 -0.298673 -0.249881 -0.260075 -0.066647  \n",
       "1 -0.089448 -0.049098 -0.149443 -0.097132 -0.080064 -0.185178 -0.066647  \n",
       "2  0.218163  0.788370  0.379810  1.258679  0.332590  1.425124 -0.066647  \n",
       "3 -0.385894 -0.472458 -0.349983 -0.471186 -0.415728 -0.504594 -0.066647  \n",
       "4 -0.306497 -0.193793 -0.215621  0.094473 -0.227681 -0.271090 -0.066647  \n",
       "\n",
       "[5 rows x 24 columns]"
      ]
     },
     "execution_count": 5,
     "metadata": {},
     "output_type": "execute_result"
    }
   ],
   "source": [
    "from sklearn.model_selection import train_test_split\n",
    "\n",
    "X = df.iloc[:, :-1]\n",
    "y = df.iloc[:, -1:]\n",
    "X.head()"
   ]
  },
  {
   "cell_type": "code",
   "execution_count": 6,
   "metadata": {},
   "outputs": [
    {
     "data": {
      "text/html": [
       "<div>\n",
       "<style scoped>\n",
       "    .dataframe tbody tr th:only-of-type {\n",
       "        vertical-align: middle;\n",
       "    }\n",
       "\n",
       "    .dataframe tbody tr th {\n",
       "        vertical-align: top;\n",
       "    }\n",
       "\n",
       "    .dataframe thead th {\n",
       "        text-align: right;\n",
       "    }\n",
       "</style>\n",
       "<table border=\"1\" class=\"dataframe\">\n",
       "  <thead>\n",
       "    <tr style=\"text-align: right;\">\n",
       "      <th></th>\n",
       "      <th>공실률</th>\n",
       "    </tr>\n",
       "  </thead>\n",
       "  <tbody>\n",
       "    <tr>\n",
       "      <th>0</th>\n",
       "      <td>-1.374447</td>\n",
       "    </tr>\n",
       "    <tr>\n",
       "      <th>1</th>\n",
       "      <td>-1.374447</td>\n",
       "    </tr>\n",
       "    <tr>\n",
       "      <th>2</th>\n",
       "      <td>-1.374447</td>\n",
       "    </tr>\n",
       "    <tr>\n",
       "      <th>3</th>\n",
       "      <td>-1.374447</td>\n",
       "    </tr>\n",
       "    <tr>\n",
       "      <th>4</th>\n",
       "      <td>-1.374447</td>\n",
       "    </tr>\n",
       "  </tbody>\n",
       "</table>\n",
       "</div>"
      ],
      "text/plain": [
       "        공실률\n",
       "0 -1.374447\n",
       "1 -1.374447\n",
       "2 -1.374447\n",
       "3 -1.374447\n",
       "4 -1.374447"
      ]
     },
     "execution_count": 6,
     "metadata": {},
     "output_type": "execute_result"
    }
   ],
   "source": [
    "y.head()"
   ]
  },
  {
   "cell_type": "code",
   "execution_count": 7,
   "metadata": {},
   "outputs": [],
   "source": [
    "X_train, X_test, y_train, y_test = train_test_split(X, y, test_size= 0.3, \n",
    "                                                    random_state= 1)"
   ]
  },
  {
   "cell_type": "code",
   "execution_count": 8,
   "metadata": {},
   "outputs": [
    {
     "data": {
      "text/plain": [
       "(2039, 24)"
      ]
     },
     "execution_count": 8,
     "metadata": {},
     "output_type": "execute_result"
    }
   ],
   "source": [
    "X_train.shape"
   ]
  },
  {
   "cell_type": "code",
   "execution_count": 9,
   "metadata": {},
   "outputs": [],
   "source": [
    "forest = RandomForestRegressor(n_estimators= 1000, criterion= 'mse', \n",
    "                               random_state=1, n_jobs= -1)"
   ]
  },
  {
   "cell_type": "code",
   "execution_count": 10,
   "metadata": {},
   "outputs": [
    {
     "name": "stderr",
     "output_type": "stream",
     "text": [
      "C:\\Users\\Q\\Anaconda3\\lib\\site-packages\\ipykernel_launcher.py:1: DataConversionWarning: A column-vector y was passed when a 1d array was expected. Please change the shape of y to (n_samples,), for example using ravel().\n",
      "  \"\"\"Entry point for launching an IPython kernel.\n"
     ]
    },
    {
     "data": {
      "text/plain": [
       "RandomForestRegressor(bootstrap=True, criterion='mse', max_depth=None,\n",
       "                      max_features='auto', max_leaf_nodes=None,\n",
       "                      min_impurity_decrease=0.0, min_impurity_split=None,\n",
       "                      min_samples_leaf=1, min_samples_split=2,\n",
       "                      min_weight_fraction_leaf=0.0, n_estimators=1000,\n",
       "                      n_jobs=-1, oob_score=False, random_state=1, verbose=0,\n",
       "                      warm_start=False)"
      ]
     },
     "execution_count": 10,
     "metadata": {},
     "output_type": "execute_result"
    }
   ],
   "source": [
    "forest.fit(X_train, y_train)"
   ]
  },
  {
   "cell_type": "code",
   "execution_count": 11,
   "metadata": {},
   "outputs": [],
   "source": [
    "y_train_pred = forest.predict(X_train)\n",
    "y_test_pred = forest.predict(X_test)"
   ]
  },
  {
   "cell_type": "code",
   "execution_count": 12,
   "metadata": {},
   "outputs": [],
   "source": [
    "r2_train = r2_score(y_train, y_train_pred)\n",
    "r2_test = r2_score(y_test, y_test_pred)"
   ]
  },
  {
   "cell_type": "code",
   "execution_count": 13,
   "metadata": {},
   "outputs": [
    {
     "data": {
      "text/plain": [
       "0.9502992464643799"
      ]
     },
     "execution_count": 13,
     "metadata": {},
     "output_type": "execute_result"
    }
   ],
   "source": [
    "forest.score(X_train, y_train)"
   ]
  },
  {
   "cell_type": "code",
   "execution_count": 14,
   "metadata": {},
   "outputs": [
    {
     "data": {
      "text/plain": [
       "0.6619453695359643"
      ]
     },
     "execution_count": 14,
     "metadata": {},
     "output_type": "execute_result"
    }
   ],
   "source": [
    "forest.score(X_test, y_test)"
   ]
  },
  {
   "cell_type": "code",
   "execution_count": 15,
   "metadata": {},
   "outputs": [
    {
     "name": "stdout",
     "output_type": "stream",
     "text": [
      "0.950, 0.662\n"
     ]
    }
   ],
   "source": [
    "print('{:.3f}, {:.3f}'.format(r2_train, r2_test))"
   ]
  }
 ],
 "metadata": {
  "kernelspec": {
   "display_name": "Python 3",
   "language": "python",
   "name": "python3"
  },
  "language_info": {
   "codemirror_mode": {
    "name": "ipython",
    "version": 3
   },
   "file_extension": ".py",
   "mimetype": "text/x-python",
   "name": "python",
   "nbconvert_exporter": "python",
   "pygments_lexer": "ipython3",
   "version": "3.7.3"
  }
 },
 "nbformat": 4,
 "nbformat_minor": 2
}
