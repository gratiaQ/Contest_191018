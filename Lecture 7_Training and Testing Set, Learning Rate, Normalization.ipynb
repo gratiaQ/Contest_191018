{
 "cells": [
  {
   "cell_type": "code",
   "execution_count": 12,
   "metadata": {},
   "outputs": [],
   "source": [
    "import tensorflow as tf\n",
    "tf.set_random_seed(777)  # for reproducibility\n",
    "\n",
    "x_data = [[1, 2, 1],\n",
    "          [1, 3, 2],\n",
    "          [1, 3, 4],\n",
    "          [1, 5, 5],\n",
    "          [1, 7, 5],\n",
    "          [1, 2, 5],\n",
    "          [1, 6, 6],\n",
    "          [1, 7, 7]]\n",
    "y_data = [[0, 0, 1],\n",
    "          [0, 0, 1],\n",
    "          [0, 0, 1],\n",
    "          [0, 1, 0],\n",
    "          [0, 1, 0],\n",
    "          [0, 1, 0],\n",
    "          [1, 0, 0],\n",
    "          [1, 0, 0]]\n",
    "\n",
    "# Evaluation our model using this test dataset\n",
    "x_test = [[2, 1, 1],\n",
    "          [3, 1, 2],\n",
    "          [3, 3, 4]]\n",
    "y_test = [[0, 0, 1],\n",
    "          [0, 0, 1],\n",
    "          [0, 0, 1]]"
   ]
  },
  {
   "cell_type": "code",
   "execution_count": 13,
   "metadata": {},
   "outputs": [],
   "source": [
    "X = tf.placeholder('float', [None, 3])\n",
    "Y = tf.placeholder('float', [None, 3])"
   ]
  },
  {
   "cell_type": "code",
   "execution_count": 14,
   "metadata": {},
   "outputs": [],
   "source": [
    "W = tf.Variable(tf.random_normal([3, 3]))\n",
    "b = tf.Variable(tf.random_normal([3]))"
   ]
  },
  {
   "cell_type": "code",
   "execution_count": 15,
   "metadata": {},
   "outputs": [],
   "source": [
    "hypothesis = tf.nn.softmax(tf.matmul(X, W) + b)"
   ]
  },
  {
   "cell_type": "code",
   "execution_count": 16,
   "metadata": {},
   "outputs": [],
   "source": [
    "cost = tf.reduce_mean(-tf.reduce_sum(Y * tf.log(hypothesis), axis= 1))"
   ]
  },
  {
   "cell_type": "code",
   "execution_count": 17,
   "metadata": {},
   "outputs": [],
   "source": [
    "train = tf.train.GradientDescentOptimizer(learning_rate= 0.1).minimize(cost)"
   ]
  },
  {
   "cell_type": "code",
   "execution_count": 18,
   "metadata": {},
   "outputs": [],
   "source": [
    "prediction = tf.math.argmax(hypothesis, 1)"
   ]
  },
  {
   "cell_type": "code",
   "execution_count": 19,
   "metadata": {},
   "outputs": [],
   "source": [
    "is_correct = tf.equal(prediction, tf.math.argmax(Y, 1))"
   ]
  },
  {
   "cell_type": "code",
   "execution_count": 20,
   "metadata": {},
   "outputs": [],
   "source": [
    "accuracy = tf.reduce_mean(tf.cast(is_correct, tf.float32))"
   ]
  },
  {
   "cell_type": "code",
   "execution_count": 21,
   "metadata": {},
   "outputs": [
    {
     "name": "stdout",
     "output_type": "stream",
     "text": [
      "0 5.191887 [[-2.114478    1.1758164   1.4683932 ]\n",
      " [-0.62316895 -0.3661066   0.4470526 ]\n",
      " [ 0.52655727  1.4796041  -2.357289  ]]\n",
      "50 0.8882547 [[-2.397831    0.868456    2.059107  ]\n",
      " [-0.44911173 -0.67545474  0.58234364]\n",
      " [ 0.5350161   0.46096694 -1.3471102 ]]\n",
      "100 0.69931155 [[-2.6666684   0.76842046  2.4279807 ]\n",
      " [-0.26049352 -0.4217849   0.14005552]\n",
      " [ 0.4129585   0.22008112 -0.9841662 ]]\n",
      "150 0.6135872 [[-2.8993957   0.7107237   2.718405  ]\n",
      " [-0.13328116 -0.29205737 -0.11688425]\n",
      " [ 0.36631727  0.11305953 -0.8305029 ]]\n",
      "200 0.5716715 [[-3.1005256   0.68350565  2.9467535 ]\n",
      " [-0.07227867 -0.24020046 -0.22974375]\n",
      " [ 0.38349718  0.08067665 -0.8152999 ]]\n",
      "Prediction: [2 2 2]\n",
      "Accuracy: 1.0\n"
     ]
    }
   ],
   "source": [
    "with tf.Session() as sess:\n",
    "    sess.run(tf.global_variables_initializer())\n",
    "    \n",
    "    feed = {X: x_data, Y: y_data}\n",
    "    for step in range(201):\n",
    "        cost_val, W_val, _ = sess.run([cost, W, train], feed_dict= feed)\n",
    "        if step % 50 == 0:\n",
    "            print(step, cost_val, W_val)\n",
    "    \n",
    "    print('Prediction:', sess.run(prediction, feed_dict= {X: x_test}))\n",
    "    print('Accuracy:', sess.run(accuracy, feed_dict= {X: x_test, Y: y_test}))"
   ]
  },
  {
   "cell_type": "code",
   "execution_count": 24,
   "metadata": {},
   "outputs": [],
   "source": [
    "import numpy as np"
   ]
  },
  {
   "cell_type": "code",
   "execution_count": 22,
   "metadata": {},
   "outputs": [],
   "source": [
    "def min_max_scaler(data):\n",
    "    numerator = data - np.min(data, 0)\n",
    "    denominator = np.max(data, 0) - np.min(data, 0)\n",
    "    # noise term prevents the zero division\n",
    "    return numerator / (denominator + 1e-7)"
   ]
  },
  {
   "cell_type": "code",
   "execution_count": 25,
   "metadata": {},
   "outputs": [],
   "source": [
    "xy = np.array(\n",
    "    [\n",
    "        [828.659973, 833.450012, 908100, 828.349976, 831.659973],\n",
    "        [823.02002, 828.070007, 1828100, 821.655029, 828.070007],\n",
    "        [819.929993, 824.400024, 1438100, 818.97998, 824.159973],\n",
    "        [816, 820.958984, 1008100, 815.48999, 819.23999],\n",
    "        [819.359985, 823, 1188100, 818.469971, 818.97998],\n",
    "        [819, 823, 1198100, 816, 820.450012],\n",
    "        [811.700012, 815.25, 1098100, 809.780029, 813.669983],\n",
    "        [809.51001, 816.659973, 1398100, 804.539978, 809.559998],\n",
    "    ]\n",
    ")"
   ]
  },
  {
   "cell_type": "code",
   "execution_count": 26,
   "metadata": {},
   "outputs": [
    {
     "name": "stdout",
     "output_type": "stream",
     "text": [
      "[[0.99999999 0.99999999 0.         1.         1.        ]\n",
      " [0.70548491 0.70439552 1.         0.71881782 0.83755791]\n",
      " [0.54412549 0.50274824 0.57608696 0.606468   0.6606331 ]\n",
      " [0.33890353 0.31368023 0.10869565 0.45989134 0.43800918]\n",
      " [0.51436    0.42582389 0.30434783 0.58504805 0.42624401]\n",
      " [0.49556179 0.42582389 0.31521739 0.48131134 0.49276137]\n",
      " [0.11436064 0.         0.20652174 0.22007776 0.18597238]\n",
      " [0.         0.07747099 0.5326087  0.         0.        ]]\n"
     ]
    }
   ],
   "source": [
    "# very important. It does not work without it.\n",
    "xy = min_max_scaler(xy)\n",
    "print(xy)"
   ]
  },
  {
   "cell_type": "code",
   "execution_count": 27,
   "metadata": {},
   "outputs": [
    {
     "name": "stdout",
     "output_type": "stream",
     "text": [
      "0 Cost:  1.2597785 \n",
      "Prediction:\n",
      " [[1.0288137 ]\n",
      " [3.1844685 ]\n",
      " [2.0110395 ]\n",
      " [0.64013827]\n",
      " [1.34037   ]\n",
      " [1.2273562 ]\n",
      " [0.65783095]\n",
      " [1.0521636 ]]\n",
      "20 Cost:  1.2584822 \n",
      "Prediction:\n",
      " [[1.027948  ]\n",
      " [3.1835368 ]\n",
      " [2.0102787 ]\n",
      " [0.6395691 ]\n",
      " [1.3396887 ]\n",
      " [1.2266942 ]\n",
      " [0.65737253]\n",
      " [1.0516818 ]]\n",
      "40 Cost:  1.2571886 \n",
      "Prediction:\n",
      " [[1.0270844]\n",
      " [3.1826057]\n",
      " [2.0095186]\n",
      " [0.6390007]\n",
      " [1.3390081]\n",
      " [1.2260334]\n",
      " [0.6569144]\n",
      " [1.0512005]]\n",
      "60 Cost:  1.2558968 \n",
      "Prediction:\n",
      " [[1.026221 ]\n",
      " [3.181676 ]\n",
      " [2.008759 ]\n",
      " [0.6384326]\n",
      " [1.338328 ]\n",
      " [1.225373 ]\n",
      " [0.6564567]\n",
      " [1.0507196]]\n",
      "80 Cost:  1.254606 \n",
      "Prediction:\n",
      " [[1.0253578]\n",
      " [3.1807458]\n",
      " [2.0079997]\n",
      " [0.6378649]\n",
      " [1.337648 ]\n",
      " [1.2247127]\n",
      " [0.6559991]\n",
      " [1.0502387]]\n",
      "100 Cost:  1.253317 \n",
      "Prediction:\n",
      " [[1.024495 ]\n",
      " [3.1798162]\n",
      " [2.0072408]\n",
      " [0.6372973]\n",
      " [1.3369684]\n",
      " [1.2240528]\n",
      " [0.6555419]\n",
      " [1.0497582]]\n"
     ]
    }
   ],
   "source": [
    "x_data = xy[:, 0:-1]\n",
    "y_data = xy[:, [-1]]\n",
    "\n",
    "# placeholders for a tensor that will be always fed.\n",
    "X = tf.placeholder(tf.float32, shape=[None, 4])\n",
    "Y = tf.placeholder(tf.float32, shape=[None, 1])\n",
    "\n",
    "W = tf.Variable(tf.random_normal([4, 1]), name='weight')\n",
    "b = tf.Variable(tf.random_normal([1]), name='bias')\n",
    "\n",
    "# Hypothesis\n",
    "hypothesis = tf.matmul(X, W) + b\n",
    "\n",
    "# Simplified cost/loss function\n",
    "cost = tf.reduce_mean(tf.square(hypothesis - Y))\n",
    "\n",
    "# Minimize\n",
    "train = tf.train.GradientDescentOptimizer(learning_rate=1e-5).minimize(cost)\n",
    "\n",
    "# Launch the graph in a session.\n",
    "with tf.Session() as sess:\n",
    "    # Initializes global variables in the graph.\n",
    "    sess.run(tf.global_variables_initializer())\n",
    "\n",
    "    for step in range(101):\n",
    "        _, cost_val, hy_val = sess.run(\n",
    "            [train, cost, hypothesis], feed_dict={X: x_data, Y: y_data}\n",
    "        )\n",
    "        if step % 20 == 0:\n",
    "            print(step, \"Cost: \", cost_val, \"\\nPrediction:\\n\", hy_val)"
   ]
  }
 ],
 "metadata": {
  "kernelspec": {
   "display_name": "Python 3",
   "language": "python",
   "name": "python3"
  },
  "language_info": {
   "codemirror_mode": {
    "name": "ipython",
    "version": 3
   },
   "file_extension": ".py",
   "mimetype": "text/x-python",
   "name": "python",
   "nbconvert_exporter": "python",
   "pygments_lexer": "ipython3",
   "version": "3.7.3"
  }
 },
 "nbformat": 4,
 "nbformat_minor": 2
}
