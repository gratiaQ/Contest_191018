{
 "cells": [
  {
   "cell_type": "code",
   "execution_count": 1,
   "metadata": {},
   "outputs": [],
   "source": [
    "import pandas as pd\n",
    "import numpy as np"
   ]
  },
  {
   "cell_type": "code",
   "execution_count": 2,
   "metadata": {},
   "outputs": [],
   "source": [
    "vacancy_df = pd.read_csv('data/Train_2_Stacking.csv', encoding= 'ansi')"
   ]
  },
  {
   "cell_type": "code",
   "execution_count": 3,
   "metadata": {},
   "outputs": [
    {
     "name": "stdout",
     "output_type": "stream",
     "text": [
      "데이터 세트의 Shape: (5641, 70)\n"
     ]
    }
   ],
   "source": [
    "print('데이터 세트의 Shape:', vacancy_df.shape)"
   ]
  },
  {
   "cell_type": "code",
   "execution_count": 4,
   "metadata": {},
   "outputs": [
    {
     "data": {
      "text/html": [
       "<div>\n",
       "<style scoped>\n",
       "    .dataframe tbody tr th:only-of-type {\n",
       "        vertical-align: middle;\n",
       "    }\n",
       "\n",
       "    .dataframe tbody tr th {\n",
       "        vertical-align: top;\n",
       "    }\n",
       "\n",
       "    .dataframe thead th {\n",
       "        text-align: right;\n",
       "    }\n",
       "</style>\n",
       "<table border=\"1\" class=\"dataframe\">\n",
       "  <thead>\n",
       "    <tr style=\"text-align: right;\">\n",
       "      <th></th>\n",
       "      <th>X1</th>\n",
       "      <th>X2</th>\n",
       "      <th>X3</th>\n",
       "      <th>X4</th>\n",
       "      <th>X5</th>\n",
       "      <th>X6</th>\n",
       "      <th>X7</th>\n",
       "      <th>X8</th>\n",
       "      <th>X9</th>\n",
       "      <th>X10</th>\n",
       "      <th>...</th>\n",
       "      <th>X61</th>\n",
       "      <th>X62</th>\n",
       "      <th>X63</th>\n",
       "      <th>X64</th>\n",
       "      <th>X65</th>\n",
       "      <th>X66</th>\n",
       "      <th>X67</th>\n",
       "      <th>X68</th>\n",
       "      <th>X69</th>\n",
       "      <th>Y</th>\n",
       "    </tr>\n",
       "  </thead>\n",
       "  <tbody>\n",
       "    <tr>\n",
       "      <th>0</th>\n",
       "      <td>173660</td>\n",
       "      <td>96866</td>\n",
       "      <td>76793</td>\n",
       "      <td>6356</td>\n",
       "      <td>52613</td>\n",
       "      <td>39480</td>\n",
       "      <td>32053</td>\n",
       "      <td>28652</td>\n",
       "      <td>14507</td>\n",
       "      <td>1314</td>\n",
       "      <td>...</td>\n",
       "      <td>1.261880e+09</td>\n",
       "      <td>2.020032e+09</td>\n",
       "      <td>1.600597e+09</td>\n",
       "      <td>141199</td>\n",
       "      <td>67904</td>\n",
       "      <td>118723</td>\n",
       "      <td>84751</td>\n",
       "      <td>110</td>\n",
       "      <td>50.2</td>\n",
       "      <td>7.2</td>\n",
       "    </tr>\n",
       "    <tr>\n",
       "      <th>1</th>\n",
       "      <td>209238</td>\n",
       "      <td>107003</td>\n",
       "      <td>102237</td>\n",
       "      <td>11228</td>\n",
       "      <td>45589</td>\n",
       "      <td>47885</td>\n",
       "      <td>44694</td>\n",
       "      <td>40624</td>\n",
       "      <td>19212</td>\n",
       "      <td>2514</td>\n",
       "      <td>...</td>\n",
       "      <td>6.259459e+08</td>\n",
       "      <td>9.079470e+08</td>\n",
       "      <td>6.824956e+08</td>\n",
       "      <td>60820</td>\n",
       "      <td>29820</td>\n",
       "      <td>50400</td>\n",
       "      <td>31521</td>\n",
       "      <td>63</td>\n",
       "      <td>50.2</td>\n",
       "      <td>7.2</td>\n",
       "    </tr>\n",
       "    <tr>\n",
       "      <th>2</th>\n",
       "      <td>478882</td>\n",
       "      <td>243693</td>\n",
       "      <td>235189</td>\n",
       "      <td>24111</td>\n",
       "      <td>83630</td>\n",
       "      <td>112851</td>\n",
       "      <td>109472</td>\n",
       "      <td>97958</td>\n",
       "      <td>50859</td>\n",
       "      <td>3743</td>\n",
       "      <td>...</td>\n",
       "      <td>1.855414e+09</td>\n",
       "      <td>3.330348e+09</td>\n",
       "      <td>3.451869e+09</td>\n",
       "      <td>285521</td>\n",
       "      <td>107030</td>\n",
       "      <td>215844</td>\n",
       "      <td>161208</td>\n",
       "      <td>219</td>\n",
       "      <td>50.2</td>\n",
       "      <td>7.2</td>\n",
       "    </tr>\n",
       "    <tr>\n",
       "      <th>3</th>\n",
       "      <td>1078154</td>\n",
       "      <td>556415</td>\n",
       "      <td>521736</td>\n",
       "      <td>63220</td>\n",
       "      <td>353808</td>\n",
       "      <td>235924</td>\n",
       "      <td>168800</td>\n",
       "      <td>157170</td>\n",
       "      <td>99228</td>\n",
       "      <td>1577</td>\n",
       "      <td>...</td>\n",
       "      <td>2.646531e+10</td>\n",
       "      <td>3.380276e+10</td>\n",
       "      <td>3.800171e+10</td>\n",
       "      <td>2571027</td>\n",
       "      <td>1394990</td>\n",
       "      <td>1784205</td>\n",
       "      <td>2117802</td>\n",
       "      <td>712</td>\n",
       "      <td>50.2</td>\n",
       "      <td>7.2</td>\n",
       "    </tr>\n",
       "    <tr>\n",
       "      <th>4</th>\n",
       "      <td>79702</td>\n",
       "      <td>48450</td>\n",
       "      <td>31256</td>\n",
       "      <td>3792</td>\n",
       "      <td>32157</td>\n",
       "      <td>16778</td>\n",
       "      <td>13658</td>\n",
       "      <td>10164</td>\n",
       "      <td>3155</td>\n",
       "      <td>578</td>\n",
       "      <td>...</td>\n",
       "      <td>1.056871e+09</td>\n",
       "      <td>2.203635e+09</td>\n",
       "      <td>1.687361e+09</td>\n",
       "      <td>264219</td>\n",
       "      <td>81132</td>\n",
       "      <td>186809</td>\n",
       "      <td>141214</td>\n",
       "      <td>110</td>\n",
       "      <td>50.2</td>\n",
       "      <td>7.2</td>\n",
       "    </tr>\n",
       "  </tbody>\n",
       "</table>\n",
       "<p>5 rows × 70 columns</p>\n",
       "</div>"
      ],
      "text/plain": [
       "        X1      X2      X3     X4      X5      X6      X7      X8     X9  \\\n",
       "0   173660   96866   76793   6356   52613   39480   32053   28652  14507   \n",
       "1   209238  107003  102237  11228   45589   47885   44694   40624  19212   \n",
       "2   478882  243693  235189  24111   83630  112851  109472   97958  50859   \n",
       "3  1078154  556415  521736  63220  353808  235924  168800  157170  99228   \n",
       "4    79702   48450   31256   3792   32157   16778   13658   10164   3155   \n",
       "\n",
       "    X10  ...           X61           X62           X63      X64      X65  \\\n",
       "0  1314  ...  1.261880e+09  2.020032e+09  1.600597e+09   141199    67904   \n",
       "1  2514  ...  6.259459e+08  9.079470e+08  6.824956e+08    60820    29820   \n",
       "2  3743  ...  1.855414e+09  3.330348e+09  3.451869e+09   285521   107030   \n",
       "3  1577  ...  2.646531e+10  3.380276e+10  3.800171e+10  2571027  1394990   \n",
       "4   578  ...  1.056871e+09  2.203635e+09  1.687361e+09   264219    81132   \n",
       "\n",
       "       X66      X67  X68   X69    Y  \n",
       "0   118723    84751  110  50.2  7.2  \n",
       "1    50400    31521   63  50.2  7.2  \n",
       "2   215844   161208  219  50.2  7.2  \n",
       "3  1784205  2117802  712  50.2  7.2  \n",
       "4   186809   141214  110  50.2  7.2  \n",
       "\n",
       "[5 rows x 70 columns]"
      ]
     },
     "execution_count": 4,
     "metadata": {},
     "output_type": "execute_result"
    }
   ],
   "source": [
    "vacancy_df.head()"
   ]
  },
  {
   "cell_type": "code",
   "execution_count": 5,
   "metadata": {},
   "outputs": [],
   "source": [
    "vacancy_df['Y'] = np.log1p(vacancy_df['Y'])"
   ]
  },
  {
   "cell_type": "code",
   "execution_count": 6,
   "metadata": {},
   "outputs": [
    {
     "data": {
      "text/html": [
       "<div>\n",
       "<style scoped>\n",
       "    .dataframe tbody tr th:only-of-type {\n",
       "        vertical-align: middle;\n",
       "    }\n",
       "\n",
       "    .dataframe tbody tr th {\n",
       "        vertical-align: top;\n",
       "    }\n",
       "\n",
       "    .dataframe thead th {\n",
       "        text-align: right;\n",
       "    }\n",
       "</style>\n",
       "<table border=\"1\" class=\"dataframe\">\n",
       "  <thead>\n",
       "    <tr style=\"text-align: right;\">\n",
       "      <th></th>\n",
       "      <th>X1</th>\n",
       "      <th>X2</th>\n",
       "      <th>X3</th>\n",
       "      <th>X4</th>\n",
       "      <th>X5</th>\n",
       "      <th>X6</th>\n",
       "      <th>X7</th>\n",
       "      <th>X8</th>\n",
       "      <th>X9</th>\n",
       "      <th>X10</th>\n",
       "      <th>...</th>\n",
       "      <th>X61</th>\n",
       "      <th>X62</th>\n",
       "      <th>X63</th>\n",
       "      <th>X64</th>\n",
       "      <th>X65</th>\n",
       "      <th>X66</th>\n",
       "      <th>X67</th>\n",
       "      <th>X68</th>\n",
       "      <th>X69</th>\n",
       "      <th>Y</th>\n",
       "    </tr>\n",
       "  </thead>\n",
       "  <tbody>\n",
       "    <tr>\n",
       "      <th>0</th>\n",
       "      <td>173660</td>\n",
       "      <td>96866</td>\n",
       "      <td>76793</td>\n",
       "      <td>6356</td>\n",
       "      <td>52613</td>\n",
       "      <td>39480</td>\n",
       "      <td>32053</td>\n",
       "      <td>28652</td>\n",
       "      <td>14507</td>\n",
       "      <td>1314</td>\n",
       "      <td>...</td>\n",
       "      <td>1.261880e+09</td>\n",
       "      <td>2.020032e+09</td>\n",
       "      <td>1.600597e+09</td>\n",
       "      <td>141199</td>\n",
       "      <td>67904</td>\n",
       "      <td>118723</td>\n",
       "      <td>84751</td>\n",
       "      <td>110</td>\n",
       "      <td>50.2</td>\n",
       "      <td>2.104134</td>\n",
       "    </tr>\n",
       "    <tr>\n",
       "      <th>1</th>\n",
       "      <td>209238</td>\n",
       "      <td>107003</td>\n",
       "      <td>102237</td>\n",
       "      <td>11228</td>\n",
       "      <td>45589</td>\n",
       "      <td>47885</td>\n",
       "      <td>44694</td>\n",
       "      <td>40624</td>\n",
       "      <td>19212</td>\n",
       "      <td>2514</td>\n",
       "      <td>...</td>\n",
       "      <td>6.259459e+08</td>\n",
       "      <td>9.079470e+08</td>\n",
       "      <td>6.824956e+08</td>\n",
       "      <td>60820</td>\n",
       "      <td>29820</td>\n",
       "      <td>50400</td>\n",
       "      <td>31521</td>\n",
       "      <td>63</td>\n",
       "      <td>50.2</td>\n",
       "      <td>2.104134</td>\n",
       "    </tr>\n",
       "    <tr>\n",
       "      <th>2</th>\n",
       "      <td>478882</td>\n",
       "      <td>243693</td>\n",
       "      <td>235189</td>\n",
       "      <td>24111</td>\n",
       "      <td>83630</td>\n",
       "      <td>112851</td>\n",
       "      <td>109472</td>\n",
       "      <td>97958</td>\n",
       "      <td>50859</td>\n",
       "      <td>3743</td>\n",
       "      <td>...</td>\n",
       "      <td>1.855414e+09</td>\n",
       "      <td>3.330348e+09</td>\n",
       "      <td>3.451869e+09</td>\n",
       "      <td>285521</td>\n",
       "      <td>107030</td>\n",
       "      <td>215844</td>\n",
       "      <td>161208</td>\n",
       "      <td>219</td>\n",
       "      <td>50.2</td>\n",
       "      <td>2.104134</td>\n",
       "    </tr>\n",
       "    <tr>\n",
       "      <th>3</th>\n",
       "      <td>1078154</td>\n",
       "      <td>556415</td>\n",
       "      <td>521736</td>\n",
       "      <td>63220</td>\n",
       "      <td>353808</td>\n",
       "      <td>235924</td>\n",
       "      <td>168800</td>\n",
       "      <td>157170</td>\n",
       "      <td>99228</td>\n",
       "      <td>1577</td>\n",
       "      <td>...</td>\n",
       "      <td>2.646531e+10</td>\n",
       "      <td>3.380276e+10</td>\n",
       "      <td>3.800171e+10</td>\n",
       "      <td>2571027</td>\n",
       "      <td>1394990</td>\n",
       "      <td>1784205</td>\n",
       "      <td>2117802</td>\n",
       "      <td>712</td>\n",
       "      <td>50.2</td>\n",
       "      <td>2.104134</td>\n",
       "    </tr>\n",
       "    <tr>\n",
       "      <th>4</th>\n",
       "      <td>79702</td>\n",
       "      <td>48450</td>\n",
       "      <td>31256</td>\n",
       "      <td>3792</td>\n",
       "      <td>32157</td>\n",
       "      <td>16778</td>\n",
       "      <td>13658</td>\n",
       "      <td>10164</td>\n",
       "      <td>3155</td>\n",
       "      <td>578</td>\n",
       "      <td>...</td>\n",
       "      <td>1.056871e+09</td>\n",
       "      <td>2.203635e+09</td>\n",
       "      <td>1.687361e+09</td>\n",
       "      <td>264219</td>\n",
       "      <td>81132</td>\n",
       "      <td>186809</td>\n",
       "      <td>141214</td>\n",
       "      <td>110</td>\n",
       "      <td>50.2</td>\n",
       "      <td>2.104134</td>\n",
       "    </tr>\n",
       "  </tbody>\n",
       "</table>\n",
       "<p>5 rows × 70 columns</p>\n",
       "</div>"
      ],
      "text/plain": [
       "        X1      X2      X3     X4      X5      X6      X7      X8     X9  \\\n",
       "0   173660   96866   76793   6356   52613   39480   32053   28652  14507   \n",
       "1   209238  107003  102237  11228   45589   47885   44694   40624  19212   \n",
       "2   478882  243693  235189  24111   83630  112851  109472   97958  50859   \n",
       "3  1078154  556415  521736  63220  353808  235924  168800  157170  99228   \n",
       "4    79702   48450   31256   3792   32157   16778   13658   10164   3155   \n",
       "\n",
       "    X10  ...           X61           X62           X63      X64      X65  \\\n",
       "0  1314  ...  1.261880e+09  2.020032e+09  1.600597e+09   141199    67904   \n",
       "1  2514  ...  6.259459e+08  9.079470e+08  6.824956e+08    60820    29820   \n",
       "2  3743  ...  1.855414e+09  3.330348e+09  3.451869e+09   285521   107030   \n",
       "3  1577  ...  2.646531e+10  3.380276e+10  3.800171e+10  2571027  1394990   \n",
       "4   578  ...  1.056871e+09  2.203635e+09  1.687361e+09   264219    81132   \n",
       "\n",
       "       X66      X67  X68   X69         Y  \n",
       "0   118723    84751  110  50.2  2.104134  \n",
       "1    50400    31521   63  50.2  2.104134  \n",
       "2   215844   161208  219  50.2  2.104134  \n",
       "3  1784205  2117802  712  50.2  2.104134  \n",
       "4   186809   141214  110  50.2  2.104134  \n",
       "\n",
       "[5 rows x 70 columns]"
      ]
     },
     "execution_count": 6,
     "metadata": {},
     "output_type": "execute_result"
    }
   ],
   "source": [
    "vacancy_df.head()"
   ]
  },
  {
   "cell_type": "code",
   "execution_count": 7,
   "metadata": {},
   "outputs": [],
   "source": [
    "from scipy.stats import skew"
   ]
  },
  {
   "cell_type": "code",
   "execution_count": 8,
   "metadata": {},
   "outputs": [],
   "source": [
    "# object가 아닌 숫자형 피쳐의 컬럼 index 객체 추출.\n",
    "features_index = vacancy_df.dtypes[vacancy_df.dtypes != 'object'].index\n",
    "\n",
    "# house_df에 컬럼 index를 [ ]로 입력하면 해당하는 컬럼 데이터 셋 반환. \n",
    "# apply lambda로 skew( )호출 \n",
    "skew_features = vacancy_df[features_index].apply(lambda x : skew(x))\n",
    "\n",
    "# skew 정도가 1 이상인 컬럼들만 추출.\n",
    "skew_features_top = skew_features[skew_features > 1]"
   ]
  },
  {
   "cell_type": "code",
   "execution_count": 9,
   "metadata": {},
   "outputs": [],
   "source": [
    "vacancy_df[skew_features_top.index] = np.log1p(vacancy_df[skew_features_top.index])"
   ]
  },
  {
   "cell_type": "code",
   "execution_count": 10,
   "metadata": {},
   "outputs": [],
   "source": [
    "# skew_features_top.index[:-1]"
   ]
  },
  {
   "cell_type": "code",
   "execution_count": 11,
   "metadata": {},
   "outputs": [
    {
     "data": {
      "text/plain": [
       "Index(['X1', 'X2', 'X3', 'X4', 'X5', 'X6', 'X7', 'X8', 'X9', 'X10', 'X11',\n",
       "       'X12', 'X13', 'X14', 'X15', 'X16', 'X17', 'X18', 'X19', 'X20', 'X21',\n",
       "       'X22', 'X23', 'X24', 'X25', 'X26', 'X27', 'X28', 'X29', 'X30', 'X31',\n",
       "       'X32', 'X33', 'X34', 'X35', 'X36', 'X37', 'X38', 'X39', 'X40', 'X41',\n",
       "       'X42', 'X43', 'X44', 'X45', 'X46', 'X47', 'X48', 'X49', 'X50', 'X51',\n",
       "       'X52', 'X53', 'X57', 'X58', 'X59', 'X60', 'X61', 'X62', 'X63', 'X64',\n",
       "       'X65', 'X66', 'X67', 'X68', 'X69'],\n",
       "      dtype='object')"
      ]
     },
     "execution_count": 11,
     "metadata": {},
     "output_type": "execute_result"
    }
   ],
   "source": [
    "skew_features_top.index"
   ]
  },
  {
   "cell_type": "code",
   "execution_count": 12,
   "metadata": {},
   "outputs": [],
   "source": [
    "vacancy_df = pd.get_dummies(vacancy_df)"
   ]
  },
  {
   "cell_type": "code",
   "execution_count": 13,
   "metadata": {},
   "outputs": [
    {
     "data": {
      "text/html": [
       "<div>\n",
       "<style scoped>\n",
       "    .dataframe tbody tr th:only-of-type {\n",
       "        vertical-align: middle;\n",
       "    }\n",
       "\n",
       "    .dataframe tbody tr th {\n",
       "        vertical-align: top;\n",
       "    }\n",
       "\n",
       "    .dataframe thead th {\n",
       "        text-align: right;\n",
       "    }\n",
       "</style>\n",
       "<table border=\"1\" class=\"dataframe\">\n",
       "  <thead>\n",
       "    <tr style=\"text-align: right;\">\n",
       "      <th></th>\n",
       "      <th>X1</th>\n",
       "      <th>X2</th>\n",
       "      <th>X3</th>\n",
       "      <th>X4</th>\n",
       "      <th>X5</th>\n",
       "      <th>X6</th>\n",
       "      <th>X7</th>\n",
       "      <th>X8</th>\n",
       "      <th>X9</th>\n",
       "      <th>X10</th>\n",
       "      <th>...</th>\n",
       "      <th>X65</th>\n",
       "      <th>X66</th>\n",
       "      <th>X67</th>\n",
       "      <th>X68</th>\n",
       "      <th>X69</th>\n",
       "      <th>Y</th>\n",
       "      <th>X56_HH</th>\n",
       "      <th>X56_HL</th>\n",
       "      <th>X56_LH</th>\n",
       "      <th>X56_LL</th>\n",
       "    </tr>\n",
       "  </thead>\n",
       "  <tbody>\n",
       "    <tr>\n",
       "      <th>0</th>\n",
       "      <td>12.064860</td>\n",
       "      <td>11.481094</td>\n",
       "      <td>11.248882</td>\n",
       "      <td>8.757312</td>\n",
       "      <td>10.870738</td>\n",
       "      <td>10.583575</td>\n",
       "      <td>10.375177</td>\n",
       "      <td>10.263013</td>\n",
       "      <td>9.582456</td>\n",
       "      <td>7.181592</td>\n",
       "      <td>...</td>\n",
       "      <td>11.125865</td>\n",
       "      <td>11.684557</td>\n",
       "      <td>11.347485</td>\n",
       "      <td>4.709530</td>\n",
       "      <td>3.93574</td>\n",
       "      <td>2.104134</td>\n",
       "      <td>0</td>\n",
       "      <td>0</td>\n",
       "      <td>0</td>\n",
       "      <td>1</td>\n",
       "    </tr>\n",
       "    <tr>\n",
       "      <th>1</th>\n",
       "      <td>12.251232</td>\n",
       "      <td>11.580621</td>\n",
       "      <td>11.535059</td>\n",
       "      <td>9.326255</td>\n",
       "      <td>10.727444</td>\n",
       "      <td>10.776578</td>\n",
       "      <td>10.707617</td>\n",
       "      <td>10.612139</td>\n",
       "      <td>9.863342</td>\n",
       "      <td>7.830028</td>\n",
       "      <td>...</td>\n",
       "      <td>10.302968</td>\n",
       "      <td>10.827766</td>\n",
       "      <td>10.358441</td>\n",
       "      <td>4.158883</td>\n",
       "      <td>3.93574</td>\n",
       "      <td>2.104134</td>\n",
       "      <td>1</td>\n",
       "      <td>0</td>\n",
       "      <td>0</td>\n",
       "      <td>0</td>\n",
       "    </tr>\n",
       "    <tr>\n",
       "      <th>2</th>\n",
       "      <td>13.079212</td>\n",
       "      <td>12.403669</td>\n",
       "      <td>12.368149</td>\n",
       "      <td>10.090465</td>\n",
       "      <td>11.334170</td>\n",
       "      <td>11.633833</td>\n",
       "      <td>11.603433</td>\n",
       "      <td>11.492304</td>\n",
       "      <td>10.836832</td>\n",
       "      <td>8.227910</td>\n",
       "      <td>...</td>\n",
       "      <td>11.580874</td>\n",
       "      <td>12.282316</td>\n",
       "      <td>11.990457</td>\n",
       "      <td>5.393628</td>\n",
       "      <td>3.93574</td>\n",
       "      <td>2.104134</td>\n",
       "      <td>0</td>\n",
       "      <td>0</td>\n",
       "      <td>0</td>\n",
       "      <td>1</td>\n",
       "    </tr>\n",
       "    <tr>\n",
       "      <th>3</th>\n",
       "      <td>13.890762</td>\n",
       "      <td>13.229271</td>\n",
       "      <td>13.164919</td>\n",
       "      <td>11.054392</td>\n",
       "      <td>12.776512</td>\n",
       "      <td>12.371269</td>\n",
       "      <td>12.036476</td>\n",
       "      <td>11.965090</td>\n",
       "      <td>11.505186</td>\n",
       "      <td>7.363914</td>\n",
       "      <td>...</td>\n",
       "      <td>14.148399</td>\n",
       "      <td>14.394484</td>\n",
       "      <td>14.565890</td>\n",
       "      <td>6.569481</td>\n",
       "      <td>3.93574</td>\n",
       "      <td>2.104134</td>\n",
       "      <td>0</td>\n",
       "      <td>0</td>\n",
       "      <td>1</td>\n",
       "      <td>0</td>\n",
       "    </tr>\n",
       "    <tr>\n",
       "      <th>4</th>\n",
       "      <td>11.286063</td>\n",
       "      <td>10.788308</td>\n",
       "      <td>10.349999</td>\n",
       "      <td>8.240913</td>\n",
       "      <td>10.378417</td>\n",
       "      <td>9.727883</td>\n",
       "      <td>9.522154</td>\n",
       "      <td>9.226706</td>\n",
       "      <td>8.057061</td>\n",
       "      <td>6.361302</td>\n",
       "      <td>...</td>\n",
       "      <td>11.303845</td>\n",
       "      <td>12.137847</td>\n",
       "      <td>11.858039</td>\n",
       "      <td>4.709530</td>\n",
       "      <td>3.93574</td>\n",
       "      <td>2.104134</td>\n",
       "      <td>0</td>\n",
       "      <td>0</td>\n",
       "      <td>1</td>\n",
       "      <td>0</td>\n",
       "    </tr>\n",
       "  </tbody>\n",
       "</table>\n",
       "<p>5 rows × 73 columns</p>\n",
       "</div>"
      ],
      "text/plain": [
       "          X1         X2         X3         X4         X5         X6  \\\n",
       "0  12.064860  11.481094  11.248882   8.757312  10.870738  10.583575   \n",
       "1  12.251232  11.580621  11.535059   9.326255  10.727444  10.776578   \n",
       "2  13.079212  12.403669  12.368149  10.090465  11.334170  11.633833   \n",
       "3  13.890762  13.229271  13.164919  11.054392  12.776512  12.371269   \n",
       "4  11.286063  10.788308  10.349999   8.240913  10.378417   9.727883   \n",
       "\n",
       "          X7         X8         X9       X10  ...        X65        X66  \\\n",
       "0  10.375177  10.263013   9.582456  7.181592  ...  11.125865  11.684557   \n",
       "1  10.707617  10.612139   9.863342  7.830028  ...  10.302968  10.827766   \n",
       "2  11.603433  11.492304  10.836832  8.227910  ...  11.580874  12.282316   \n",
       "3  12.036476  11.965090  11.505186  7.363914  ...  14.148399  14.394484   \n",
       "4   9.522154   9.226706   8.057061  6.361302  ...  11.303845  12.137847   \n",
       "\n",
       "         X67       X68      X69         Y  X56_HH  X56_HL  X56_LH  X56_LL  \n",
       "0  11.347485  4.709530  3.93574  2.104134       0       0       0       1  \n",
       "1  10.358441  4.158883  3.93574  2.104134       1       0       0       0  \n",
       "2  11.990457  5.393628  3.93574  2.104134       0       0       0       1  \n",
       "3  14.565890  6.569481  3.93574  2.104134       0       0       1       0  \n",
       "4  11.858039  4.709530  3.93574  2.104134       0       0       1       0  \n",
       "\n",
       "[5 rows x 73 columns]"
      ]
     },
     "execution_count": 13,
     "metadata": {},
     "output_type": "execute_result"
    }
   ],
   "source": [
    "vacancy_df.head()"
   ]
  },
  {
   "cell_type": "code",
   "execution_count": 14,
   "metadata": {},
   "outputs": [
    {
     "data": {
      "text/plain": [
       "(5641, 73)"
      ]
     },
     "execution_count": 14,
     "metadata": {},
     "output_type": "execute_result"
    }
   ],
   "source": [
    "vacancy_df.shape"
   ]
  },
  {
   "cell_type": "code",
   "execution_count": 15,
   "metadata": {},
   "outputs": [],
   "source": [
    "from sklearn.model_selection import GridSearchCV\n",
    "from sklearn.linear_model import LinearRegression, Ridge, Lasso\n",
    "from sklearn.model_selection import train_test_split\n",
    "from sklearn.metrics import mean_squared_error\n",
    "from sklearn.metrics import mean_absolute_error\n",
    "from sklearn.model_selection import KFold\n",
    "from xgboost import XGBRegressor\n",
    "from lightgbm import LGBMRegressor"
   ]
  },
  {
   "cell_type": "code",
   "execution_count": 16,
   "metadata": {},
   "outputs": [],
   "source": [
    "def get_stacking_base_datasets(model, X_train_n, y_train_n, X_test_n, n_folds ):\n",
    "    # 지정된 n_folds값으로 KFold 생성.\n",
    "    kf = KFold(n_splits=n_folds, shuffle=False, random_state=0)\n",
    "    #추후에 메타 모델이 사용할 학습 데이터 반환을 위한 넘파이 배열 초기화 \n",
    "    train_fold_pred = np.zeros((X_train_n.shape[0] ,1 ))\n",
    "    test_pred = np.zeros((X_test_n.shape[0],n_folds))\n",
    "    print(model.__class__.__name__ , ' model 시작 ')\n",
    "    \n",
    "    for folder_counter , (train_index, valid_index) in enumerate(kf.split(X_train_n)):\n",
    "        #입력된 학습 데이터에서 기반 모델이 학습/예측할 폴드 데이터 셋 추출 \n",
    "        print('\\t 폴드 세트: ',folder_counter,' 시작 ')\n",
    "        X_tr = X_train_n[train_index] \n",
    "        y_tr = y_train_n[train_index] \n",
    "        X_te = X_train_n[valid_index]  \n",
    "        \n",
    "        #폴드 세트 내부에서 다시 만들어진 학습 데이터로 기반 모델의 학습 수행.\n",
    "        model.fit(X_tr , y_tr)       \n",
    "        #폴드 세트 내부에서 다시 만들어진 검증 데이터로 기반 모델 예측 후 데이터 저장.\n",
    "        train_fold_pred[valid_index, :] = model.predict(X_te).reshape(-1,1)\n",
    "        #입력된 원본 테스트 데이터를 폴드 세트내 학습된 기반 모델에서 예측 후 데이터 저장. \n",
    "        test_pred[:, folder_counter] = model.predict(X_test_n)\n",
    "            \n",
    "    # 폴드 세트 내에서 원본 테스트 데이터를 예측한 데이터를 평균하여 테스트 데이터로 생성 \n",
    "    test_pred_mean = np.mean(test_pred, axis=1).reshape(-1,1)    \n",
    "    \n",
    "    #train_fold_pred는 최종 메타 모델이 사용하는 학습 데이터, test_pred_mean은 테스트 데이터\n",
    "    return train_fold_pred , test_pred_mean"
   ]
  },
  {
   "cell_type": "code",
   "execution_count": 17,
   "metadata": {},
   "outputs": [],
   "source": [
    "y_target = vacancy_df['Y']\n",
    "X_features = vacancy_df.drop('Y',axis= 1, inplace=False)\n",
    "\n",
    "X_train, X_test, y_train, y_test = train_test_split(X_features, y_target, \n",
    "                                                    test_size= 0.2, random_state= 0)"
   ]
  },
  {
   "cell_type": "code",
   "execution_count": 18,
   "metadata": {},
   "outputs": [
    {
     "data": {
      "text/plain": [
       "((4512, 72), (4512,))"
      ]
     },
     "execution_count": 18,
     "metadata": {},
     "output_type": "execute_result"
    }
   ],
   "source": [
    "X_train.shape, y_train.shape"
   ]
  },
  {
   "cell_type": "code",
   "execution_count": 19,
   "metadata": {},
   "outputs": [],
   "source": [
    "# get_stacking_base_datasets( )은 넘파이 ndarray를 인자로 사용하므로 DataFrame을 넘파이로 변환. \n",
    "X_train_n = X_train.values\n",
    "X_test_n = X_test.values\n",
    "y_train_n = y_train.values"
   ]
  },
  {
   "cell_type": "code",
   "execution_count": 20,
   "metadata": {},
   "outputs": [],
   "source": [
    "def get_best_params(model, params):\n",
    "    grid_model = GridSearchCV(model, param_grid=params, \n",
    "                              scoring='neg_mean_squared_error', cv=5)\n",
    "    grid_model.fit(X_features, y_target)\n",
    "    rmse = np.sqrt(-1* grid_model.best_score_)\n",
    "    print('{0} 5 CV 시 최적 평균 RMSE 값: {1}, 최적 alpha:{2}'.format(model.__class__.__name__,\n",
    "                                        np.round(rmse, 4), grid_model.best_params_))\n",
    "    return grid_model.best_estimator_"
   ]
  },
  {
   "cell_type": "code",
   "execution_count": 21,
   "metadata": {},
   "outputs": [
    {
     "name": "stdout",
     "output_type": "stream",
     "text": [
      "Ridge 5 CV 시 최적 평균 RMSE 값: 0.5305, 최적 alpha:{'alpha': 5}\n"
     ]
    },
    {
     "name": "stderr",
     "output_type": "stream",
     "text": [
      "C:\\ProgramData\\Anaconda3\\lib\\site-packages\\sklearn\\linear_model\\coordinate_descent.py:475: ConvergenceWarning: Objective did not converge. You might want to increase the number of iterations. Duality gap: 49.889215132583445, tolerance: 0.13738801820680951\n",
      "  positive)\n",
      "C:\\ProgramData\\Anaconda3\\lib\\site-packages\\sklearn\\linear_model\\coordinate_descent.py:475: ConvergenceWarning: Objective did not converge. You might want to increase the number of iterations. Duality gap: 61.54100839307489, tolerance: 0.13706293372992379\n",
      "  positive)\n",
      "C:\\ProgramData\\Anaconda3\\lib\\site-packages\\sklearn\\linear_model\\coordinate_descent.py:475: ConvergenceWarning: Objective did not converge. You might want to increase the number of iterations. Duality gap: 52.33846302564859, tolerance: 0.13804670617984663\n",
      "  positive)\n",
      "C:\\ProgramData\\Anaconda3\\lib\\site-packages\\sklearn\\linear_model\\coordinate_descent.py:475: ConvergenceWarning: Objective did not converge. You might want to increase the number of iterations. Duality gap: 129.59631270658053, tolerance: 0.1350031804087551\n",
      "  positive)\n",
      "C:\\ProgramData\\Anaconda3\\lib\\site-packages\\sklearn\\linear_model\\coordinate_descent.py:475: ConvergenceWarning: Objective did not converge. You might want to increase the number of iterations. Duality gap: 163.43628892672632, tolerance: 0.1435846412183295\n",
      "  positive)\n"
     ]
    },
    {
     "name": "stdout",
     "output_type": "stream",
     "text": [
      "Lasso 5 CV 시 최적 평균 RMSE 값: 0.531, 최적 alpha:{'alpha': 0.005}\n"
     ]
    }
   ],
   "source": [
    "ridge_reg = Ridge()\n",
    "lasso_reg = Lasso()\n",
    "\n",
    "ridge_params = { 'alpha':[0.05, 0.1, 1, 5, 8, 10, 12, 15, 20] }\n",
    "lasso_params = { 'alpha':[0.001, 0.005, 0.008, 0.05, 0.03, 0.1, 0.5, 1,5, 10] }\n",
    "best_rige = get_best_params(ridge_reg, ridge_params)\n",
    "best_lasso = get_best_params(lasso_reg, lasso_params)"
   ]
  },
  {
   "cell_type": "code",
   "execution_count": 22,
   "metadata": {},
   "outputs": [],
   "source": [
    "ridge_reg = Ridge(alpha= 1)\n",
    "lasso_reg = Lasso(alpha= 0.005)"
   ]
  },
  {
   "cell_type": "code",
   "execution_count": 23,
   "metadata": {},
   "outputs": [],
   "source": [
    "xgb_reg = XGBRegressor(n_estimators=1000, learning_rate=0.05, \n",
    "                       colsample_bytree=0.5, subsample=0.8)\n",
    "lgbm_reg = LGBMRegressor(n_estimators=1000, learning_rate=0.05, \n",
    "                         num_leaves=4, subsample=0.6, \n",
    "                         colsample_bytree=0.4, reg_lambda=10, \n",
    "                         n_jobs=-1)"
   ]
  },
  {
   "cell_type": "code",
   "execution_count": 24,
   "metadata": {},
   "outputs": [
    {
     "name": "stdout",
     "output_type": "stream",
     "text": [
      "Ridge  model 시작 \n",
      "\t 폴드 세트:  0  시작 \n",
      "\t 폴드 세트:  1  시작 \n",
      "\t 폴드 세트:  2  시작 \n",
      "\t 폴드 세트:  3  시작 \n",
      "\t 폴드 세트:  4  시작 \n",
      "Lasso  model 시작 \n",
      "\t 폴드 세트:  0  시작 \n",
      "\t 폴드 세트:  1  시작 \n",
      "\t 폴드 세트:  2  시작 \n",
      "\t 폴드 세트:  3  시작 \n",
      "\t 폴드 세트:  4  시작 \n",
      "XGBRegressor  model 시작 \n",
      "\t 폴드 세트:  0  시작 \n",
      "[16:23:38] WARNING: C:/Jenkins/workspace/xgboost-win64_release_0.90/src/objective/regression_obj.cu:152: reg:linear is now deprecated in favor of reg:squarederror.\n",
      "\t 폴드 세트:  1  시작 \n",
      "[16:23:48] WARNING: C:/Jenkins/workspace/xgboost-win64_release_0.90/src/objective/regression_obj.cu:152: reg:linear is now deprecated in favor of reg:squarederror.\n",
      "\t 폴드 세트:  2  시작 \n",
      "[16:23:57] WARNING: C:/Jenkins/workspace/xgboost-win64_release_0.90/src/objective/regression_obj.cu:152: reg:linear is now deprecated in favor of reg:squarederror.\n",
      "\t 폴드 세트:  3  시작 \n",
      "[16:24:06] WARNING: C:/Jenkins/workspace/xgboost-win64_release_0.90/src/objective/regression_obj.cu:152: reg:linear is now deprecated in favor of reg:squarederror.\n",
      "\t 폴드 세트:  4  시작 \n",
      "[16:24:16] WARNING: C:/Jenkins/workspace/xgboost-win64_release_0.90/src/objective/regression_obj.cu:152: reg:linear is now deprecated in favor of reg:squarederror.\n",
      "LGBMRegressor  model 시작 \n",
      "\t 폴드 세트:  0  시작 \n",
      "\t 폴드 세트:  1  시작 \n",
      "\t 폴드 세트:  2  시작 \n",
      "\t 폴드 세트:  3  시작 \n",
      "\t 폴드 세트:  4  시작 \n"
     ]
    }
   ],
   "source": [
    "ridge_train, ridge_test = get_stacking_base_datasets(ridge_reg, X_train_n, y_train_n, X_test_n, 5)\n",
    "lasso_train, lasso_test = get_stacking_base_datasets(lasso_reg, X_train_n, y_train_n, X_test_n, 5)\n",
    "xgb_train, xgb_test = get_stacking_base_datasets(xgb_reg, X_train_n, y_train_n, X_test_n, 5)  \n",
    "lgbm_train, lgbm_test = get_stacking_base_datasets(lgbm_reg, X_train_n, y_train_n, X_test_n, 5)"
   ]
  },
  {
   "cell_type": "code",
   "execution_count": 25,
   "metadata": {},
   "outputs": [],
   "source": [
    "# 개별 모델이 반환한 학습 및 테스트용 데이터 세트를 Stacking 형태로 결합.  \n",
    "Stack_final_X_train = np.concatenate((ridge_train, lasso_train, \n",
    "                                      xgb_train, lgbm_train), axis=1)\n",
    "Stack_final_X_test = np.concatenate((ridge_test, lasso_test, \n",
    "                                     xgb_test, lgbm_test), axis=1)"
   ]
  },
  {
   "cell_type": "code",
   "execution_count": 26,
   "metadata": {},
   "outputs": [
    {
     "data": {
      "text/plain": [
       "(4512, 4)"
      ]
     },
     "execution_count": 26,
     "metadata": {},
     "output_type": "execute_result"
    }
   ],
   "source": [
    "Stack_final_X_train.shape"
   ]
  },
  {
   "cell_type": "code",
   "execution_count": 27,
   "metadata": {},
   "outputs": [
    {
     "name": "stdout",
     "output_type": "stream",
     "text": [
      "스태킹 회귀 모델의 최종 RMSE 값은: 0.22088187973365878\n"
     ]
    }
   ],
   "source": [
    "# 최종 메타 모델은 라쏘 모델을 적용. \n",
    "meta_model_lasso = Lasso(alpha=0.0005)\n",
    "\n",
    "#기반 모델의 예측값을 기반으로 새롭게 만들어진 학습 및 테스트용 데이터로 예측하고 RMSE 측정.\n",
    "meta_model_lasso.fit(Stack_final_X_train, y_train)\n",
    "final = meta_model_lasso.predict(Stack_final_X_test)\n",
    "mse = mean_squared_error(y_test , final)\n",
    "rmse = np.sqrt(mse)\n",
    "print('스태킹 회귀 모델의 최종 RMSE 값은:', rmse)"
   ]
  },
  {
   "cell_type": "code",
   "execution_count": 28,
   "metadata": {},
   "outputs": [
    {
     "data": {
      "text/plain": [
       "0.8332412602340415"
      ]
     },
     "execution_count": 28,
     "metadata": {},
     "output_type": "execute_result"
    }
   ],
   "source": [
    "meta_model_lasso.score(Stack_final_X_train, y_train)"
   ]
  },
  {
   "cell_type": "code",
   "execution_count": 29,
   "metadata": {},
   "outputs": [
    {
     "name": "stdout",
     "output_type": "stream",
     "text": [
      "SCORE : 0.18003796657512094\n",
      "RMSE : 0.4885086283461872\n"
     ]
    }
   ],
   "source": [
    "ridge_pred = ridge_reg.predict(X_test)\n",
    "print('SCORE :', ridge_reg.score(X_test, y_test))\n",
    "mse_ridge = mean_squared_error(y_test, ridge_pred)\n",
    "rmse_ridge = np.sqrt(mse_ridge)\n",
    "print('RMSE :', rmse_ridge)"
   ]
  },
  {
   "cell_type": "code",
   "execution_count": 30,
   "metadata": {},
   "outputs": [
    {
     "name": "stdout",
     "output_type": "stream",
     "text": [
      "SCORE : 0.11364087197076246\n",
      "RMSE : 0.5079023564808741\n"
     ]
    }
   ],
   "source": [
    "lasso_pred = lasso_reg.predict(X_test)\n",
    "print('SCORE :', lasso_reg.score(X_test, y_test))\n",
    "mse_lasso = mean_squared_error(y_test, lasso_pred)\n",
    "rmse_lasso = np.sqrt(mse_lasso)\n",
    "print('RMSE :', rmse_lasso)"
   ]
  },
  {
   "cell_type": "code",
   "execution_count": 31,
   "metadata": {},
   "outputs": [],
   "source": [
    "# xgb_reg.fit(X_train, y_train)"
   ]
  },
  {
   "cell_type": "code",
   "execution_count": 32,
   "metadata": {},
   "outputs": [],
   "source": [
    "#xgb_pred = lgbm_reg.predict(X_test)"
   ]
  },
  {
   "cell_type": "code",
   "execution_count": 33,
   "metadata": {},
   "outputs": [
    {
     "name": "stdout",
     "output_type": "stream",
     "text": [
      "SCORE : 0.7145875492772014\n",
      "RMSE : 0.2882118441864946\n"
     ]
    }
   ],
   "source": [
    "lgbm_pred = lgbm_reg.predict(X_test)\n",
    "print('SCORE :', lgbm_reg.score(X_test, y_test))\n",
    "mse_lgbm = mean_squared_error(y_test, lgbm_pred)\n",
    "rmse_lgbm = np.sqrt(mse_lgbm)\n",
    "print('RMSE :', rmse_lgbm)"
   ]
  },
  {
   "cell_type": "code",
   "execution_count": 34,
   "metadata": {},
   "outputs": [
    {
     "name": "stdout",
     "output_type": "stream",
     "text": [
      "SCORE : 0.7882771682789177\n",
      "RMSE : 0.2482328273960665\n"
     ]
    }
   ],
   "source": [
    "xgb_pred = xgb_reg.predict(X_test.values)\n",
    "print('SCORE :', xgb_reg.score(X_test.values, y_test))\n",
    "mse_xgb = mean_squared_error(y_test, xgb_pred)\n",
    "rmse_xgb = np.sqrt(mse_xgb)\n",
    "print('RMSE :', rmse_xgb)\n",
    "\n",
    "# SCORE : 0.8889663977998432\n",
    "# RMSE : 0.14266181115946364"
   ]
  },
  {
   "cell_type": "code",
   "execution_count": 35,
   "metadata": {},
   "outputs": [
    {
     "data": {
      "text/html": [
       "<div>\n",
       "<style scoped>\n",
       "    .dataframe tbody tr th:only-of-type {\n",
       "        vertical-align: middle;\n",
       "    }\n",
       "\n",
       "    .dataframe tbody tr th {\n",
       "        vertical-align: top;\n",
       "    }\n",
       "\n",
       "    .dataframe thead th {\n",
       "        text-align: right;\n",
       "    }\n",
       "</style>\n",
       "<table border=\"1\" class=\"dataframe\">\n",
       "  <thead>\n",
       "    <tr style=\"text-align: right;\">\n",
       "      <th></th>\n",
       "      <th>Y_pred</th>\n",
       "      <th>Y_real</th>\n",
       "      <th>Mean</th>\n",
       "    </tr>\n",
       "  </thead>\n",
       "  <tbody>\n",
       "    <tr>\n",
       "      <th>count</th>\n",
       "      <td>1129.000000</td>\n",
       "      <td>1129.000000</td>\n",
       "      <td>1129.000000</td>\n",
       "    </tr>\n",
       "    <tr>\n",
       "      <th>mean</th>\n",
       "      <td>8.087963</td>\n",
       "      <td>8.256687</td>\n",
       "      <td>1.264818</td>\n",
       "    </tr>\n",
       "    <tr>\n",
       "      <th>std</th>\n",
       "      <td>4.108196</td>\n",
       "      <td>4.487980</td>\n",
       "      <td>1.253428</td>\n",
       "    </tr>\n",
       "    <tr>\n",
       "      <th>min</th>\n",
       "      <td>0.270131</td>\n",
       "      <td>0.200000</td>\n",
       "      <td>0.000778</td>\n",
       "    </tr>\n",
       "    <tr>\n",
       "      <th>25%</th>\n",
       "      <td>5.178539</td>\n",
       "      <td>5.100000</td>\n",
       "      <td>0.367738</td>\n",
       "    </tr>\n",
       "    <tr>\n",
       "      <th>50%</th>\n",
       "      <td>7.504804</td>\n",
       "      <td>7.600000</td>\n",
       "      <td>0.879356</td>\n",
       "    </tr>\n",
       "    <tr>\n",
       "      <th>75%</th>\n",
       "      <td>10.188653</td>\n",
       "      <td>11.000000</td>\n",
       "      <td>1.751024</td>\n",
       "    </tr>\n",
       "    <tr>\n",
       "      <th>max</th>\n",
       "      <td>21.686355</td>\n",
       "      <td>22.400000</td>\n",
       "      <td>9.877888</td>\n",
       "    </tr>\n",
       "  </tbody>\n",
       "</table>\n",
       "</div>"
      ],
      "text/plain": [
       "            Y_pred       Y_real         Mean\n",
       "count  1129.000000  1129.000000  1129.000000\n",
       "mean      8.087963     8.256687     1.264818\n",
       "std       4.108196     4.487980     1.253428\n",
       "min       0.270131     0.200000     0.000778\n",
       "25%       5.178539     5.100000     0.367738\n",
       "50%       7.504804     7.600000     0.879356\n",
       "75%      10.188653    11.000000     1.751024\n",
       "max      21.686355    22.400000     9.877888"
      ]
     },
     "execution_count": 35,
     "metadata": {},
     "output_type": "execute_result"
    }
   ],
   "source": [
    "f = pd.DataFrame(final)\n",
    "ff = np.expm1(f)\n",
    "y = pd.DataFrame(y_test)\n",
    "yy = np.expm1(y)\n",
    "\n",
    "result = pd.DataFrame()\n",
    "result['Y_pred'] = ff.values.flatten()\n",
    "result['Y_real'] = yy.values.flatten()\n",
    "result['Mean'] = result['Y_real'] - result['Y_pred']\n",
    "result['Mean'] = result['Mean'].abs()\n",
    "result.describe()"
   ]
  }
 ],
 "metadata": {
  "kernelspec": {
   "display_name": "Python 3",
   "language": "python",
   "name": "python3"
  },
  "language_info": {
   "codemirror_mode": {
    "name": "ipython",
    "version": 3
   },
   "file_extension": ".py",
   "mimetype": "text/x-python",
   "name": "python",
   "nbconvert_exporter": "python",
   "pygments_lexer": "ipython3",
   "version": "3.7.3"
  }
 },
 "nbformat": 4,
 "nbformat_minor": 2
}
