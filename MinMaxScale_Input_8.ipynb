{
 "cells": [
  {
   "cell_type": "code",
   "execution_count": 1,
   "metadata": {},
   "outputs": [
    {
     "name": "stderr",
     "output_type": "stream",
     "text": [
      "Using TensorFlow backend.\n"
     ]
    }
   ],
   "source": [
    "import numpy as np\n",
    "import pandas as pd\n",
    "\n",
    "from sklearn.preprocessing import StandardScaler\n",
    "from sklearn.preprocessing import MinMaxScaler\n",
    "from sklearn.model_selection import train_test_split\n",
    "from sklearn import preprocessing\n",
    "\n",
    "from keras.models import Sequential\n",
    "from keras.layers import Dense\n",
    "from keras.callbacks import EarlyStopping\n",
    "\n",
    "import tensorflow as tf\n",
    "\n",
    "seed = 777\n",
    "np.random.seed(seed)\n",
    "tf.set_random_seed(seed)"
   ]
  },
  {
   "cell_type": "code",
   "execution_count": 2,
   "metadata": {},
   "outputs": [],
   "source": [
    "df = pd.read_csv('e:/Train.csv', encoding= 'ansi')"
   ]
  },
  {
   "cell_type": "code",
   "execution_count": 3,
   "metadata": {},
   "outputs": [
    {
     "data": {
      "text/html": [
       "<div>\n",
       "<style scoped>\n",
       "    .dataframe tbody tr th:only-of-type {\n",
       "        vertical-align: middle;\n",
       "    }\n",
       "\n",
       "    .dataframe tbody tr th {\n",
       "        vertical-align: top;\n",
       "    }\n",
       "\n",
       "    .dataframe thead th {\n",
       "        text-align: right;\n",
       "    }\n",
       "</style>\n",
       "<table border=\"1\" class=\"dataframe\">\n",
       "  <thead>\n",
       "    <tr style=\"text-align: right;\">\n",
       "      <th></th>\n",
       "      <th>총_유동인구_수</th>\n",
       "      <th>남성_유동인구_수</th>\n",
       "      <th>여성_유동인구_수</th>\n",
       "      <th>연령대_10_유동인구_수</th>\n",
       "      <th>연령대_20_유동인구_수</th>\n",
       "      <th>연령대_30_유동인구_수</th>\n",
       "      <th>연령대_40_유동인구_수</th>\n",
       "      <th>연령대_50_유동인구_수</th>\n",
       "      <th>연령대_60_이상_유동인구_수</th>\n",
       "      <th>총_상주인구_수</th>\n",
       "      <th>...</th>\n",
       "      <th>주중_매출_금액</th>\n",
       "      <th>주말_매출_금액</th>\n",
       "      <th>주중_매출_건수</th>\n",
       "      <th>주말_매출_건수</th>\n",
       "      <th>남성_매출_금액</th>\n",
       "      <th>남성_매출_건수</th>\n",
       "      <th>여성_매출_금액</th>\n",
       "      <th>여성_매출_건수</th>\n",
       "      <th>점포수</th>\n",
       "      <th>임대료</th>\n",
       "    </tr>\n",
       "  </thead>\n",
       "  <tbody>\n",
       "    <tr>\n",
       "      <th>0</th>\n",
       "      <td>1078154</td>\n",
       "      <td>556415</td>\n",
       "      <td>521736</td>\n",
       "      <td>63220</td>\n",
       "      <td>353808</td>\n",
       "      <td>235924</td>\n",
       "      <td>168800</td>\n",
       "      <td>157170</td>\n",
       "      <td>99228</td>\n",
       "      <td>1577</td>\n",
       "      <td>...</td>\n",
       "      <td>4.821905e+10</td>\n",
       "      <td>2.646531e+10</td>\n",
       "      <td>2571027</td>\n",
       "      <td>1394990</td>\n",
       "      <td>3.380276e+10</td>\n",
       "      <td>1784205</td>\n",
       "      <td>3.800171e+10</td>\n",
       "      <td>2117802</td>\n",
       "      <td>712</td>\n",
       "      <td>50.2</td>\n",
       "    </tr>\n",
       "    <tr>\n",
       "      <th>1</th>\n",
       "      <td>335201</td>\n",
       "      <td>175040</td>\n",
       "      <td>160162</td>\n",
       "      <td>12087</td>\n",
       "      <td>114949</td>\n",
       "      <td>77450</td>\n",
       "      <td>55264</td>\n",
       "      <td>50952</td>\n",
       "      <td>24502</td>\n",
       "      <td>1457</td>\n",
       "      <td>...</td>\n",
       "      <td>4.232019e+09</td>\n",
       "      <td>1.922581e+09</td>\n",
       "      <td>327711</td>\n",
       "      <td>160862</td>\n",
       "      <td>3.102697e+09</td>\n",
       "      <td>262604</td>\n",
       "      <td>2.483960e+09</td>\n",
       "      <td>209923</td>\n",
       "      <td>164</td>\n",
       "      <td>50.2</td>\n",
       "    </tr>\n",
       "    <tr>\n",
       "      <th>2</th>\n",
       "      <td>381295</td>\n",
       "      <td>223109</td>\n",
       "      <td>158185</td>\n",
       "      <td>8583</td>\n",
       "      <td>77033</td>\n",
       "      <td>100744</td>\n",
       "      <td>91333</td>\n",
       "      <td>71406</td>\n",
       "      <td>32198</td>\n",
       "      <td>1241</td>\n",
       "      <td>...</td>\n",
       "      <td>4.643661e+09</td>\n",
       "      <td>2.334446e+09</td>\n",
       "      <td>363927</td>\n",
       "      <td>165091</td>\n",
       "      <td>4.002332e+09</td>\n",
       "      <td>327271</td>\n",
       "      <td>2.345138e+09</td>\n",
       "      <td>186702</td>\n",
       "      <td>166</td>\n",
       "      <td>50.2</td>\n",
       "    </tr>\n",
       "  </tbody>\n",
       "</table>\n",
       "<p>3 rows × 69 columns</p>\n",
       "</div>"
      ],
      "text/plain": [
       "   총_유동인구_수  남성_유동인구_수  여성_유동인구_수  연령대_10_유동인구_수  연령대_20_유동인구_수  \\\n",
       "0   1078154     556415     521736          63220         353808   \n",
       "1    335201     175040     160162          12087         114949   \n",
       "2    381295     223109     158185           8583          77033   \n",
       "\n",
       "   연령대_30_유동인구_수  연령대_40_유동인구_수  연령대_50_유동인구_수  연령대_60_이상_유동인구_수  총_상주인구_수  \\\n",
       "0         235924         168800         157170             99228      1577   \n",
       "1          77450          55264          50952             24502      1457   \n",
       "2         100744          91333          71406             32198      1241   \n",
       "\n",
       "   ...      주중_매출_금액      주말_매출_금액  주중_매출_건수  주말_매출_건수      남성_매출_금액  \\\n",
       "0  ...  4.821905e+10  2.646531e+10   2571027   1394990  3.380276e+10   \n",
       "1  ...  4.232019e+09  1.922581e+09    327711    160862  3.102697e+09   \n",
       "2  ...  4.643661e+09  2.334446e+09    363927    165091  4.002332e+09   \n",
       "\n",
       "   남성_매출_건수      여성_매출_금액  여성_매출_건수  점포수   임대료  \n",
       "0   1784205  3.800171e+10   2117802  712  50.2  \n",
       "1    262604  2.483960e+09    209923  164  50.2  \n",
       "2    327271  2.345138e+09    186702  166  50.2  \n",
       "\n",
       "[3 rows x 69 columns]"
      ]
     },
     "execution_count": 3,
     "metadata": {},
     "output_type": "execute_result"
    }
   ],
   "source": [
    "x_row = df.iloc[:, :-1]\n",
    "y_row = df.iloc[:, -1:]\n",
    "x_row.head(3)"
   ]
  },
  {
   "cell_type": "code",
   "execution_count": 4,
   "metadata": {},
   "outputs": [],
   "source": [
    "scaler = preprocessing.MinMaxScaler(feature_range= (0, 1))"
   ]
  },
  {
   "cell_type": "code",
   "execution_count": 5,
   "metadata": {},
   "outputs": [],
   "source": [
    "x_std = scaler.fit_transform(x_row)\n",
    "y_std = scaler.fit_transform(y_row)"
   ]
  },
  {
   "cell_type": "code",
   "execution_count": 6,
   "metadata": {},
   "outputs": [],
   "source": [
    "X_train, X_test, y_train, y_test = train_test_split(x_std, y_std, random_state= seed)"
   ]
  },
  {
   "cell_type": "code",
   "execution_count": 7,
   "metadata": {},
   "outputs": [
    {
     "name": "stdout",
     "output_type": "stream",
     "text": [
      "X_train.shape :  (4329, 69) y_train.shape :  (4329, 1)\n",
      "X_test.shape :  (1443, 69) y_test.shape :  (1443, 1)\n"
     ]
    }
   ],
   "source": [
    "print('X_train.shape : ', X_train.shape, 'y_train.shape : ', y_train.shape)\n",
    "print('X_test.shape : ', X_test.shape, 'y_test.shape : ', y_test.shape)"
   ]
  },
  {
   "cell_type": "code",
   "execution_count": 8,
   "metadata": {},
   "outputs": [
    {
     "name": "stdout",
     "output_type": "stream",
     "text": [
      "WARNING:tensorflow:From C:\\ProgramData\\Anaconda3\\lib\\site-packages\\keras\\backend\\tensorflow_backend.py:422: The name tf.global_variables is deprecated. Please use tf.compat.v1.global_variables instead.\n",
      "\n"
     ]
    },
    {
     "data": {
      "text/plain": [
       "<keras.callbacks.callbacks.History at 0x107d60b8>"
      ]
     },
     "execution_count": 8,
     "metadata": {},
     "output_type": "execute_result"
    }
   ],
   "source": [
    "model = Sequential()\n",
    "model.add(Dense(512, input_dim= X_train.shape[1], activation= 'relu'))\n",
    "model.add(Dense(256, activation= 'relu'))\n",
    "model.add(Dense(256, activation= 'relu'))\n",
    "model.add(Dense(64, activation= 'relu'))\n",
    "model.add(Dense(8, activation= 'relu'))\n",
    "model.add(Dense(1))\n",
    "\n",
    "model.compile(loss= 'mean_squared_error',\n",
    "              optimizer= 'adam',\n",
    "              metrics= ['accuracy'])\n",
    "\n",
    "early_stopping_callback = EarlyStopping(monitor= 'val_loss', patience= 100)\n",
    "\n",
    "model.fit(X_train, y_train, validation_split= 0.15,\n",
    "          epochs= 3000, batch_size= 300, verbose= 0,\n",
    "          callbacks= [early_stopping_callback])"
   ]
  },
  {
   "cell_type": "code",
   "execution_count": 9,
   "metadata": {},
   "outputs": [],
   "source": [
    "Y_prediction = model.predict(X_test)"
   ]
  },
  {
   "cell_type": "code",
   "execution_count": 10,
   "metadata": {},
   "outputs": [],
   "source": [
    "Y_prediction_ = scaler.inverse_transform(Y_prediction)\n",
    "y_test_ = scaler.inverse_transform(y_test)"
   ]
  },
  {
   "cell_type": "code",
   "execution_count": 11,
   "metadata": {},
   "outputs": [
    {
     "name": "stdout",
     "output_type": "stream",
     "text": [
      "step : 0 ==> Real :  7.300\t====> pred :  6.131\terror : ====>  1.169\n",
      "step : 1 ==> Real :  2.100\t====> pred :  0.651\terror : ====>  1.449\n",
      "step : 2 ==> Real :  8.600\t====> pred :  8.792\terror : ====> -0.192\n",
      "step : 3 ==> Real :  0.500\t====> pred :  1.615\terror : ====> -1.115\n",
      "step : 4 ==> Real : 18.500\t====> pred : 18.551\terror : ====> -0.051\n",
      "step : 5 ==> Real :  4.700\t====> pred :  7.154\terror : ====> -2.454\n",
      "step : 6 ==> Real : 21.600\t====> pred : 20.399\terror : ====>  1.201\n",
      "step : 7 ==> Real :  6.000\t====> pred :  3.183\terror : ====>  2.817\n",
      "step : 8 ==> Real :  4.500\t====> pred :  5.870\terror : ====> -1.370\n",
      "step : 9 ==> Real :  8.900\t====> pred :  8.890\terror : ====>  0.010\n"
     ]
    }
   ],
   "source": [
    "for i in range(10):\n",
    "    label = y_test_[i, 0]\n",
    "    prediction = Y_prediction_[i, 0]\n",
    "    print('step :', i, '==> Real : {:6.3f}\\t====> pred : {:6.3f}\\terror : ====> {:6.3f}'.\n",
    "          format(label, prediction, label - prediction))"
   ]
  },
  {
   "cell_type": "code",
   "execution_count": 12,
   "metadata": {},
   "outputs": [],
   "source": [
    "Y_pred = pd.DataFrame(Y_prediction_)\n",
    "Y_real = pd.DataFrame(y_test_)"
   ]
  },
  {
   "cell_type": "code",
   "execution_count": 13,
   "metadata": {},
   "outputs": [
    {
     "data": {
      "text/html": [
       "<div>\n",
       "<style scoped>\n",
       "    .dataframe tbody tr th:only-of-type {\n",
       "        vertical-align: middle;\n",
       "    }\n",
       "\n",
       "    .dataframe tbody tr th {\n",
       "        vertical-align: top;\n",
       "    }\n",
       "\n",
       "    .dataframe thead th {\n",
       "        text-align: right;\n",
       "    }\n",
       "</style>\n",
       "<table border=\"1\" class=\"dataframe\">\n",
       "  <thead>\n",
       "    <tr style=\"text-align: right;\">\n",
       "      <th></th>\n",
       "      <th>Y_pred</th>\n",
       "      <th>Y_real</th>\n",
       "      <th>Mean</th>\n",
       "    </tr>\n",
       "  </thead>\n",
       "  <tbody>\n",
       "    <tr>\n",
       "      <th>count</th>\n",
       "      <td>1443.000000</td>\n",
       "      <td>1443.000000</td>\n",
       "      <td>1443.000000</td>\n",
       "    </tr>\n",
       "    <tr>\n",
       "      <th>mean</th>\n",
       "      <td>7.693733</td>\n",
       "      <td>8.019335</td>\n",
       "      <td>1.572906</td>\n",
       "    </tr>\n",
       "    <tr>\n",
       "      <th>std</th>\n",
       "      <td>4.158426</td>\n",
       "      <td>4.582779</td>\n",
       "      <td>1.640337</td>\n",
       "    </tr>\n",
       "    <tr>\n",
       "      <th>min</th>\n",
       "      <td>0.223246</td>\n",
       "      <td>0.200000</td>\n",
       "      <td>0.003892</td>\n",
       "    </tr>\n",
       "    <tr>\n",
       "      <th>25%</th>\n",
       "      <td>4.724381</td>\n",
       "      <td>4.600000</td>\n",
       "      <td>0.431659</td>\n",
       "    </tr>\n",
       "    <tr>\n",
       "      <th>50%</th>\n",
       "      <td>6.946983</td>\n",
       "      <td>7.300000</td>\n",
       "      <td>1.036172</td>\n",
       "    </tr>\n",
       "    <tr>\n",
       "      <th>75%</th>\n",
       "      <td>9.890424</td>\n",
       "      <td>10.950000</td>\n",
       "      <td>2.116720</td>\n",
       "    </tr>\n",
       "    <tr>\n",
       "      <th>max</th>\n",
       "      <td>21.723467</td>\n",
       "      <td>24.300000</td>\n",
       "      <td>11.688733</td>\n",
       "    </tr>\n",
       "  </tbody>\n",
       "</table>\n",
       "</div>"
      ],
      "text/plain": [
       "            Y_pred       Y_real         Mean\n",
       "count  1443.000000  1443.000000  1443.000000\n",
       "mean      7.693733     8.019335     1.572906\n",
       "std       4.158426     4.582779     1.640337\n",
       "min       0.223246     0.200000     0.003892\n",
       "25%       4.724381     4.600000     0.431659\n",
       "50%       6.946983     7.300000     1.036172\n",
       "75%       9.890424    10.950000     2.116720\n",
       "max      21.723467    24.300000    11.688733"
      ]
     },
     "execution_count": 13,
     "metadata": {},
     "output_type": "execute_result"
    }
   ],
   "source": [
    "result = pd.DataFrame()\n",
    "result['Y_pred'] = Y_pred.values.flatten()\n",
    "result['Y_real'] = Y_real.values.flatten()\n",
    "result['Mean'] = Y_real - Y_pred\n",
    "result['Mean'] = result['Mean'].abs()\n",
    "result.describe()"
   ]
  }
 ],
 "metadata": {
  "kernelspec": {
   "display_name": "Python 3",
   "language": "python",
   "name": "python3"
  },
  "language_info": {
   "codemirror_mode": {
    "name": "ipython",
    "version": 3
   },
   "file_extension": ".py",
   "mimetype": "text/x-python",
   "name": "python",
   "nbconvert_exporter": "python",
   "pygments_lexer": "ipython3",
   "version": "3.7.3"
  }
 },
 "nbformat": 4,
 "nbformat_minor": 2
}
