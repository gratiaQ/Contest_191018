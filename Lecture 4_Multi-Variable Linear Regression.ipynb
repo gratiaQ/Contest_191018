{
 "cells": [
  {
   "cell_type": "code",
   "execution_count": 1,
   "metadata": {},
   "outputs": [],
   "source": [
    "import tensorflow as tf\n",
    "tf.set_random_seed(777)  # for reproducibility\n",
    "\n",
    "x1_data = [73., 93., 89., 96., 73.]\n",
    "x2_data = [80., 88., 91., 98., 66.]\n",
    "x3_data = [75., 93., 90., 100., 70.]\n",
    "\n",
    "y_data = [152., 185., 180., 196., 142.]"
   ]
  },
  {
   "cell_type": "code",
   "execution_count": 2,
   "metadata": {},
   "outputs": [],
   "source": [
    "x1 = tf.placeholder(tf.float32)\n",
    "x2 = tf.placeholder(tf.float32)\n",
    "x3 = tf.placeholder(tf.float32)"
   ]
  },
  {
   "cell_type": "code",
   "execution_count": 3,
   "metadata": {},
   "outputs": [],
   "source": [
    "Y = tf.placeholder(tf.float32)"
   ]
  },
  {
   "cell_type": "code",
   "execution_count": 4,
   "metadata": {},
   "outputs": [],
   "source": [
    "w1 = tf.Variable(tf.random_normal([1]), name= 'weight1')\n",
    "w2 = tf.Variable(tf.random_normal([1]), name= 'weight2')\n",
    "w3 = tf.Variable(tf.random_normal([1]), name= 'weight3')\n",
    "b = tf.Variable(tf.random_normal([1]), name= 'bias')"
   ]
  },
  {
   "cell_type": "code",
   "execution_count": 5,
   "metadata": {},
   "outputs": [],
   "source": [
    "hypothesis = x1 * w1 + x2 * w2 + x3 * w3 + b"
   ]
  },
  {
   "cell_type": "code",
   "execution_count": 6,
   "metadata": {},
   "outputs": [],
   "source": [
    "cost = tf.reduce_mean(tf.square(hypothesis - Y))"
   ]
  },
  {
   "cell_type": "code",
   "execution_count": 7,
   "metadata": {},
   "outputs": [],
   "source": [
    "optimizer = tf.train.GradientDescentOptimizer(learning_rate= 1e-5)\n",
    "train = optimizer.minimize(cost)"
   ]
  },
  {
   "cell_type": "code",
   "execution_count": 8,
   "metadata": {},
   "outputs": [
    {
     "name": "stdout",
     "output_type": "stream",
     "text": [
      "0 cost : 62547.3\n",
      "prediction: [-75.963455 -78.27629  -83.83015  -90.80437  -56.976486]\n",
      "100 cost : 13.247144\n",
      "prediction: [146.06378 188.31448 178.98654 195.37897 146.31259]\n",
      "200 cost : 12.562169\n",
      "prediction: [146.20277 188.21931 179.02931 195.4085  146.1889 ]\n",
      "300 cost : 11.913313\n",
      "prediction: [146.33807 188.1267  179.07094 195.4372  146.06854]\n",
      "400 cost : 11.298648\n",
      "prediction: [146.46979 188.03654 179.11147 195.46513 145.95143]\n",
      "500 cost : 10.71641\n",
      "prediction: [146.59799 187.94882 179.15094 195.49228 145.83746]\n",
      "600 cost : 10.164865\n",
      "prediction: [146.72278 187.86342 179.18935 195.51869 145.72656]\n",
      "700 cost : 9.642377\n",
      "prediction: [146.84425 187.78029 179.22676 195.54436 145.61865]\n",
      "800 cost : 9.147448\n",
      "prediction: [146.96248 187.69937 179.26315 195.5693  145.51363]\n",
      "900 cost : 8.678604\n",
      "prediction: [147.07758 187.6206  179.29858 195.59357 145.41145]\n",
      "1000 cost : 8.234499\n",
      "prediction: [147.18959 187.54395 179.33307 195.61714 145.31201]\n",
      "1100 cost : 7.8137712\n",
      "prediction: [147.29865 187.46933 179.36667 195.64008 145.21526]\n",
      "1200 cost : 7.415221\n",
      "prediction: [147.4048  187.3967  179.39937 195.66235 145.12111]\n",
      "1300 cost : 7.037677\n",
      "prediction: [147.50813 187.326   179.4312  195.68402 145.0295 ]\n",
      "1400 cost : 6.680065\n",
      "prediction: [147.60869 187.25719 179.46219 195.70506 144.94034]\n",
      "1500 cost : 6.3412395\n",
      "prediction: [147.70662 187.1902  179.49237 195.72552 144.8536 ]\n",
      "1600 cost : 6.0203257\n",
      "prediction: [147.80191 187.12502 179.52174 195.74542 144.7692 ]\n",
      "1700 cost : 5.7163043\n",
      "prediction: [147.89468 187.06155 179.55034 195.76476 144.68707]\n",
      "1800 cost : 5.428285\n",
      "prediction: [147.98499 186.99977 179.57819 195.78354 144.60715]\n",
      "1900 cost : 5.1554637\n",
      "prediction: [148.07289 186.93965 179.60529 195.8018  144.52939]\n",
      "2000 cost : 4.897023\n",
      "prediction: [148.15846 186.88113 179.63168 195.81953 144.45374]\n"
     ]
    }
   ],
   "source": [
    "with tf.Session() as sess:\n",
    "    sess.run(tf.global_variables_initializer())\n",
    "    for step in range(2001):\n",
    "        cost_val, hy_val, _ = sess.run([cost, hypothesis, train],\n",
    "                                      feed_dict= {x1: x1_data,\n",
    "                                                 x2: x2_data,\n",
    "                                                 x3: x3_data,\n",
    "                                                 Y: y_data})\n",
    "        if step % 100 == 0:\n",
    "            print(step, 'cost :', cost_val)\n",
    "            print('prediction:', hy_val)"
   ]
  },
  {
   "cell_type": "code",
   "execution_count": 9,
   "metadata": {},
   "outputs": [],
   "source": [
    "import tensorflow as tf\n",
    "tf.set_random_seed(777)  # for reproducibility\n",
    "\n",
    "x_data = [[73., 80., 75.],\n",
    "          [93., 88., 93.],\n",
    "          [89., 91., 90.],\n",
    "          [96., 98., 100.],\n",
    "          [73., 66., 70.]]\n",
    "y_data = [[152.],\n",
    "          [185.],\n",
    "          [180.],\n",
    "          [196.],\n",
    "          [142.]]"
   ]
  },
  {
   "cell_type": "code",
   "execution_count": 10,
   "metadata": {},
   "outputs": [],
   "source": [
    "# placeholders for a tensor that will be always fed.\n",
    "X = tf.placeholder(tf.float32, shape= [None, 3])\n",
    "Y = tf.placeholder(tf.float32, shape= [None, 1])\n",
    "\n",
    "W = tf.Variable(tf.random_normal([3, 1]), name= 'weight')\n",
    "b = tf.Variable(tf.random_normal([1]), name= 'bias')\n",
    "\n",
    "#Hypothesis\n",
    "hypothesis = tf.matmul(X, W) + b"
   ]
  },
  {
   "cell_type": "code",
   "execution_count": 11,
   "metadata": {},
   "outputs": [],
   "source": [
    "cost = tf.reduce_mean(tf.square(hypothesis - Y))\n",
    "optimizer = tf.train.GradientDescentOptimizer(learning_rate= 1e-5)\n",
    "train = optimizer.minimize(cost)"
   ]
  },
  {
   "cell_type": "code",
   "execution_count": 12,
   "metadata": {},
   "outputs": [
    {
     "name": "stdout",
     "output_type": "stream",
     "text": [
      "0 cost : 126121.586\n",
      "Prediction: [[-159.22546]\n",
      " [-197.2163 ]\n",
      " [-191.33363]\n",
      " [-208.02669]\n",
      " [-152.1618 ]]\n",
      "100 cost : 12.159124\n",
      "Prediction: [[155.73917]\n",
      " [181.59718]\n",
      " [181.78825]\n",
      " [198.30481]\n",
      " [136.83037]]\n",
      "200 cost : 11.551899\n",
      "Prediction: [[155.61072]\n",
      " [181.68556]\n",
      " [181.74934]\n",
      " [198.27315]\n",
      " [136.94933]]\n",
      "300 cost : 10.976579\n",
      "Prediction: [[155.48576]\n",
      " [181.7716 ]\n",
      " [181.7115 ]\n",
      " [198.2423 ]\n",
      " [137.06516]]\n",
      "400 cost : 10.4315\n",
      "Prediction: [[155.36417]\n",
      " [181.85529]\n",
      " [181.6747 ]\n",
      " [198.21217]\n",
      " [137.17793]]\n",
      "500 cost : 9.915064\n",
      "Prediction: [[155.2459 ]\n",
      " [181.93675]\n",
      " [181.63889]\n",
      " [198.18283]\n",
      " [137.28775]]\n",
      "600 cost : 9.425737\n",
      "Prediction: [[155.13078]\n",
      " [182.01599]\n",
      " [181.60406]\n",
      " [198.15417]\n",
      " [137.39467]]\n",
      "700 cost : 8.9621105\n",
      "Prediction: [[155.01881]\n",
      " [182.09311]\n",
      " [181.57019]\n",
      " [198.12622]\n",
      " [137.49878]]\n",
      "800 cost : 8.522848\n",
      "Prediction: [[154.90987]\n",
      " [182.16812]\n",
      " [181.53726]\n",
      " [198.09895]\n",
      " [137.60016]]\n",
      "900 cost : 8.1065855\n",
      "Prediction: [[154.80386]\n",
      " [182.24115]\n",
      " [181.50522]\n",
      " [198.07234]\n",
      " [137.69887]]\n",
      "1000 cost : 7.712208\n",
      "Prediction: [[154.70074]\n",
      " [182.3122 ]\n",
      " [181.47406]\n",
      " [198.04639]\n",
      " [137.79498]]\n",
      "1100 cost : 7.338505\n",
      "Prediction: [[154.60042]\n",
      " [182.3813 ]\n",
      " [181.44374]\n",
      " [198.02104]\n",
      " [137.88858]]\n",
      "1200 cost : 6.9844093\n",
      "Prediction: [[154.5028 ]\n",
      " [182.44856]\n",
      " [181.41429]\n",
      " [197.99632]\n",
      " [137.97972]]\n",
      "1300 cost : 6.648852\n",
      "Prediction: [[154.40785]\n",
      " [182.514  ]\n",
      " [181.38562]\n",
      " [197.9722 ]\n",
      " [138.06848]]\n",
      "1400 cost : 6.330912\n",
      "Prediction: [[154.31548]\n",
      " [182.57768]\n",
      " [181.35774]\n",
      " [197.94864]\n",
      " [138.15489]]\n",
      "1500 cost : 6.029587\n",
      "Prediction: [[154.2256 ]\n",
      " [182.63965]\n",
      " [181.33066]\n",
      " [197.92566]\n",
      " [138.23907]]\n",
      "1600 cost : 5.7440596\n",
      "Prediction: [[154.13815]\n",
      " [182.69992]\n",
      " [181.30428]\n",
      " [197.9032 ]\n",
      " [138.32101]]\n",
      "1700 cost : 5.473499\n",
      "Prediction: [[154.0531 ]\n",
      " [182.75859]\n",
      " [181.27867]\n",
      " [197.88132]\n",
      " [138.40083]]\n",
      "1800 cost : 5.2170744\n",
      "Prediction: [[153.97035]\n",
      " [182.81564]\n",
      " [181.25372]\n",
      " [197.85992]\n",
      " [138.47856]]\n",
      "1900 cost : 4.9740996\n",
      "Prediction: [[153.88986]\n",
      " [182.87119]\n",
      " [181.22952]\n",
      " [197.83908]\n",
      " [138.55426]]\n",
      "2000 cost : 4.743808\n",
      "Prediction: [[153.81155]\n",
      " [182.9252 ]\n",
      " [181.20593]\n",
      " [197.81868]\n",
      " [138.62796]]\n"
     ]
    }
   ],
   "source": [
    "with tf.Session() as sess:\n",
    "    sess.run(tf.global_variables_initializer())\n",
    "    \n",
    "    for step in range(2001):\n",
    "        cost_val, hy_val, _ = sess.run([cost, hypothesis, train],\n",
    "                                      feed_dict= {X: x_data,\n",
    "                                                 Y: y_data})\n",
    "        if step % 100 == 0:\n",
    "            print(step, 'cost :', cost_val)\n",
    "            print('Prediction:', hy_val)"
   ]
  },
  {
   "cell_type": "code",
   "execution_count": 61,
   "metadata": {},
   "outputs": [],
   "source": [
    "import numpy as np\n",
    "import tensorflow as tf"
   ]
  },
  {
   "cell_type": "code",
   "execution_count": 48,
   "metadata": {},
   "outputs": [],
   "source": [
    "xy = np.loadtxt('DeepLearningZeroToAll-master/data-01-test-score.csv',\n",
    "               delimiter= ',',\n",
    "               dtype= np.float32)"
   ]
  },
  {
   "cell_type": "code",
   "execution_count": 49,
   "metadata": {},
   "outputs": [],
   "source": [
    "x_data = xy[:, 0: -1]\n",
    "y_data = xy[:, [-1]]"
   ]
  },
  {
   "cell_type": "code",
   "execution_count": 50,
   "metadata": {},
   "outputs": [
    {
     "name": "stdout",
     "output_type": "stream",
     "text": [
      "(25, 3) 25\n",
      "(25, 1) 25\n"
     ]
    }
   ],
   "source": [
    "print(x_data.shape, len(x_data))\n",
    "print(y_data.shape, len(y_data))"
   ]
  },
  {
   "cell_type": "code",
   "execution_count": 51,
   "metadata": {},
   "outputs": [],
   "source": [
    "X = tf.placeholder(tf.float32, shape= [None, 3])\n",
    "Y = tf.placeholder(tf.float32, shape= [None, 1])"
   ]
  },
  {
   "cell_type": "code",
   "execution_count": 52,
   "metadata": {},
   "outputs": [],
   "source": [
    "W = tf.Variable(tf.random_normal([3, 1]), name= 'weight')\n",
    "b = tf.Variable(tf.random_normal([1]), name= 'bias')"
   ]
  },
  {
   "cell_type": "code",
   "execution_count": 53,
   "metadata": {},
   "outputs": [],
   "source": [
    "hypothesis = tf.matmul(X, W) + b"
   ]
  },
  {
   "cell_type": "code",
   "execution_count": 54,
   "metadata": {},
   "outputs": [],
   "source": [
    "cost = tf.reduce_mean(tf.square(hypothesis - Y))\n",
    "optimizer = tf.train.GradientDescentOptimizer(learning_rate= 1e-5)\n",
    "train = optimizer.minimize(cost)"
   ]
  },
  {
   "cell_type": "code",
   "execution_count": 2,
   "metadata": {},
   "outputs": [
    {
     "ename": "NameError",
     "evalue": "name 'tf' is not defined",
     "output_type": "error",
     "traceback": [
      "\u001b[1;31m---------------------------------------------------------------------------\u001b[0m",
      "\u001b[1;31mNameError\u001b[0m                                 Traceback (most recent call last)",
      "\u001b[1;32m<ipython-input-2-484097672f3f>\u001b[0m in \u001b[0;36m<module>\u001b[1;34m\u001b[0m\n\u001b[1;32m----> 1\u001b[1;33m \u001b[1;32mwith\u001b[0m \u001b[0mtf\u001b[0m\u001b[1;33m.\u001b[0m\u001b[0mSession\u001b[0m\u001b[1;33m(\u001b[0m\u001b[1;33m)\u001b[0m \u001b[1;32mas\u001b[0m \u001b[0msess\u001b[0m\u001b[1;33m:\u001b[0m\u001b[1;33m\u001b[0m\u001b[1;33m\u001b[0m\u001b[0m\n\u001b[0m\u001b[0;32m      2\u001b[0m     \u001b[0msess\u001b[0m\u001b[1;33m.\u001b[0m\u001b[0mrun\u001b[0m\u001b[1;33m(\u001b[0m\u001b[0mtf\u001b[0m\u001b[1;33m.\u001b[0m\u001b[0mglobal_variables_initializer\u001b[0m\u001b[1;33m(\u001b[0m\u001b[1;33m)\u001b[0m\u001b[1;33m)\u001b[0m\u001b[1;33m\u001b[0m\u001b[1;33m\u001b[0m\u001b[0m\n\u001b[0;32m      3\u001b[0m \u001b[1;33m\u001b[0m\u001b[0m\n\u001b[0;32m      4\u001b[0m     \u001b[1;32mfor\u001b[0m \u001b[0mstep\u001b[0m \u001b[1;32min\u001b[0m \u001b[0mrange\u001b[0m\u001b[1;33m(\u001b[0m\u001b[1;36m2001\u001b[0m\u001b[1;33m)\u001b[0m\u001b[1;33m:\u001b[0m\u001b[1;33m\u001b[0m\u001b[1;33m\u001b[0m\u001b[0m\n\u001b[0;32m      5\u001b[0m         cost_val, hy_val, _ = sess.run([cost, hypothesis, train],\n",
      "\u001b[1;31mNameError\u001b[0m: name 'tf' is not defined"
     ]
    }
   ],
   "source": [
    "with tf.Session() as sess:\n",
    "    sess.run(tf.global_variables_initializer())\n",
    "    \n",
    "    for step in range(2001):\n",
    "        cost_val, hy_val, _ = sess.run([cost, hypothesis, train],\n",
    "                                      feed_dict= {X: x_data,\n",
    "                                                 Y: y_data})\n",
    "    print('Your score will be :', sess.run(hypothesis, feed_dict={X: x_test}))"
   ]
  },
  {
   "cell_type": "code",
   "execution_count": null,
   "metadata": {},
   "outputs": [],
   "source": [
    "prediction = tf.math.argmax(hypothesis, 1)"
   ]
  }
 ],
 "metadata": {
  "kernelspec": {
   "display_name": "Python 3",
   "language": "python",
   "name": "python3"
  },
  "language_info": {
   "codemirror_mode": {
    "name": "ipython",
    "version": 3
   },
   "file_extension": ".py",
   "mimetype": "text/x-python",
   "name": "python",
   "nbconvert_exporter": "python",
   "pygments_lexer": "ipython3",
   "version": "3.7.3"
  }
 },
 "nbformat": 4,
 "nbformat_minor": 2
}
